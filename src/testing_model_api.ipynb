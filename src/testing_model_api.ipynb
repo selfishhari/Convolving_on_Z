{
 "cells": [
  {
   "cell_type": "code",
   "execution_count": 1,
   "metadata": {
    "scrolled": true
   },
   "outputs": [
    {
     "name": "stderr",
     "output_type": "stream",
     "text": [
      "/home/fractaluser/anaconda3/envs/tensorflow/lib/python3.7/site-packages/tensorflow/python/framework/dtypes.py:526: FutureWarning: Passing (type, 1) or '1type' as a synonym of type is deprecated; in a future version of numpy, it will be understood as (type, (1,)) / '(1,)type'.\n",
      "  _np_qint8 = np.dtype([(\"qint8\", np.int8, 1)])\n",
      "/home/fractaluser/anaconda3/envs/tensorflow/lib/python3.7/site-packages/tensorflow/python/framework/dtypes.py:527: FutureWarning: Passing (type, 1) or '1type' as a synonym of type is deprecated; in a future version of numpy, it will be understood as (type, (1,)) / '(1,)type'.\n",
      "  _np_quint8 = np.dtype([(\"quint8\", np.uint8, 1)])\n",
      "/home/fractaluser/anaconda3/envs/tensorflow/lib/python3.7/site-packages/tensorflow/python/framework/dtypes.py:528: FutureWarning: Passing (type, 1) or '1type' as a synonym of type is deprecated; in a future version of numpy, it will be understood as (type, (1,)) / '(1,)type'.\n",
      "  _np_qint16 = np.dtype([(\"qint16\", np.int16, 1)])\n",
      "/home/fractaluser/anaconda3/envs/tensorflow/lib/python3.7/site-packages/tensorflow/python/framework/dtypes.py:529: FutureWarning: Passing (type, 1) or '1type' as a synonym of type is deprecated; in a future version of numpy, it will be understood as (type, (1,)) / '(1,)type'.\n",
      "  _np_quint16 = np.dtype([(\"quint16\", np.uint16, 1)])\n",
      "/home/fractaluser/anaconda3/envs/tensorflow/lib/python3.7/site-packages/tensorflow/python/framework/dtypes.py:530: FutureWarning: Passing (type, 1) or '1type' as a synonym of type is deprecated; in a future version of numpy, it will be understood as (type, (1,)) / '(1,)type'.\n",
      "  _np_qint32 = np.dtype([(\"qint32\", np.int32, 1)])\n",
      "/home/fractaluser/anaconda3/envs/tensorflow/lib/python3.7/site-packages/tensorflow/python/framework/dtypes.py:535: FutureWarning: Passing (type, 1) or '1type' as a synonym of type is deprecated; in a future version of numpy, it will be understood as (type, (1,)) / '(1,)type'.\n",
      "  np_resource = np.dtype([(\"resource\", np.ubyte, 1)])\n"
     ]
    }
   ],
   "source": [
    "import numpy as np\n",
    "\n",
    "import tensorflow as tf\n",
    "\n",
    "import numpy as np\n",
    "import time, math\n",
    "from tqdm import tqdm_notebook as tqdm\n",
    "\n",
    "\n",
    "import tensorflow.contrib.eager as tfe\n",
    "tf.enable_eager_execution()"
   ]
  },
  {
   "cell_type": "code",
   "execution_count": 2,
   "metadata": {},
   "outputs": [
    {
     "name": "stderr",
     "output_type": "stream",
     "text": [
      "Using TensorFlow backend.\n"
     ]
    },
    {
     "data": {
      "text/plain": [
       "<module 'data_pipeline' from '/home/fractaluser/Personal/Narahari/eva_research_team4/src/data_pipeline.py'>"
      ]
     },
     "execution_count": 2,
     "metadata": {},
     "output_type": "execute_result"
    }
   ],
   "source": [
    "from all_models import DavidNet\n",
    "\n",
    "import run_util\n",
    "\n",
    "\n",
    "from importlib import reload\n",
    "reload(run_util)\n",
    "\n",
    "from run_util import Run\n",
    "\n",
    "import data_pipeline\n",
    "\n",
    "reload(data_pipeline)"
   ]
  },
  {
   "cell_type": "code",
   "execution_count": 3,
   "metadata": {},
   "outputs": [
    {
     "name": "stdout",
     "output_type": "stream",
     "text": [
      "Downloading..\n",
      "Preprocessing..\n",
      "Saving..\n",
      "saving to numpy pickle\n"
     ]
    }
   ],
   "source": [
    "data_pipeline.get_data(dataset_name = \"CIFAR10\")"
   ]
  },
  {
   "cell_type": "code",
   "execution_count": 4,
   "metadata": {},
   "outputs": [],
   "source": [
    "x_train, y_train, x_test, y_test = data_pipeline.load_saved_numpy_data(\n",
    "    train_path=[\"../data/train/train_x.npy\",\"../data/train/train_y.npy\"],\n",
    "    test_path=[\"../data/test/test_x.npy\", \"../data/test/test_y.npy\"])"
   ]
  },
  {
   "cell_type": "code",
   "execution_count": 5,
   "metadata": {},
   "outputs": [],
   "source": [
    "BATCH_SIZE = 25 #@param {type:\"integer\"}\n",
    "MOMENTUM = 0.95 #@param {type:\"number\"}\n",
    "\n",
    "MIN_MOMENTUM = 0.8 #@param {type:\"number\"}\n",
    "LEARNING_RATE = 0.4 #@param {type:\"number\"}\n",
    "WEIGHT_DECAY = 5e-4 #@param {type:\"number\"}\n",
    "EPOCHS = 1 #@param {type:\"integer\"}\n",
    "\n",
    "\n",
    "MIN_LEARNING_RATE = 0.000001 #@param {type:\"number\"}\n",
    "\n",
    "END_LR_SMOOTHING_PERC = 0.15 #@param {type:\"number\"}\n",
    "\n",
    "COMMENTS = \"Integration tests\" #@param {type:\"string\"}\n",
    "\n",
    "\n",
    "params_tune = {\n",
    "    \n",
    "  \"epochs\":EPOCHS, \n",
    " \n",
    "  \"batch_size\" : BATCH_SIZE,\n",
    "\n",
    "  \"max_lr\": LEARNING_RATE,\n",
    "\n",
    "  \"min_lr\":MIN_LEARNING_RATE,\n",
    "\n",
    "  \"end_anneal_pc\":END_LR_SMOOTHING_PERC,\n",
    "\n",
    "  \"max_mom\":MOMENTUM,\n",
    " \n",
    "  \"min_mom\":MIN_MOMENTUM,\n",
    " \n",
    "  \"wd\":WEIGHT_DECAY,\n",
    "  \n",
    "  \"skip_testing_epochs\":0,\n",
    "    \n",
    "  \"batches_per_epoch\":100//BATCH_SIZE,\n",
    "    \n",
    "  \"comments\":COMMENTS\n",
    "}"
   ]
  },
  {
   "cell_type": "code",
   "execution_count": 6,
   "metadata": {},
   "outputs": [],
   "source": [
    "def tst_data_supplier(epoch_num):\n",
    "    \n",
    "    batch_size = params_tune[\"batch_size\"]\n",
    "    \n",
    "    global x_test\n",
    "  \n",
    "    global y_test\n",
    "  \n",
    "    len_test = x_test[0].shape[0]\n",
    "\n",
    "    test_set = tf.data.Dataset.from_tensor_slices((x_test[:30,:,:,:],\n",
    "                                                   y_test[:30])).batch(batch_size).prefetch(1)\n",
    "    \n",
    "    return (test_set, len_test)\n",
    "\n",
    "def trn_data_supplier(epoch_num):\n",
    "    \n",
    "    batch_size = params_tune[\"batch_size\"]\n",
    "  \n",
    "    global y_train\n",
    "    \n",
    "    global x_train\n",
    "    \n",
    "    len_test = x_train[0].shape[0]\n",
    "\n",
    "    test_set = tf.data.Dataset.from_tensor_slices((x_train[:50,:,:,:], \n",
    "                                        y_train[:50])).batch(batch_size).prefetch(1)\n",
    "    \n",
    "    return (test_set, len_test)"
   ]
  },
  {
   "cell_type": "code",
   "execution_count": 7,
   "metadata": {},
   "outputs": [],
   "source": [
    "model_fn = DavidNet\n",
    "\n",
    "obj = Run()"
   ]
  },
  {
   "cell_type": "code",
   "execution_count": 8,
   "metadata": {
    "scrolled": true
   },
   "outputs": [
    {
     "name": "stdout",
     "output_type": "stream",
     "text": [
      "****training starts****\n"
     ]
    },
    {
     "data": {
      "application/vnd.jupyter.widget-view+json": {
       "model_id": "4bd328f37ff74ba0a1c03469966d46f3",
       "version_major": 2,
       "version_minor": 0
      },
      "text/plain": [
       "HBox(children=(IntProgress(value=0, max=1), HTML(value='')))"
      ]
     },
     "metadata": {},
     "output_type": "display_data"
    },
    {
     "name": "stdout",
     "output_type": "stream",
     "text": [
      "WARNING:tensorflow:From /home/fractaluser/anaconda3/envs/tensorflow/lib/python3.7/site-packages/tensorflow/python/data/ops/iterator_ops.py:532: colocate_with (from tensorflow.python.framework.ops) is deprecated and will be removed in a future version.\n",
      "Instructions for updating:\n",
      "Colocations handled automatically by placer.\n",
      "WARNING:tensorflow:From /home/fractaluser/anaconda3/envs/tensorflow/lib/python3.7/site-packages/tensorflow/python/ops/math_grad.py:102: div (from tensorflow.python.ops.math_ops) is deprecated and will be removed in a future version.\n",
      "Instructions for updating:\n",
      "Deprecated in favor of operator or tf.math.divide.\n",
      "epoch: 1 lr: 0.020000500000000004 train loss: 3.716 train acc:0.219 val loss: 2.164 val acc: 0.000 time:34.590\n",
      "\n",
      "   total_model_parameters  epochs  batch_size  max_lr    min_lr  anneal_perc  \\\n",
      "0                  343264       1          25     0.4  0.000001         0.15   \n",
      "\n",
      "   max_mom  min_mom  time_taken  train_acc  test_acc      wd  train_loss  \\\n",
      "0     0.95      0.8   34.593389    0.21875       0.0  0.0005     3.71582   \n",
      "\n",
      "   test_loss                                               runs  \\\n",
      "0   2.163574  {'epoch': [1], 'time': [34.590840101242065], '...   \n",
      "\n",
      "              log_time           comments  \n",
      "0  2019-09-01 07:52:06  Integration tests  \n"
     ]
    }
   ],
   "source": [
    "x = obj.run(model_fn, params_tune, trn_data_supplier, tst_data_supplier)"
   ]
  },
  {
   "cell_type": "code",
   "execution_count": 9,
   "metadata": {
    "scrolled": true
   },
   "outputs": [
    {
     "name": "stderr",
     "output_type": "stream",
     "text": [
      "Clipping input data to the valid range for imshow with RGB data ([0..1] for floats or [0..255] for integers).\n",
      "Clipping input data to the valid range for imshow with RGB data ([0..1] for floats or [0..255] for integers).\n",
      "Clipping input data to the valid range for imshow with RGB data ([0..1] for floats or [0..255] for integers).\n",
      "Clipping input data to the valid range for imshow with RGB data ([0..1] for floats or [0..255] for integers).\n",
      "Clipping input data to the valid range for imshow with RGB data ([0..1] for floats or [0..255] for integers).\n",
      "Clipping input data to the valid range for imshow with RGB data ([0..1] for floats or [0..255] for integers).\n",
      "Clipping input data to the valid range for imshow with RGB data ([0..1] for floats or [0..255] for integers).\n",
      "Clipping input data to the valid range for imshow with RGB data ([0..1] for floats or [0..255] for integers).\n",
      "Clipping input data to the valid range for imshow with RGB data ([0..1] for floats or [0..255] for integers).\n",
      "Clipping input data to the valid range for imshow with RGB data ([0..1] for floats or [0..255] for integers).\n"
     ]
    },
    {
     "data": {
      "image/png": "[encoded data removed]",
      "text/plain": [
       "<Figure size 864x864 with 10 Axes>"
      ]
     },
     "metadata": {},
     "output_type": "display_data"
    }
   ],
   "source": [
    "obj.show_missclassified_images(num_images=10, tst_data_supplier=tst_data_supplier)"
   ]
  },
  {
   "cell_type": "code",
   "execution_count": 10,
   "metadata": {
    "scrolled": false
   },
   "outputs": [
    {
     "data": {
      "image/png": "[encoded data removed]",
      "text/plain": [
       "<Figure size 720x504 with 2 Axes>"
      ]
     },
     "metadata": {
      "needs_background": "light"
     },
     "output_type": "display_data"
    }
   ],
   "source": [
    "obj.plot_confusion_matrix(tst_data_supplier=tst_data_supplier)"
   ]
  },
  {
   "cell_type": "markdown",
   "metadata": {},
   "source": [
    "### LR Finder"
   ]
  },
  {
   "cell_type": "markdown",
   "metadata": {},
   "source": [
    "Creating a separate data supplier for lr finder"
   ]
  },
  {
   "cell_type": "code",
   "execution_count": 11,
   "metadata": {},
   "outputs": [],
   "source": [
    "def tst_data_supplier_lr(epoch, test_num_batches=2):\n",
    " \n",
    "    batch_size = params_tune[\"batch_size\"]\n",
    "    \n",
    "    global x_test\n",
    "  \n",
    "    global y_test\n",
    "  \n",
    "    sample_idx = np.random.choice(y_test.size, test_num_batches * batch_size, replace=False)\n",
    "\n",
    "    x_test_lr = x_test[sample_idx, :, :, :]\n",
    "\n",
    "    y_test_lr = y_test[sample_idx]\n",
    "    \n",
    "    len_test = x_test_lr[0].shape[0]\n",
    "\n",
    "    test_set = tf.data.Dataset.from_tensor_slices((x_test_lr,\n",
    "                                                   y_test_lr)).batch(batch_size).prefetch(1)\n",
    "\n",
    "    return (test_set, len_test)\n",
    "\n",
    "def trn_data_supplier_lr(epoch, train_num_batches=2):\n",
    " \n",
    "    batch_size = params_tune[\"batch_size\"]\n",
    "    \n",
    "    global x_train\n",
    "  \n",
    "    global y_train\n",
    "  \n",
    "    sample_idx = np.random.choice(y_train.size, train_num_batches * batch_size, replace=False)\n",
    "\n",
    "    x_train_lr = x_train[sample_idx, :, :, :]\n",
    "\n",
    "    y_train_lr = y_train[sample_idx]\n",
    "    \n",
    "    len_train = x_train_lr[0].shape[0]\n",
    "\n",
    "    train_set = tf.data.Dataset.from_tensor_slices((x_train_lr,\n",
    "                                                   y_train_lr)).batch(batch_size).prefetch(1)\n",
    "\n",
    "    return (train_set, len_train)"
   ]
  },
  {
   "cell_type": "code",
   "execution_count": 12,
   "metadata": {
    "scrolled": true
   },
   "outputs": [
    {
     "name": "stdout",
     "output_type": "stream",
     "text": [
      "running lr_finder\n"
     ]
    },
    {
     "data": {
      "application/vnd.jupyter.widget-view+json": {
       "model_id": "69f715b7739148179fb84081a8556f76",
       "version_major": 2,
       "version_minor": 0
      },
      "text/plain": [
       "HBox(children=(IntProgress(value=0, max=3), HTML(value='')))"
      ]
     },
     "metadata": {},
     "output_type": "display_data"
    },
    {
     "name": "stdout",
     "output_type": "stream",
     "text": [
      "1\n",
      "****training starts****\n"
     ]
    },
    {
     "data": {
      "application/vnd.jupyter.widget-view+json": {
       "model_id": "39dd1182d62346749ed1caab19711ff1",
       "version_major": 2,
       "version_minor": 0
      },
      "text/plain": [
       "HBox(children=(IntProgress(value=0, max=1), HTML(value='')))"
      ]
     },
     "metadata": {},
     "output_type": "display_data"
    },
    {
     "name": "stdout",
     "output_type": "stream",
     "text": [
      "\n",
      "2\n",
      "****training starts****\n"
     ]
    },
    {
     "data": {
      "application/vnd.jupyter.widget-view+json": {
       "model_id": "24c094f1ef6648058937da6470400ac3",
       "version_major": 2,
       "version_minor": 0
      },
      "text/plain": [
       "HBox(children=(IntProgress(value=0, max=1), HTML(value='')))"
      ]
     },
     "metadata": {},
     "output_type": "display_data"
    },
    {
     "name": "stdout",
     "output_type": "stream",
     "text": [
      "\n",
      "3\n",
      "****training starts****\n"
     ]
    },
    {
     "data": {
      "application/vnd.jupyter.widget-view+json": {
       "model_id": "ea55f099eb2e48e09f06ea7cb42f757d",
       "version_major": 2,
       "version_minor": 0
      },
      "text/plain": [
       "HBox(children=(IntProgress(value=0, max=1), HTML(value='')))"
      ]
     },
     "metadata": {},
     "output_type": "display_data"
    },
    {
     "name": "stdout",
     "output_type": "stream",
     "text": [
      "\n",
      "\n"
     ]
    },
    {
     "data": {
      "image/png": "[encoded data removed]",
      "text/plain": [
       "<Figure size 432x288 with 1 Axes>"
      ]
     },
     "metadata": {
      "needs_background": "light"
     },
     "output_type": "display_data"
    },
    {
     "data": {
      "text/plain": [
       "[[0.001, 0.01, 0.1], [4.0146484375, 3.9921875, 4.07421875]]"
      ]
     },
     "execution_count": 12,
     "metadata": {},
     "output_type": "execute_result"
    }
   ],
   "source": [
    "obj.lr_finder(model_fn, lr_list=[0.001, 0.01, 0.1], tst_data_supplier=tst_data_supplier_lr,\n",
    "             trn_data_supplier=trn_data_supplier_lr)"
   ]
  }
 ],
 "metadata": {
  "kernelspec": {
   "display_name": "Python 3",
   "language": "python",
   "name": "python3"
  },
  "language_info": {
   "codemirror_mode": {
    "name": "ipython",
    "version": 3
   },
   "file_extension": ".py",
   "mimetype": "text/x-python",
   "name": "python",
   "nbconvert_exporter": "python",
   "pygments_lexer": "ipython3",
   "version": "3.7.3"
  }
 },
 "nbformat": 4,
 "nbformat_minor": 2
}

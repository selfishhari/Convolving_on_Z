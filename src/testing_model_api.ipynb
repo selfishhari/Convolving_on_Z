{
 "cells": [
  {
   "cell_type": "code",
   "execution_count": 1,
   "metadata": {},
   "outputs": [
    {
     "name": "stderr",
     "output_type": "stream",
     "text": [
      "/home/fractaluser/anaconda3/envs/tensorflow/lib/python3.7/site-packages/tensorflow/python/framework/dtypes.py:526: FutureWarning: Passing (type, 1) or '1type' as a synonym of type is deprecated; in a future version of numpy, it will be understood as (type, (1,)) / '(1,)type'.\n",
      "  _np_qint8 = np.dtype([(\"qint8\", np.int8, 1)])\n",
      "/home/fractaluser/anaconda3/envs/tensorflow/lib/python3.7/site-packages/tensorflow/python/framework/dtypes.py:527: FutureWarning: Passing (type, 1) or '1type' as a synonym of type is deprecated; in a future version of numpy, it will be understood as (type, (1,)) / '(1,)type'.\n",
      "  _np_quint8 = np.dtype([(\"quint8\", np.uint8, 1)])\n",
      "/home/fractaluser/anaconda3/envs/tensorflow/lib/python3.7/site-packages/tensorflow/python/framework/dtypes.py:528: FutureWarning: Passing (type, 1) or '1type' as a synonym of type is deprecated; in a future version of numpy, it will be understood as (type, (1,)) / '(1,)type'.\n",
      "  _np_qint16 = np.dtype([(\"qint16\", np.int16, 1)])\n",
      "/home/fractaluser/anaconda3/envs/tensorflow/lib/python3.7/site-packages/tensorflow/python/framework/dtypes.py:529: FutureWarning: Passing (type, 1) or '1type' as a synonym of type is deprecated; in a future version of numpy, it will be understood as (type, (1,)) / '(1,)type'.\n",
      "  _np_quint16 = np.dtype([(\"quint16\", np.uint16, 1)])\n",
      "/home/fractaluser/anaconda3/envs/tensorflow/lib/python3.7/site-packages/tensorflow/python/framework/dtypes.py:530: FutureWarning: Passing (type, 1) or '1type' as a synonym of type is deprecated; in a future version of numpy, it will be understood as (type, (1,)) / '(1,)type'.\n",
      "  _np_qint32 = np.dtype([(\"qint32\", np.int32, 1)])\n",
      "/home/fractaluser/anaconda3/envs/tensorflow/lib/python3.7/site-packages/tensorflow/python/framework/dtypes.py:535: FutureWarning: Passing (type, 1) or '1type' as a synonym of type is deprecated; in a future version of numpy, it will be understood as (type, (1,)) / '(1,)type'.\n",
      "  np_resource = np.dtype([(\"resource\", np.ubyte, 1)])\n"
     ]
    }
   ],
   "source": [
    "import numpy as np\n",
    "\n",
    "import tensorflow as tf\n",
    "\n",
    "import numpy as np\n",
    "import time, math\n",
    "from tqdm import tqdm_notebook as tqdm\n",
    "\n",
    "\n",
    "import tensorflow.contrib.eager as tfe\n",
    "tf.enable_eager_execution()\n",
    "\n",
    "from all_models import DavidNet"
   ]
  },
  {
   "cell_type": "markdown",
   "metadata": {},
   "source": [
    "resnext_model = ResNext_50()\n",
    "\n",
    "resnext_model(tf.convert_to_tensor(np.random.normal(size=(32,32,3)).reshape(1,32,32,3).astype(np.float16)), \n",
    "              np.array([1]))"
   ]
  },
  {
   "cell_type": "code",
   "execution_count": 2,
   "metadata": {},
   "outputs": [
    {
     "data": {
      "text/plain": [
       "<module 'run_util' from '/home/fractaluser/Personal/Narahari/eva_research_team4/src/run_util.py'>"
      ]
     },
     "execution_count": 2,
     "metadata": {},
     "output_type": "execute_result"
    }
   ],
   "source": [
    "import run_util\n",
    "from run_util import Run\n",
    "\n",
    "from importlib import reload\n",
    "reload(run_util)"
   ]
  },
  {
   "cell_type": "code",
   "execution_count": 3,
   "metadata": {},
   "outputs": [],
   "source": [
    "BATCH_SIZE = 32 #@param {type:\"integer\"}\n",
    "MOMENTUM = 0.95 #@param {type:\"number\"}\n",
    "\n",
    "MIN_MOMENTUM = 0.8 #@param {type:\"number\"}\n",
    "LEARNING_RATE = 0.4 #@param {type:\"number\"}\n",
    "WEIGHT_DECAY = 5e-4 #@param {type:\"number\"}\n",
    "EPOCHS = 2 #@param {type:\"integer\"}\n",
    "\n",
    "\n",
    "MIN_LEARNING_RATE = 0.000001 #@param {type:\"number\"}\n",
    "\n",
    "END_LR_SMOOTHING_PERC = 0.15 #@param {type:\"number\"}\n",
    "\n",
    "COMMENTS = \"Integration tests\" #@param {type:\"string\"}\n",
    "\n",
    "\n",
    "params_tune = {\n",
    "    \n",
    "  \"epochs\":EPOCHS, \n",
    " \n",
    "  \"batch_size\" : BATCH_SIZE,\n",
    "\n",
    "  \"max_lr\": LEARNING_RATE,\n",
    "\n",
    "  \"min_lr\":MIN_LEARNING_RATE,\n",
    "\n",
    "  \"end_anneal_pc\":END_LR_SMOOTHING_PERC,\n",
    "\n",
    "  \"max_mom\":MOMENTUM,\n",
    " \n",
    "  \"min_mom\":MIN_MOMENTUM,\n",
    " \n",
    "  \"wd\":WEIGHT_DECAY,\n",
    "  \n",
    "  \"skip_testing_epochs\":0,\n",
    "    \n",
    "  \"batches_per_epoch\":100//BATCH_SIZE,\n",
    "    \n",
    "  \"comments\":COMMENTS\n",
    "}"
   ]
  },
  {
   "cell_type": "code",
   "execution_count": 4,
   "metadata": {},
   "outputs": [],
   "source": [
    "(x_train, y_train), (x_test, y_test) = tf.keras.datasets.cifar10.load_data()\n",
    "\n",
    "x_train_org = x_train\n",
    "\n",
    "x_test_org = x_test\n",
    "\n",
    "len_train, len_test = len(x_train), len(x_test)\n",
    "\n",
    "y_train=y_train_org = y_train.astype('int64').reshape(len_train)\n",
    "\n",
    "y_test_org = y_test = y_test.astype('int64').reshape(len_test)\n",
    "\n",
    "train_mean = np.mean(x_train, axis=(0,1,2))\n",
    "\n",
    "train_std = np.std(x_train, axis=(0,1,2))\n",
    "\n",
    "normalize = lambda x: ((x - train_mean) / train_std).astype('float16') # todo: check here\n",
    "\n",
    "pad4 = lambda x: np.pad(x, [(0, 0), (4, 4), (4, 4), (0, 0)], mode='reflect')\n",
    "\n",
    "#x_train = normalize(pad4(x_train))\n",
    "x_test_org = x_test = normalize(x_test).astype(np.float16)"
   ]
  },
  {
   "cell_type": "code",
   "execution_count": 5,
   "metadata": {},
   "outputs": [],
   "source": [
    "def tst_data_supplier(epoch_num):  \n",
    "  \n",
    "  global x_test_org\n",
    "  \n",
    "  global y_test\n",
    "  \n",
    "  return (x_test_org[:100,:,:,:], y_test_org[:100])\n",
    "\n",
    "def trn_data_supplier(epoch_num):\n",
    "  \n",
    "  global y_train_org\n",
    "    \n",
    "  global x_train_org\n",
    "\n",
    "  return (normalize(x_train_org[:100,:,:,:]).astype(np.float16), y_train_org[:100])\n",
    "  \n",
    "  #return ((globals()['x_train%s' % epoch_num]).astype(np.float16), y_train_org)  "
   ]
  },
  {
   "cell_type": "code",
   "execution_count": 6,
   "metadata": {
    "scrolled": true
   },
   "outputs": [
    {
     "name": "stdout",
     "output_type": "stream",
     "text": [
      "****training starts****\n"
     ]
    },
    {
     "data": {
      "application/vnd.jupyter.widget-view+json": {
       "model_id": "27507b05ff6e4561866dab9edfdfee4f",
       "version_major": 2,
       "version_minor": 0
      },
      "text/plain": [
       "HBox(children=(IntProgress(value=0, max=2), HTML(value='')))"
      ]
     },
     "metadata": {},
     "output_type": "display_data"
    },
    {
     "name": "stdout",
     "output_type": "stream",
     "text": [
      "WARNING:tensorflow:From /home/fractaluser/anaconda3/envs/tensorflow/lib/python3.7/site-packages/tensorflow/python/data/ops/iterator_ops.py:532: colocate_with (from tensorflow.python.framework.ops) is deprecated and will be removed in a future version.\n",
      "Instructions for updating:\n",
      "Colocations handled automatically by placer.\n",
      "WARNING:tensorflow:From /home/fractaluser/anaconda3/envs/tensorflow/lib/python3.7/site-packages/tensorflow/python/ops/math_grad.py:102: div (from tensorflow.python.ops.math_ops) is deprecated and will be removed in a future version.\n",
      "Instructions for updating:\n",
      "Deprecated in favor of operator or tf.math.divide.\n",
      "epoch: 1 lr: 0.04000000000000001 train loss: 2.348 train acc:0.130 val loss: 2.312 val acc: 0.100 time:57.789\n",
      "epoch: 2 lr: 0.020000500000000004 train loss: 2.344 train acc:0.130 val loss: 2.316 val acc: 0.100 time:115.282\n",
      "\n",
      "   total_model_parameters  epochs  batch_size  max_lr    min_lr  anneal_perc  \\\n",
      "0                  343264       2          32     0.4  0.000001         0.15   \n",
      "\n",
      "   max_mom  min_mom  time_taken  train_acc  test_acc      wd  train_loss  \\\n",
      "0     0.95      0.8  115.288906       0.13       0.1  0.0005    2.344219   \n",
      "\n",
      "   test_loss                                               runs  \\\n",
      "0   2.316484  {'epoch': [1, 2], 'time': [57.78938937187195, ...   \n",
      "\n",
      "              log_time           comments  \n",
      "0  2019-08-31 04:11:53  Integration tests  \n"
     ]
    },
    {
     "data": {
      "text/plain": [
       "[<all_models.DavidNet at 0x7fdc34c89780>,\n",
       " 115.30396485328674,\n",
       " 0.13,\n",
       " 0.1,\n",
       " 2.34421875,\n",
       " 2.316484375]"
      ]
     },
     "execution_count": 6,
     "metadata": {},
     "output_type": "execute_result"
    }
   ],
   "source": [
    "model_fn = DavidNet\n",
    "\n",
    "obj = Run()\n",
    "\n",
    "obj.run(model_fn, params_tune, trn_data_supplier, tst_data_supplier)"
   ]
  },
  {
   "cell_type": "code",
   "execution_count": 7,
   "metadata": {},
   "outputs": [
    {
     "name": "stderr",
     "output_type": "stream",
     "text": [
      "ERROR:root:No traceback has been produced, nothing to debug.\n"
     ]
    }
   ],
   "source": [
    "%debug"
   ]
  },
  {
   "cell_type": "code",
   "execution_count": null,
   "metadata": {
    "scrolled": true
   },
   "outputs": [
    {
     "name": "stdout",
     "output_type": "stream",
     "text": [
      "running lr_finder\n"
     ]
    },
    {
     "data": {
      "application/vnd.jupyter.widget-view+json": {
       "model_id": "14b0ca634cbc4773822fbcab96850afe",
       "version_major": 2,
       "version_minor": 0
      },
      "text/plain": [
       "HBox(children=(IntProgress(value=0, max=4), HTML(value='')))"
      ]
     },
     "metadata": {},
     "output_type": "display_data"
    },
    {
     "name": "stdout",
     "output_type": "stream",
     "text": [
      "1\n",
      "****training starts****\n"
     ]
    },
    {
     "data": {
      "application/vnd.jupyter.widget-view+json": {
       "model_id": "99b8c37518e845b38e454f2a695ac123",
       "version_major": 2,
       "version_minor": 0
      },
      "text/plain": [
       "HBox(children=(IntProgress(value=0, max=1), HTML(value='')))"
      ]
     },
     "metadata": {},
     "output_type": "display_data"
    },
    {
     "name": "stdout",
     "output_type": "stream",
     "text": [
      "\n",
      "2\n",
      "****training starts****\n"
     ]
    },
    {
     "data": {
      "application/vnd.jupyter.widget-view+json": {
       "model_id": "04d6507adf2649adb5f660afb4a0fe13",
       "version_major": 2,
       "version_minor": 0
      },
      "text/plain": [
       "HBox(children=(IntProgress(value=0, max=1), HTML(value='')))"
      ]
     },
     "metadata": {},
     "output_type": "display_data"
    },
    {
     "name": "stdout",
     "output_type": "stream",
     "text": [
      "\n",
      "3\n",
      "****training starts****\n"
     ]
    },
    {
     "data": {
      "application/vnd.jupyter.widget-view+json": {
       "model_id": "3ad1d824b84a47eb8218fdc56109a754",
       "version_major": 2,
       "version_minor": 0
      },
      "text/plain": [
       "HBox(children=(IntProgress(value=0, max=1), HTML(value='')))"
      ]
     },
     "metadata": {},
     "output_type": "display_data"
    },
    {
     "name": "stdout",
     "output_type": "stream",
     "text": [
      "\n",
      "4\n",
      "****training starts****\n"
     ]
    },
    {
     "data": {
      "application/vnd.jupyter.widget-view+json": {
       "model_id": "a76306fa728a4bd7b19c0426c4f012c7",
       "version_major": 2,
       "version_minor": 0
      },
      "text/plain": [
       "HBox(children=(IntProgress(value=0, max=1), HTML(value='')))"
      ]
     },
     "metadata": {},
     "output_type": "display_data"
    }
   ],
   "source": [
    "obj.lr_finder(model_fn, lr_list=[0.001, 0.01, 0.1, 1])"
   ]
  }
 ],
 "metadata": {
  "kernelspec": {
   "display_name": "Python 3",
   "language": "python",
   "name": "python3"
  },
  "language_info": {
   "codemirror_mode": {
    "name": "ipython",
    "version": 3
   },
   "file_extension": ".py",
   "mimetype": "text/x-python",
   "name": "python",
   "nbconvert_exporter": "python",
   "pygments_lexer": "ipython3",
   "version": "3.7.3"
  }
 },
 "nbformat": 4,
 "nbformat_minor": 2
}

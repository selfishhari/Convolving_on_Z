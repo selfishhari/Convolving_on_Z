{
 "cells": [
  {
   "cell_type": "code",
   "execution_count": 1,
   "metadata": {
    "scrolled": true
   },
   "outputs": [
    {
     "name": "stderr",
     "output_type": "stream",
     "text": [
      "/home/fractaluser/anaconda3/envs/tensorflow/lib/python3.7/site-packages/tensorflow/python/framework/dtypes.py:526: FutureWarning: Passing (type, 1) or '1type' as a synonym of type is deprecated; in a future version of numpy, it will be understood as (type, (1,)) / '(1,)type'.\n",
      "  _np_qint8 = np.dtype([(\"qint8\", np.int8, 1)])\n",
      "/home/fractaluser/anaconda3/envs/tensorflow/lib/python3.7/site-packages/tensorflow/python/framework/dtypes.py:527: FutureWarning: Passing (type, 1) or '1type' as a synonym of type is deprecated; in a future version of numpy, it will be understood as (type, (1,)) / '(1,)type'.\n",
      "  _np_quint8 = np.dtype([(\"quint8\", np.uint8, 1)])\n",
      "/home/fractaluser/anaconda3/envs/tensorflow/lib/python3.7/site-packages/tensorflow/python/framework/dtypes.py:528: FutureWarning: Passing (type, 1) or '1type' as a synonym of type is deprecated; in a future version of numpy, it will be understood as (type, (1,)) / '(1,)type'.\n",
      "  _np_qint16 = np.dtype([(\"qint16\", np.int16, 1)])\n",
      "/home/fractaluser/anaconda3/envs/tensorflow/lib/python3.7/site-packages/tensorflow/python/framework/dtypes.py:529: FutureWarning: Passing (type, 1) or '1type' as a synonym of type is deprecated; in a future version of numpy, it will be understood as (type, (1,)) / '(1,)type'.\n",
      "  _np_quint16 = np.dtype([(\"quint16\", np.uint16, 1)])\n",
      "/home/fractaluser/anaconda3/envs/tensorflow/lib/python3.7/site-packages/tensorflow/python/framework/dtypes.py:530: FutureWarning: Passing (type, 1) or '1type' as a synonym of type is deprecated; in a future version of numpy, it will be understood as (type, (1,)) / '(1,)type'.\n",
      "  _np_qint32 = np.dtype([(\"qint32\", np.int32, 1)])\n",
      "/home/fractaluser/anaconda3/envs/tensorflow/lib/python3.7/site-packages/tensorflow/python/framework/dtypes.py:535: FutureWarning: Passing (type, 1) or '1type' as a synonym of type is deprecated; in a future version of numpy, it will be understood as (type, (1,)) / '(1,)type'.\n",
      "  np_resource = np.dtype([(\"resource\", np.ubyte, 1)])\n"
     ]
    }
   ],
   "source": [
    "import numpy as np\n",
    "\n",
    "import tensorflow as tf\n",
    "\n",
    "import numpy as np\n",
    "import time, math\n",
    "from tqdm import tqdm_notebook as tqdm\n",
    "\n",
    "\n",
    "import tensorflow.contrib.eager as tfe\n",
    "tf.enable_eager_execution()"
   ]
  },
  {
   "cell_type": "code",
   "execution_count": 2,
   "metadata": {
    "scrolled": false
   },
   "outputs": [
    {
     "name": "stderr",
     "output_type": "stream",
     "text": [
      "Using TensorFlow backend.\n"
     ]
    },
    {
     "data": {
      "text/plain": [
       "<module 'data_pipeline' from '/home/fractaluser/Personal/Narahari/eva_research/v2/eva_research_team4/src/data_pipeline.py'>"
      ]
     },
     "execution_count": 2,
     "metadata": {},
     "output_type": "execute_result"
    }
   ],
   "source": [
    "from all_models import DavidNet\n",
    "\n",
    "import run_util\n",
    "\n",
    "\n",
    "from importlib import reload\n",
    "reload(run_util)\n",
    "\n",
    "from run_util import Run\n",
    "\n",
    "import data_pipeline\n",
    "\n",
    "reload(data_pipeline)"
   ]
  },
  {
   "cell_type": "code",
   "execution_count": 3,
   "metadata": {
    "scrolled": true
   },
   "outputs": [
    {
     "name": "stdout",
     "output_type": "stream",
     "text": [
      "saving to tf records\n",
      "WARNING:tensorflow:From /home/fractaluser/Personal/Narahari/eva_research/v2/eva_research_team4/src/data_pipeline.py:28: maybe_download (from tensorflow.contrib.learn.python.learn.datasets.base) is deprecated and will be removed in a future version.\n",
      "Instructions for updating:\n",
      "Please write your own downloading logic.\n",
      "Generating ../data/train/train.tfrecords\n",
      "Generating ../data/eval/eval.tfrecords\n",
      "getting tf records complete\n"
     ]
    }
   ],
   "source": [
    "data_pipeline.get_data(dataset_name = \"CIFAR10\", tfrecords_flag=True)"
   ]
  },
  {
   "cell_type": "code",
   "execution_count": 4,
   "metadata": {},
   "outputs": [],
   "source": [
    "BATCH_SIZE = 25 #@param {type:\"integer\"}\n",
    "MOMENTUM = 0.95 #@param {type:\"number\"}\n",
    "\n",
    "MIN_MOMENTUM = 0.8 #@param {type:\"number\"}\n",
    "LEARNING_RATE = 0.4 #@param {type:\"number\"}\n",
    "WEIGHT_DECAY = 5e-4 #@param {type:\"number\"}\n",
    "EPOCHS = 1 #@param {type:\"integer\"}\n",
    "\n",
    "\n",
    "MIN_LEARNING_RATE = 0.000001 #@param {type:\"number\"}\n",
    "\n",
    "END_LR_SMOOTHING_PERC = 0.15 #@param {type:\"number\"}\n",
    "\n",
    "COMMENTS = \"Integration tests\" #@param {type:\"string\"}\n",
    "\n",
    "\n",
    "params_tune = {\n",
    "    \n",
    "  \"epochs\":EPOCHS, \n",
    " \n",
    "  \"batch_size\" : BATCH_SIZE,\n",
    "\n",
    "  \"max_lr\": LEARNING_RATE,\n",
    "\n",
    "  \"min_lr\":MIN_LEARNING_RATE,\n",
    "\n",
    "  \"end_anneal_pc\":END_LR_SMOOTHING_PERC,\n",
    "\n",
    "  \"max_mom\":MOMENTUM,\n",
    " \n",
    "  \"min_mom\":MIN_MOMENTUM,\n",
    " \n",
    "  \"wd\":WEIGHT_DECAY,\n",
    "  \n",
    "  \"skip_testing_epochs\":0,\n",
    "    \n",
    "  \"batches_per_epoch\":100//BATCH_SIZE,\n",
    "    \n",
    "  \"comments\":COMMENTS\n",
    "}"
   ]
  },
  {
   "cell_type": "code",
   "execution_count": 5,
   "metadata": {},
   "outputs": [],
   "source": [
    "loaded_tfrecs = data_pipeline.load_tfrecords(params_tune[\"batch_size\"])\n",
    "\n",
    "train_dataset = loaded_tfrecs[\"train\"]\n",
    "\n",
    "eval_dataset = loaded_tfrecs[\"eval\"]"
   ]
  },
  {
   "cell_type": "markdown",
   "metadata": {},
   "source": [
    "###### Running only on 50 images, just for integration tests"
   ]
  },
  {
   "cell_type": "code",
   "execution_count": 6,
   "metadata": {},
   "outputs": [],
   "source": [
    "def tst_data_supplier(epoch_num):\n",
    "    \n",
    "    batch_size = params_tune[\"batch_size\"]\n",
    "    \n",
    "    global eval_dataset\n",
    "  \n",
    "    len_test = 50\n",
    "\n",
    "    test_set = eval_dataset.take(50).batch(batch_size).prefetch(1)\n",
    "    \n",
    "    return (test_set, len_test)\n",
    "\n",
    "def trn_data_supplier(epoch_num):\n",
    "    \n",
    "    batch_size = params_tune[\"batch_size\"]\n",
    "  \n",
    "    global train_dataset\n",
    "    \n",
    "    len_train = 50\n",
    "\n",
    "    train_set = train_dataset.take(50).batch(batch_size).prefetch(1)\n",
    "    \n",
    "    return (train_set, len_train)"
   ]
  },
  {
   "cell_type": "code",
   "execution_count": 7,
   "metadata": {},
   "outputs": [],
   "source": [
    "model_fn = DavidNet\n",
    "\n",
    "obj = Run()"
   ]
  },
  {
   "cell_type": "code",
   "execution_count": 8,
   "metadata": {
    "scrolled": false
   },
   "outputs": [
    {
     "data": {
      "application/vnd.jupyter.widget-view+json": {
       "model_id": "f31158ba149d481eafad8ac3a984fbbd",
       "version_major": 2,
       "version_minor": 0
      },
      "text/plain": [
       "HBox(children=(IntProgress(value=0, max=1), HTML(value='')))"
      ]
     },
     "metadata": {},
     "output_type": "display_data"
    },
    {
     "name": "stdout",
     "output_type": "stream",
     "text": [
      "WARNING:tensorflow:From /home/fractaluser/anaconda3/envs/tensorflow/lib/python3.7/site-packages/tensorflow/python/data/ops/iterator_ops.py:532: colocate_with (from tensorflow.python.framework.ops) is deprecated and will be removed in a future version.\n",
      "Instructions for updating:\n",
      "Colocations handled automatically by placer.\n",
      "WARNING:tensorflow:From /home/fractaluser/anaconda3/envs/tensorflow/lib/python3.7/site-packages/tensorflow/python/ops/math_grad.py:102: div (from tensorflow.python.ops.math_ops) is deprecated and will be removed in a future version.\n",
      "Instructions for updating:\n",
      "Deprecated in favor of operator or tf.math.divide.\n",
      "epoch: 1 lr: 0.020000500000000004 train loss: 2.463 train acc:0.060 val loss: 2.364 val acc: 0.140 time:1.933\n",
      "\n",
      "   total_model_parameters  epochs  batch_size  max_lr    min_lr  anneal_perc  \\\n",
      "0                  343264       1          25     0.4  0.000001         0.15   \n",
      "\n",
      "   max_mom  min_mom  time_taken  train_acc  test_acc      wd  train_loss  \\\n",
      "0     0.95      0.8    1.936832       0.06      0.14  0.0005    2.463127   \n",
      "\n",
      "   test_loss                                               runs  \\\n",
      "0   2.363993  {'epoch': [1], 'time': [1.9336421489715576], '...   \n",
      "\n",
      "              log_time           comments  \n",
      "0  2019-09-03 06:54:56  Integration tests  \n"
     ]
    }
   ],
   "source": [
    "x = obj.run(model_fn, params_tune, trn_data_supplier, tst_data_supplier)"
   ]
  },
  {
   "cell_type": "code",
   "execution_count": 9,
   "metadata": {
    "scrolled": false
   },
   "outputs": [
    {
     "data": {
      "image/png": "[encoded data removed]",
      "text/plain": [
       "<Figure size 864x864 with 10 Axes>"
      ]
     },
     "metadata": {},
     "output_type": "display_data"
    }
   ],
   "source": [
    "obj.show_missclassified_images(num_images=10, tst_data_supplier=tst_data_supplier)"
   ]
  },
  {
   "cell_type": "code",
   "execution_count": 10,
   "metadata": {
    "scrolled": true
   },
   "outputs": [
    {
     "data": {
      "image/png": "[encoded data removed]",
      "text/plain": [
       "<Figure size 720x504 with 2 Axes>"
      ]
     },
     "metadata": {
      "needs_background": "light"
     },
     "output_type": "display_data"
    }
   ],
   "source": [
    "obj.plot_confusion_matrix(tst_data_supplier=tst_data_supplier)"
   ]
  },
  {
   "cell_type": "markdown",
   "metadata": {},
   "source": [
    "### LR Finder"
   ]
  },
  {
   "cell_type": "markdown",
   "metadata": {},
   "source": [
    "Creating a separate data supplier for lr finder"
   ]
  },
  {
   "cell_type": "code",
   "execution_count": 11,
   "metadata": {
    "scrolled": true
   },
   "outputs": [
    {
     "name": "stdout",
     "output_type": "stream",
     "text": [
      "running lr_finder\n"
     ]
    },
    {
     "data": {
      "application/vnd.jupyter.widget-view+json": {
       "model_id": "27a45f02c3a445b98500349b7bf21e1c",
       "version_major": 2,
       "version_minor": 0
      },
      "text/plain": [
       "HBox(children=(IntProgress(value=0, max=3), HTML(value='')))"
      ]
     },
     "metadata": {},
     "output_type": "display_data"
    },
    {
     "name": "stdout",
     "output_type": "stream",
     "text": [
      "1\n"
     ]
    },
    {
     "data": {
      "application/vnd.jupyter.widget-view+json": {
       "model_id": "87b323dbdd294e89819d4730519ae232",
       "version_major": 2,
       "version_minor": 0
      },
      "text/plain": [
       "HBox(children=(IntProgress(value=0, max=1), HTML(value='')))"
      ]
     },
     "metadata": {},
     "output_type": "display_data"
    },
    {
     "name": "stdout",
     "output_type": "stream",
     "text": [
      "\n",
      "2\n"
     ]
    },
    {
     "data": {
      "application/vnd.jupyter.widget-view+json": {
       "model_id": "1adee9580d1543d6a31296b7a7b77d01",
       "version_major": 2,
       "version_minor": 0
      },
      "text/plain": [
       "HBox(children=(IntProgress(value=0, max=1), HTML(value='')))"
      ]
     },
     "metadata": {},
     "output_type": "display_data"
    },
    {
     "name": "stdout",
     "output_type": "stream",
     "text": [
      "\n",
      "3\n"
     ]
    },
    {
     "data": {
      "application/vnd.jupyter.widget-view+json": {
       "model_id": "f0e7f9e65a014c3b9de9738e158fcb9c",
       "version_major": 2,
       "version_minor": 0
      },
      "text/plain": [
       "HBox(children=(IntProgress(value=0, max=1), HTML(value='')))"
      ]
     },
     "metadata": {},
     "output_type": "display_data"
    },
    {
     "name": "stdout",
     "output_type": "stream",
     "text": [
      "\n",
      "\n"
     ]
    },
    {
     "data": {
      "image/png": "[encoded data removed]",
      "text/plain": [
       "<Figure size 432x288 with 1 Axes>"
      ]
     },
     "metadata": {
      "needs_background": "light"
     },
     "output_type": "display_data"
    },
    {
     "data": {
      "text/plain": [
       "[[0.001, 0.01, 0.1],\n",
       " [2.389703826904297, 2.5484245300292967, 2.3718550872802733]]"
      ]
     },
     "execution_count": 11,
     "metadata": {},
     "output_type": "execute_result"
    }
   ],
   "source": [
    "obj.lr_finder(model_fn, lr_list=[0.001, 0.01, 0.1], tst_data_supplier=tst_data_supplier,\n",
    "             trn_data_supplier=trn_data_supplier)"
   ]
  },
  {
   "cell_type": "markdown",
   "metadata": {},
   "source": [
    "### Grid Search"
   ]
  },
  {
   "cell_type": "code",
   "execution_count": 12,
   "metadata": {
    "scrolled": true
   },
   "outputs": [
    {
     "data": {
      "application/vnd.jupyter.widget-view+json": {
       "model_id": "0353b97844e747d89d7f6ba85f85a88a",
       "version_major": 2,
       "version_minor": 0
      },
      "text/plain": [
       "HBox(children=(IntProgress(value=0, max=2), HTML(value='')))"
      ]
     },
     "metadata": {},
     "output_type": "display_data"
    },
    {
     "name": "stdout",
     "output_type": "stream",
     "text": [
      "\n",
      "   total_model_parameters  epochs  batch_size  max_lr    min_lr  anneal_perc  \\\n",
      "0                  343264       2          16     0.1  0.000001         0.15   \n",
      "\n",
      "   max_mom  min_mom  time_taken  train_acc  test_acc      wd  train_loss  \\\n",
      "0     0.95      0.8    3.397303       0.08      0.06  0.0005    2.451632   \n",
      "\n",
      "   test_loss                                               runs  \\\n",
      "0   2.341633  {'epoch': [1, 2], 'time': [1.8279533386230469,...   \n",
      "\n",
      "              log_time          comments  \n",
      "0  2019-09-03 06:55:07  GRID SEARCH RUNS  \n"
     ]
    },
    {
     "data": {
      "application/vnd.jupyter.widget-view+json": {
       "model_id": "44dc250c939f46b2b1b28363378c05f3",
       "version_major": 2,
       "version_minor": 0
      },
      "text/plain": [
       "HBox(children=(IntProgress(value=0, max=2), HTML(value='')))"
      ]
     },
     "metadata": {},
     "output_type": "display_data"
    },
    {
     "name": "stdout",
     "output_type": "stream",
     "text": [
      "\n",
      "   total_model_parameters  epochs  batch_size  max_lr    min_lr  anneal_perc  \\\n",
      "0                  343264       2          16     0.4  0.000001         0.15   \n",
      "\n",
      "   max_mom  min_mom  time_taken  train_acc  test_acc      wd  train_loss  \\\n",
      "0     0.95      0.8    3.421345       0.12      0.08  0.0005    2.316013   \n",
      "\n",
      "   test_loss                                               runs  \\\n",
      "0   2.334704  {'epoch': [1, 2], 'time': [1.8045012950897217,...   \n",
      "\n",
      "              log_time          comments  \n",
      "0  2019-09-03 06:55:10  GRID SEARCH RUNS  \n"
     ]
    },
    {
     "data": {
      "application/vnd.jupyter.widget-view+json": {
       "model_id": "4462624b3e42447d916c6402a4e9aada",
       "version_major": 2,
       "version_minor": 0
      },
      "text/plain": [
       "HBox(children=(IntProgress(value=0, max=2), HTML(value='')))"
      ]
     },
     "metadata": {},
     "output_type": "display_data"
    },
    {
     "name": "stdout",
     "output_type": "stream",
     "text": [
      "\n",
      "   total_model_parameters  epochs  batch_size  max_lr    min_lr  anneal_perc  \\\n",
      "0                  343264       2          25     0.1  0.000001         0.15   \n",
      "\n",
      "   max_mom  min_mom  time_taken  train_acc  test_acc      wd  train_loss  \\\n",
      "0     0.95      0.8    3.337093       0.02      0.18  0.0005     2.60887   \n",
      "\n",
      "   test_loss                                               runs  \\\n",
      "0   2.534968  {'epoch': [1, 2], 'time': [1.7697594165802002,...   \n",
      "\n",
      "              log_time          comments  \n",
      "0  2019-09-03 06:55:14  GRID SEARCH RUNS  \n"
     ]
    },
    {
     "data": {
      "application/vnd.jupyter.widget-view+json": {
       "model_id": "d36e9e102ca04867916ad02453e7668d",
       "version_major": 2,
       "version_minor": 0
      },
      "text/plain": [
       "HBox(children=(IntProgress(value=0, max=2), HTML(value='')))"
      ]
     },
     "metadata": {},
     "output_type": "display_data"
    },
    {
     "name": "stdout",
     "output_type": "stream",
     "text": [
      "\n",
      "   total_model_parameters  epochs  batch_size  max_lr    min_lr  anneal_perc  \\\n",
      "0                  343264       2          25     0.4  0.000001         0.15   \n",
      "\n",
      "   max_mom  min_mom  time_taken  train_acc  test_acc      wd  train_loss  \\\n",
      "0     0.95      0.8    3.346182       0.08      0.08  0.0005    2.511127   \n",
      "\n",
      "   test_loss                                               runs  \\\n",
      "0   2.365659  {'epoch': [1, 2], 'time': [1.761902093887329, ...   \n",
      "\n",
      "              log_time          comments  \n",
      "0  2019-09-03 06:55:17  GRID SEARCH RUNS  \n"
     ]
    },
    {
     "data": {
      "application/vnd.jupyter.widget-view+json": {
       "model_id": "5b48f14562c049959077631ea13a73b8",
       "version_major": 2,
       "version_minor": 0
      },
      "text/plain": [
       "HBox(children=(IntProgress(value=0, max=3), HTML(value='')))"
      ]
     },
     "metadata": {},
     "output_type": "display_data"
    },
    {
     "name": "stdout",
     "output_type": "stream",
     "text": [
      "\n",
      "   total_model_parameters  epochs  batch_size  max_lr    min_lr  anneal_perc  \\\n",
      "0                  343264       3          16     0.1  0.000001         0.15   \n",
      "\n",
      "   max_mom  min_mom  time_taken  train_acc  test_acc      wd  train_loss  \\\n",
      "0     0.95      0.8    4.968339       0.14       0.1  0.0005    2.486274   \n",
      "\n",
      "   test_loss                                               runs  \\\n",
      "0    2.32517  {'epoch': [1, 2, 3], 'time': [1.76265525817871...   \n",
      "\n",
      "              log_time          comments  \n",
      "0  2019-09-03 06:55:22  GRID SEARCH RUNS  \n"
     ]
    },
    {
     "data": {
      "application/vnd.jupyter.widget-view+json": {
       "model_id": "a5faaa97604f447bbb13ad5c750c5423",
       "version_major": 2,
       "version_minor": 0
      },
      "text/plain": [
       "HBox(children=(IntProgress(value=0, max=3), HTML(value='')))"
      ]
     },
     "metadata": {},
     "output_type": "display_data"
    },
    {
     "name": "stdout",
     "output_type": "stream",
     "text": [
      "\n",
      "   total_model_parameters  epochs  batch_size  max_lr    min_lr  anneal_perc  \\\n",
      "0                  343264       3          16     0.4  0.000001         0.15   \n",
      "\n",
      "   max_mom  min_mom  time_taken  train_acc  test_acc      wd  train_loss  \\\n",
      "0     0.95      0.8    4.979783       0.04      0.06  0.0005     2.42462   \n",
      "\n",
      "   test_loss                                               runs  \\\n",
      "0   2.293442  {'epoch': [1, 2, 3], 'time': [1.78953599929809...   \n",
      "\n",
      "              log_time          comments  \n",
      "0  2019-09-03 06:55:27  GRID SEARCH RUNS  \n"
     ]
    },
    {
     "data": {
      "application/vnd.jupyter.widget-view+json": {
       "model_id": "8951fecc4ebf49ac85ce93eed5161e4c",
       "version_major": 2,
       "version_minor": 0
      },
      "text/plain": [
       "HBox(children=(IntProgress(value=0, max=3), HTML(value='')))"
      ]
     },
     "metadata": {},
     "output_type": "display_data"
    },
    {
     "name": "stdout",
     "output_type": "stream",
     "text": [
      "\n",
      "   total_model_parameters  epochs  batch_size  max_lr    min_lr  anneal_perc  \\\n",
      "0                  343264       3          25     0.1  0.000001         0.15   \n",
      "\n",
      "   max_mom  min_mom  time_taken  train_acc  test_acc      wd  train_loss  \\\n",
      "0     0.95      0.8    4.944698       0.18      0.08  0.0005    2.301014   \n",
      "\n",
      "   test_loss                                               runs  \\\n",
      "0   2.355996  {'epoch': [1, 2, 3], 'time': [1.75519990921020...   \n",
      "\n",
      "              log_time          comments  \n",
      "0  2019-09-03 06:55:32  GRID SEARCH RUNS  \n"
     ]
    },
    {
     "data": {
      "application/vnd.jupyter.widget-view+json": {
       "model_id": "30cf27fce4c94becae71d3edb8238bff",
       "version_major": 2,
       "version_minor": 0
      },
      "text/plain": [
       "HBox(children=(IntProgress(value=0, max=3), HTML(value='')))"
      ]
     },
     "metadata": {},
     "output_type": "display_data"
    },
    {
     "name": "stdout",
     "output_type": "stream",
     "text": [
      "\n",
      "   total_model_parameters  epochs  batch_size  max_lr    min_lr  anneal_perc  \\\n",
      "0                  343264       3          25     0.4  0.000001         0.15   \n",
      "\n",
      "   max_mom  min_mom  time_taken  train_acc  test_acc      wd  train_loss  \\\n",
      "0     0.95      0.8    4.967406       0.12      0.06  0.0005    2.379765   \n",
      "\n",
      "   test_loss                                               runs  \\\n",
      "0    2.33608  {'epoch': [1, 2, 3], 'time': [1.80100154876708...   \n",
      "\n",
      "              log_time          comments  \n",
      "0  2019-09-03 06:55:37  GRID SEARCH RUNS  \n"
     ]
    },
    {
     "data": {
      "text/plain": [
       "({'epochs': 2,\n",
       "  'batch_size': 25,\n",
       "  'max_lr': 0.1,\n",
       "  'min_lr': 1e-06,\n",
       "  'end_anneal_pc': 0.15,\n",
       "  'max_mom': 0.95,\n",
       "  'min_mom': 0.8,\n",
       "  'wd': 0.0005,\n",
       "  'skip_testing_epochs': 0,\n",
       "  'batches_per_epoch': 2000,\n",
       "  'comments': 'GRID SEARCH RUNS'},\n",
       " 0.18)"
      ]
     },
     "execution_count": 12,
     "metadata": {},
     "output_type": "execute_result"
    }
   ],
   "source": [
    "params_tune_grid = {\n",
    "    \n",
    "  \"epochs\":[2, 3] ,\n",
    " \n",
    "  \"batch_size\" : [16, 25],\n",
    "\n",
    "  \"max_lr\": [0.1, 0.4],\n",
    "\n",
    "  \"min_lr\":[MIN_LEARNING_RATE],\n",
    "\n",
    "  \"end_anneal_pc\":[END_LR_SMOOTHING_PERC],\n",
    "\n",
    "  \"max_mom\":[MOMENTUM],\n",
    " \n",
    "  \"min_mom\":[MIN_MOMENTUM],\n",
    " \n",
    "  \"wd\":[WEIGHT_DECAY],\n",
    "  \n",
    "  \"skip_testing_epochs\":[0],\n",
    "    \n",
    "  \"batches_per_epoch\":[50000//BATCH_SIZE],\n",
    "    \n",
    "   \"comments\":[\"GRID SEARCH RUNS\"]\n",
    "}\n",
    "\n",
    "obj.grid_search(model_fn, params_tune_grid, trn_data_supplier, tst_data_supplier)"
   ]
  },
  {
   "cell_type": "markdown",
   "metadata": {},
   "source": [
    "##### Viewing log"
   ]
  },
  {
   "cell_type": "code",
   "execution_count": 13,
   "metadata": {
    "scrolled": true
   },
   "outputs": [
    {
     "data": {
      "text/html": [
       "<div>\n",
       "<style scoped>\n",
       "    .dataframe tbody tr th:only-of-type {\n",
       "        vertical-align: middle;\n",
       "    }\n",
       "\n",
       "    .dataframe tbody tr th {\n",
       "        vertical-align: top;\n",
       "    }\n",
       "\n",
       "    .dataframe thead th {\n",
       "        text-align: right;\n",
       "    }\n",
       "</style>\n",
       "<table border=\"1\" class=\"dataframe\">\n",
       "  <thead>\n",
       "    <tr style=\"text-align: right;\">\n",
       "      <th></th>\n",
       "      <th>total_model_parameters</th>\n",
       "      <th>epochs</th>\n",
       "      <th>batch_size</th>\n",
       "      <th>max_lr</th>\n",
       "      <th>min_lr</th>\n",
       "      <th>anneal_perc</th>\n",
       "      <th>max_mom</th>\n",
       "      <th>min_mom</th>\n",
       "      <th>time_taken</th>\n",
       "      <th>train_acc</th>\n",
       "      <th>test_acc</th>\n",
       "      <th>wd</th>\n",
       "      <th>train_loss</th>\n",
       "      <th>test_loss</th>\n",
       "      <th>runs</th>\n",
       "      <th>log_time</th>\n",
       "      <th>comments</th>\n",
       "    </tr>\n",
       "  </thead>\n",
       "  <tbody>\n",
       "    <tr>\n",
       "      <td>115</td>\n",
       "      <td>343264</td>\n",
       "      <td>2</td>\n",
       "      <td>25</td>\n",
       "      <td>0.4</td>\n",
       "      <td>0.000001</td>\n",
       "      <td>0.15</td>\n",
       "      <td>0.95</td>\n",
       "      <td>0.8</td>\n",
       "      <td>3.346182</td>\n",
       "      <td>0.08</td>\n",
       "      <td>0.08</td>\n",
       "      <td>0.0005</td>\n",
       "      <td>2.511127</td>\n",
       "      <td>2.365659</td>\n",
       "      <td>{'epoch': [1, 2], 'time': [1.761902093887329, ...</td>\n",
       "      <td>2019-09-03 06:55:17</td>\n",
       "      <td>GRID SEARCH RUNS</td>\n",
       "    </tr>\n",
       "    <tr>\n",
       "      <td>116</td>\n",
       "      <td>343264</td>\n",
       "      <td>3</td>\n",
       "      <td>16</td>\n",
       "      <td>0.1</td>\n",
       "      <td>0.000001</td>\n",
       "      <td>0.15</td>\n",
       "      <td>0.95</td>\n",
       "      <td>0.8</td>\n",
       "      <td>4.968339</td>\n",
       "      <td>0.14</td>\n",
       "      <td>0.10</td>\n",
       "      <td>0.0005</td>\n",
       "      <td>2.486274</td>\n",
       "      <td>2.325170</td>\n",
       "      <td>{'epoch': [1, 2, 3], 'time': [1.76265525817871...</td>\n",
       "      <td>2019-09-03 06:55:22</td>\n",
       "      <td>GRID SEARCH RUNS</td>\n",
       "    </tr>\n",
       "    <tr>\n",
       "      <td>117</td>\n",
       "      <td>343264</td>\n",
       "      <td>3</td>\n",
       "      <td>16</td>\n",
       "      <td>0.4</td>\n",
       "      <td>0.000001</td>\n",
       "      <td>0.15</td>\n",
       "      <td>0.95</td>\n",
       "      <td>0.8</td>\n",
       "      <td>4.979783</td>\n",
       "      <td>0.04</td>\n",
       "      <td>0.06</td>\n",
       "      <td>0.0005</td>\n",
       "      <td>2.424620</td>\n",
       "      <td>2.293442</td>\n",
       "      <td>{'epoch': [1, 2, 3], 'time': [1.78953599929809...</td>\n",
       "      <td>2019-09-03 06:55:27</td>\n",
       "      <td>GRID SEARCH RUNS</td>\n",
       "    </tr>\n",
       "    <tr>\n",
       "      <td>118</td>\n",
       "      <td>343264</td>\n",
       "      <td>3</td>\n",
       "      <td>25</td>\n",
       "      <td>0.1</td>\n",
       "      <td>0.000001</td>\n",
       "      <td>0.15</td>\n",
       "      <td>0.95</td>\n",
       "      <td>0.8</td>\n",
       "      <td>4.944698</td>\n",
       "      <td>0.18</td>\n",
       "      <td>0.08</td>\n",
       "      <td>0.0005</td>\n",
       "      <td>2.301014</td>\n",
       "      <td>2.355996</td>\n",
       "      <td>{'epoch': [1, 2, 3], 'time': [1.75519990921020...</td>\n",
       "      <td>2019-09-03 06:55:32</td>\n",
       "      <td>GRID SEARCH RUNS</td>\n",
       "    </tr>\n",
       "    <tr>\n",
       "      <td>119</td>\n",
       "      <td>343264</td>\n",
       "      <td>3</td>\n",
       "      <td>25</td>\n",
       "      <td>0.4</td>\n",
       "      <td>0.000001</td>\n",
       "      <td>0.15</td>\n",
       "      <td>0.95</td>\n",
       "      <td>0.8</td>\n",
       "      <td>4.967406</td>\n",
       "      <td>0.12</td>\n",
       "      <td>0.06</td>\n",
       "      <td>0.0005</td>\n",
       "      <td>2.379765</td>\n",
       "      <td>2.336080</td>\n",
       "      <td>{'epoch': [1, 2, 3], 'time': [1.80100154876708...</td>\n",
       "      <td>2019-09-03 06:55:37</td>\n",
       "      <td>GRID SEARCH RUNS</td>\n",
       "    </tr>\n",
       "  </tbody>\n",
       "</table>\n",
       "</div>"
      ],
      "text/plain": [
       "     total_model_parameters  epochs  batch_size  max_lr    min_lr  \\\n",
       "115                  343264       2          25     0.4  0.000001   \n",
       "116                  343264       3          16     0.1  0.000001   \n",
       "117                  343264       3          16     0.4  0.000001   \n",
       "118                  343264       3          25     0.1  0.000001   \n",
       "119                  343264       3          25     0.4  0.000001   \n",
       "\n",
       "     anneal_perc  max_mom  min_mom  time_taken  train_acc  test_acc      wd  \\\n",
       "115         0.15     0.95      0.8    3.346182       0.08      0.08  0.0005   \n",
       "116         0.15     0.95      0.8    4.968339       0.14      0.10  0.0005   \n",
       "117         0.15     0.95      0.8    4.979783       0.04      0.06  0.0005   \n",
       "118         0.15     0.95      0.8    4.944698       0.18      0.08  0.0005   \n",
       "119         0.15     0.95      0.8    4.967406       0.12      0.06  0.0005   \n",
       "\n",
       "     train_loss  test_loss                                               runs  \\\n",
       "115    2.511127   2.365659  {'epoch': [1, 2], 'time': [1.761902093887329, ...   \n",
       "116    2.486274   2.325170  {'epoch': [1, 2, 3], 'time': [1.76265525817871...   \n",
       "117    2.424620   2.293442  {'epoch': [1, 2, 3], 'time': [1.78953599929809...   \n",
       "118    2.301014   2.355996  {'epoch': [1, 2, 3], 'time': [1.75519990921020...   \n",
       "119    2.379765   2.336080  {'epoch': [1, 2, 3], 'time': [1.80100154876708...   \n",
       "\n",
       "                log_time          comments  \n",
       "115  2019-09-03 06:55:17  GRID SEARCH RUNS  \n",
       "116  2019-09-03 06:55:22  GRID SEARCH RUNS  \n",
       "117  2019-09-03 06:55:27  GRID SEARCH RUNS  \n",
       "118  2019-09-03 06:55:32  GRID SEARCH RUNS  \n",
       "119  2019-09-03 06:55:37  GRID SEARCH RUNS  "
      ]
     },
     "execution_count": 13,
     "metadata": {},
     "output_type": "execute_result"
    }
   ],
   "source": [
    "import pandas as pd\n",
    "\n",
    "pd.read_csv(\"../data/run_logger.csv\").tail()"
   ]
  },
  {
   "cell_type": "markdown",
   "metadata": {},
   "source": [
    "#### Numpy implementation"
   ]
  },
  {
   "cell_type": "raw",
   "metadata": {},
   "source": [
    "x_train, y_train, x_test, y_test = data_pipeline.load_saved_numpy_data(\n",
    "    train_path=[\"../data/train/train_x.npy\",\"../data/train/train_y.npy\"],\n",
    "    test_path=[\"../data/test/test_x.npy\", \"../data/test/test_y.npy\"])"
   ]
  },
  {
   "cell_type": "raw",
   "metadata": {},
   "source": [
    "def tst_data_supplier(epoch_num):\n",
    "    \n",
    "    batch_size = params_tune[\"batch_size\"]\n",
    "    \n",
    "    global eval_dataset\n",
    "  \n",
    "    len_test = x_test[0].shape[0]\n",
    "\n",
    "    test_set = tf.data.Dataset.from_tensor_slices((x_test[:30,:,:,:],\n",
    "                                                   y_test[:30])).batch(batch_size).prefetch(1)\n",
    "    \n",
    "    return (test_set, len_test)\n",
    "\n",
    "def trn_data_supplier(epoch_num):\n",
    "    \n",
    "    batch_size = params_tune[\"batch_size\"]\n",
    "  \n",
    "    global y_train\n",
    "    \n",
    "    global x_train\n",
    "    \n",
    "    len_test = x_train[0].shape[0]\n",
    "\n",
    "    test_set = tf.data.Dataset.from_tensor_slices((x_train[:50,:,:,:], \n",
    "                                        y_train[:50])).batch(batch_size).prefetch(1)\n",
    "    \n",
    "    return (test_set, len_test)"
   ]
  },
  {
   "cell_type": "raw",
   "metadata": {},
   "source": [
    "def tst_data_supplier_lr(epoch, test_num_batches=2):\n",
    " \n",
    "    batch_size = params_tune[\"batch_size\"]\n",
    "    \n",
    "    global x_test\n",
    "  \n",
    "    global y_test\n",
    "  \n",
    "    sample_idx = np.random.choice(y_test.size, test_num_batches * batch_size, replace=False)\n",
    "\n",
    "    x_test_lr = x_test[sample_idx, :, :, :]\n",
    "\n",
    "    y_test_lr = y_test[sample_idx]\n",
    "    \n",
    "    len_test = x_test_lr[0].shape[0]\n",
    "\n",
    "    test_set = tf.data.Dataset.from_tensor_slices((x_test_lr,\n",
    "                                                   y_test_lr)).batch(batch_size).prefetch(1)\n",
    "\n",
    "    return (test_set, len_test)\n",
    "\n",
    "def trn_data_supplier_lr(epoch, train_num_batches=2):\n",
    " \n",
    "    batch_size = params_tune[\"batch_size\"]\n",
    "    \n",
    "    global x_train\n",
    "  \n",
    "    global y_train\n",
    "  \n",
    "    sample_idx = np.random.choice(y_train.size, train_num_batches * batch_size, replace=False)\n",
    "\n",
    "    x_train_lr = x_train[sample_idx, :, :, :]\n",
    "\n",
    "    y_train_lr = y_train[sample_idx]\n",
    "    \n",
    "    len_train = x_train_lr[0].shape[0]\n",
    "\n",
    "    train_set = tf.data.Dataset.from_tensor_slices((x_train_lr,\n",
    "                                                   y_train_lr)).batch(batch_size).prefetch(1)\n",
    "\n",
    "    return (train_set, len_train)"
   ]
  }
 ],
 "metadata": {
  "kernelspec": {
   "display_name": "Python 3",
   "language": "python",
   "name": "python3"
  },
  "language_info": {
   "codemirror_mode": {
    "name": "ipython",
    "version": 3
   },
   "file_extension": ".py",
   "mimetype": "text/x-python",
   "name": "python",
   "nbconvert_exporter": "python",
   "pygments_lexer": "ipython3",
   "version": "3.7.3"
  }
 },
 "nbformat": 4,
 "nbformat_minor": 2
}

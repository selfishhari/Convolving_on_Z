{
 "cells": [
  {
   "cell_type": "code",
   "execution_count": 1,
   "metadata": {},
   "outputs": [
    {
     "name": "stderr",
     "output_type": "stream",
     "text": [
      "/home/fractaluser/anaconda3/envs/tensorflow/lib/python3.7/site-packages/tensorflow/python/framework/dtypes.py:526: FutureWarning: Passing (type, 1) or '1type' as a synonym of type is deprecated; in a future version of numpy, it will be understood as (type, (1,)) / '(1,)type'.\n",
      "  _np_qint8 = np.dtype([(\"qint8\", np.int8, 1)])\n",
      "/home/fractaluser/anaconda3/envs/tensorflow/lib/python3.7/site-packages/tensorflow/python/framework/dtypes.py:527: FutureWarning: Passing (type, 1) or '1type' as a synonym of type is deprecated; in a future version of numpy, it will be understood as (type, (1,)) / '(1,)type'.\n",
      "  _np_quint8 = np.dtype([(\"quint8\", np.uint8, 1)])\n",
      "/home/fractaluser/anaconda3/envs/tensorflow/lib/python3.7/site-packages/tensorflow/python/framework/dtypes.py:528: FutureWarning: Passing (type, 1) or '1type' as a synonym of type is deprecated; in a future version of numpy, it will be understood as (type, (1,)) / '(1,)type'.\n",
      "  _np_qint16 = np.dtype([(\"qint16\", np.int16, 1)])\n",
      "/home/fractaluser/anaconda3/envs/tensorflow/lib/python3.7/site-packages/tensorflow/python/framework/dtypes.py:529: FutureWarning: Passing (type, 1) or '1type' as a synonym of type is deprecated; in a future version of numpy, it will be understood as (type, (1,)) / '(1,)type'.\n",
      "  _np_quint16 = np.dtype([(\"quint16\", np.uint16, 1)])\n",
      "/home/fractaluser/anaconda3/envs/tensorflow/lib/python3.7/site-packages/tensorflow/python/framework/dtypes.py:530: FutureWarning: Passing (type, 1) or '1type' as a synonym of type is deprecated; in a future version of numpy, it will be understood as (type, (1,)) / '(1,)type'.\n",
      "  _np_qint32 = np.dtype([(\"qint32\", np.int32, 1)])\n",
      "/home/fractaluser/anaconda3/envs/tensorflow/lib/python3.7/site-packages/tensorflow/python/framework/dtypes.py:535: FutureWarning: Passing (type, 1) or '1type' as a synonym of type is deprecated; in a future version of numpy, it will be understood as (type, (1,)) / '(1,)type'.\n",
      "  np_resource = np.dtype([(\"resource\", np.ubyte, 1)])\n"
     ]
    }
   ],
   "source": [
    "import numpy as np\n",
    "\n",
    "import tensorflow as tf\n",
    "\n",
    "import numpy as np\n",
    "import time, math\n",
    "from tqdm import tqdm_notebook as tqdm\n",
    "\n",
    "\n",
    "import tensorflow.contrib.eager as tfe\n",
    "tf.enable_eager_execution()"
   ]
  },
  {
   "cell_type": "code",
   "execution_count": 2,
   "metadata": {},
   "outputs": [
    {
     "data": {
      "text/plain": [
       "<module 'data_pipeline' from '/home/fractaluser/Personal/Narahari/eva_research_team4/src/data_pipeline.py'>"
      ]
     },
     "execution_count": 2,
     "metadata": {},
     "output_type": "execute_result"
    }
   ],
   "source": [
    "from all_models import DavidNet\n",
    "\n",
    "import run_duplicate\n",
    "from run_duplicate import Run\n",
    "\n",
    "from importlib import reload\n",
    "reload(run_duplicate)\n",
    "import data_pipeline\n",
    "\n",
    "reload(data_pipeline)"
   ]
  },
  {
   "cell_type": "code",
   "execution_count": 3,
   "metadata": {},
   "outputs": [
    {
     "name": "stdout",
     "output_type": "stream",
     "text": [
      "Downloading..\n",
      "Preprocessing..\n",
      "Saving..\n",
      "saving to numpy pickle\n"
     ]
    }
   ],
   "source": [
    "data_pipeline.get_data(dataset_name = \"CIFAR10\")"
   ]
  },
  {
   "cell_type": "code",
   "execution_count": 4,
   "metadata": {},
   "outputs": [],
   "source": [
    "x_train, y_train, x_test, y_test = data_pipeline.load_saved_numpy_data(\n",
    "    train_path=[\"../data/train/train_x.npy\",\"../data/train/train_y.npy\"],\n",
    "    test_path=[\"../data/test/test_x.npy\", \"../data/test/test_y.npy\"])"
   ]
  },
  {
   "cell_type": "code",
   "execution_count": 6,
   "metadata": {},
   "outputs": [],
   "source": [
    "BATCH_SIZE = 32 #@param {type:\"integer\"}\n",
    "MOMENTUM = 0.95 #@param {type:\"number\"}\n",
    "\n",
    "MIN_MOMENTUM = 0.8 #@param {type:\"number\"}\n",
    "LEARNING_RATE = 0.4 #@param {type:\"number\"}\n",
    "WEIGHT_DECAY = 5e-4 #@param {type:\"number\"}\n",
    "EPOCHS = 2 #@param {type:\"integer\"}\n",
    "\n",
    "\n",
    "MIN_LEARNING_RATE = 0.000001 #@param {type:\"number\"}\n",
    "\n",
    "END_LR_SMOOTHING_PERC = 0.15 #@param {type:\"number\"}\n",
    "\n",
    "COMMENTS = \"Integration tests\" #@param {type:\"string\"}\n",
    "\n",
    "\n",
    "params_tune = {\n",
    "    \n",
    "  \"epochs\":EPOCHS, \n",
    " \n",
    "  \"batch_size\" : BATCH_SIZE,\n",
    "\n",
    "  \"max_lr\": LEARNING_RATE,\n",
    "\n",
    "  \"min_lr\":MIN_LEARNING_RATE,\n",
    "\n",
    "  \"end_anneal_pc\":END_LR_SMOOTHING_PERC,\n",
    "\n",
    "  \"max_mom\":MOMENTUM,\n",
    " \n",
    "  \"min_mom\":MIN_MOMENTUM,\n",
    " \n",
    "  \"wd\":WEIGHT_DECAY,\n",
    "  \n",
    "  \"skip_testing_epochs\":0,\n",
    "    \n",
    "  \"batches_per_epoch\":100//BATCH_SIZE,\n",
    "    \n",
    "  \"comments\":COMMENTS\n",
    "}"
   ]
  },
  {
   "cell_type": "code",
   "execution_count": 10,
   "metadata": {},
   "outputs": [],
   "source": [
    "def tst_data_supplier(epoch_num):\n",
    "    \n",
    "    batch_size = params_tune[\"batch_size\"]\n",
    "    \n",
    "    global x_test\n",
    "  \n",
    "    global y_test\n",
    "  \n",
    "    len_test = x_test[0].shape[0]\n",
    "\n",
    "    test_set = tf.data.Dataset.from_tensor_slices((x_test[:100,:,:,:],\n",
    "                                                   y_test[:100])).batch(batch_size).prefetch(1)\n",
    "    \n",
    "    return (test_set, len_test)\n",
    "\n",
    "def trn_data_supplier(epoch_num):\n",
    "    \n",
    "    batch_size = params_tune[\"batch_size\"]\n",
    "  \n",
    "    global y_train\n",
    "    \n",
    "    global x_train\n",
    "    \n",
    "    len_test = x_train[0].shape[0]\n",
    "\n",
    "    test_set = tf.data.Dataset.from_tensor_slices((x_train[:100,:,:,:], \n",
    "                                        y_train[:100])).batch(batch_size).prefetch(1)\n",
    "    \n",
    "    return (test_set, len_test)"
   ]
  },
  {
   "cell_type": "code",
   "execution_count": 11,
   "metadata": {
    "scrolled": true
   },
   "outputs": [
    {
     "name": "stdout",
     "output_type": "stream",
     "text": [
      "****training starts****\n"
     ]
    },
    {
     "data": {
      "application/vnd.jupyter.widget-view+json": {
       "model_id": "5ae8343af69749cf8783af509b6228ae",
       "version_major": 2,
       "version_minor": 0
      },
      "text/plain": [
       "HBox(children=(IntProgress(value=0, max=2), HTML(value='')))"
      ]
     },
     "metadata": {},
     "output_type": "display_data"
    },
    {
     "name": "stdout",
     "output_type": "stream",
     "text": [
      "WARNING:tensorflow:From /home/fractaluser/anaconda3/envs/tensorflow/lib/python3.7/site-packages/tensorflow/python/data/ops/iterator_ops.py:532: colocate_with (from tensorflow.python.framework.ops) is deprecated and will be removed in a future version.\n",
      "Instructions for updating:\n",
      "Colocations handled automatically by placer.\n",
      "WARNING:tensorflow:From /home/fractaluser/anaconda3/envs/tensorflow/lib/python3.7/site-packages/tensorflow/python/ops/math_grad.py:102: div (from tensorflow.python.ops.math_ops) is deprecated and will be removed in a future version.\n",
      "Instructions for updating:\n",
      "Deprecated in favor of operator or tf.math.divide.\n",
      "epoch: 1 lr: 0.04000000000000001 train loss: 7.740 train acc:0.344 val loss: 7.214 val acc: 0.250 time:64.851\n",
      "epoch: 2 lr: 0.020000500000000004 train loss: 7.740 train acc:0.344 val loss: 7.235 val acc: 0.250 time:131.207\n",
      "\n",
      "   total_model_parameters  epochs  batch_size  max_lr    min_lr  anneal_perc  \\\n",
      "0                  343264       2          32     0.4  0.000001         0.15   \n",
      "\n",
      "   max_mom  min_mom  time_taken  train_acc  test_acc      wd  train_loss  \\\n",
      "0     0.95      0.8  131.212254    0.34375      0.25  0.0005    7.739746   \n",
      "\n",
      "   test_loss                                               runs  \\\n",
      "0   7.234863  {'epoch': [1, 2], 'time': [64.87336540222168, ...   \n",
      "\n",
      "              log_time           comments  \n",
      "0  2019-09-01 02:23:36  Integration tests  \n"
     ]
    },
    {
     "data": {
      "text/plain": [
       "[<all_models.DavidNet at 0x7fb600081dd8>,\n",
       " 131.3533811569214,\n",
       " 0.34375,\n",
       " 0.25,\n",
       " 7.73974609375,\n",
       " 7.23486328125]"
      ]
     },
     "execution_count": 11,
     "metadata": {},
     "output_type": "execute_result"
    }
   ],
   "source": [
    "model_fn = DavidNet\n",
    "\n",
    "obj = Run()\n",
    "\n",
    "obj.run(model_fn, params_tune, trn_data_supplier, tst_data_supplier)"
   ]
  },
  {
   "cell_type": "code",
   "execution_count": 12,
   "metadata": {
    "scrolled": true
   },
   "outputs": [
    {
     "name": "stdout",
     "output_type": "stream",
     "text": [
      "running lr_finder\n"
     ]
    },
    {
     "data": {
      "application/vnd.jupyter.widget-view+json": {
       "model_id": "1bd0f991ef4244f49a7c2618809b7f35",
       "version_major": 2,
       "version_minor": 0
      },
      "text/plain": [
       "HBox(children=(IntProgress(value=0, max=4), HTML(value='')))"
      ]
     },
     "metadata": {},
     "output_type": "display_data"
    },
    {
     "name": "stdout",
     "output_type": "stream",
     "text": [
      "1\n",
      "****training starts****\n"
     ]
    },
    {
     "data": {
      "application/vnd.jupyter.widget-view+json": {
       "model_id": "71744c98ae7e41979931dae9a7190ba3",
       "version_major": 2,
       "version_minor": 0
      },
      "text/plain": [
       "HBox(children=(IntProgress(value=0, max=1), HTML(value='')))"
      ]
     },
     "metadata": {},
     "output_type": "display_data"
    },
    {
     "name": "stdout",
     "output_type": "stream",
     "text": [
      "\n",
      "2\n",
      "****training starts****\n"
     ]
    },
    {
     "data": {
      "application/vnd.jupyter.widget-view+json": {
       "model_id": "96f6a3b4a36643e7ae34ee945e23f035",
       "version_major": 2,
       "version_minor": 0
      },
      "text/plain": [
       "HBox(children=(IntProgress(value=0, max=1), HTML(value='')))"
      ]
     },
     "metadata": {},
     "output_type": "display_data"
    },
    {
     "name": "stdout",
     "output_type": "stream",
     "text": [
      "\n",
      "3\n",
      "****training starts****\n"
     ]
    },
    {
     "data": {
      "application/vnd.jupyter.widget-view+json": {
       "model_id": "8d6595e4c40f41288a683533e33851b1",
       "version_major": 2,
       "version_minor": 0
      },
      "text/plain": [
       "HBox(children=(IntProgress(value=0, max=1), HTML(value='')))"
      ]
     },
     "metadata": {},
     "output_type": "display_data"
    },
    {
     "name": "stdout",
     "output_type": "stream",
     "text": [
      "\n",
      "4\n",
      "****training starts****\n"
     ]
    },
    {
     "data": {
      "application/vnd.jupyter.widget-view+json": {
       "model_id": "407d020bbaf447619c8640e942d5a17c",
       "version_major": 2,
       "version_minor": 0
      },
      "text/plain": [
       "HBox(children=(IntProgress(value=0, max=1), HTML(value='')))"
      ]
     },
     "metadata": {},
     "output_type": "display_data"
    },
    {
     "name": "stdout",
     "output_type": "stream",
     "text": [
      "\n",
      "\n"
     ]
    },
    {
     "data": {
      "image/png": "[encoded data removed]",
      "text/plain": [
       "<Figure size 432x288 with 1 Axes>"
      ]
     },
     "metadata": {
      "needs_background": "light"
     },
     "output_type": "display_data"
    },
    {
     "data": {
      "text/plain": [
       "[[0.001, 0.01, 0.1, 1],\n",
       " [7.69580078125, 7.48291015625, 6.5809326171875, 7.097412109375]]"
      ]
     },
     "execution_count": 12,
     "metadata": {},
     "output_type": "execute_result"
    }
   ],
   "source": [
    "obj.lr_finder(model_fn, lr_list=[0.001, 0.01, 0.1, 1])"
   ]
  }
 ],
 "metadata": {
  "kernelspec": {
   "display_name": "Python 3",
   "language": "python",
   "name": "python3"
  },
  "language_info": {
   "codemirror_mode": {
    "name": "ipython",
    "version": 3
   },
   "file_extension": ".py",
   "mimetype": "text/x-python",
   "name": "python",
   "nbconvert_exporter": "python",
   "pygments_lexer": "ipython3",
   "version": "3.7.3"
  }
 },
 "nbformat": 4,
 "nbformat_minor": 2
}

{
 "cells": [
  {
   "cell_type": "code",
   "execution_count": 1,
   "metadata": {
    "scrolled": true
   },
   "outputs": [
    {
     "name": "stderr",
     "output_type": "stream",
     "text": [
      "/home/fractaluser/anaconda3/envs/tensorflow/lib/python3.7/site-packages/tensorflow/python/framework/dtypes.py:526: FutureWarning: Passing (type, 1) or '1type' as a synonym of type is deprecated; in a future version of numpy, it will be understood as (type, (1,)) / '(1,)type'.\n",
      "  _np_qint8 = np.dtype([(\"qint8\", np.int8, 1)])\n",
      "/home/fractaluser/anaconda3/envs/tensorflow/lib/python3.7/site-packages/tensorflow/python/framework/dtypes.py:527: FutureWarning: Passing (type, 1) or '1type' as a synonym of type is deprecated; in a future version of numpy, it will be understood as (type, (1,)) / '(1,)type'.\n",
      "  _np_quint8 = np.dtype([(\"quint8\", np.uint8, 1)])\n",
      "/home/fractaluser/anaconda3/envs/tensorflow/lib/python3.7/site-packages/tensorflow/python/framework/dtypes.py:528: FutureWarning: Passing (type, 1) or '1type' as a synonym of type is deprecated; in a future version of numpy, it will be understood as (type, (1,)) / '(1,)type'.\n",
      "  _np_qint16 = np.dtype([(\"qint16\", np.int16, 1)])\n",
      "/home/fractaluser/anaconda3/envs/tensorflow/lib/python3.7/site-packages/tensorflow/python/framework/dtypes.py:529: FutureWarning: Passing (type, 1) or '1type' as a synonym of type is deprecated; in a future version of numpy, it will be understood as (type, (1,)) / '(1,)type'.\n",
      "  _np_quint16 = np.dtype([(\"quint16\", np.uint16, 1)])\n",
      "/home/fractaluser/anaconda3/envs/tensorflow/lib/python3.7/site-packages/tensorflow/python/framework/dtypes.py:530: FutureWarning: Passing (type, 1) or '1type' as a synonym of type is deprecated; in a future version of numpy, it will be understood as (type, (1,)) / '(1,)type'.\n",
      "  _np_qint32 = np.dtype([(\"qint32\", np.int32, 1)])\n",
      "/home/fractaluser/anaconda3/envs/tensorflow/lib/python3.7/site-packages/tensorflow/python/framework/dtypes.py:535: FutureWarning: Passing (type, 1) or '1type' as a synonym of type is deprecated; in a future version of numpy, it will be understood as (type, (1,)) / '(1,)type'.\n",
      "  np_resource = np.dtype([(\"resource\", np.ubyte, 1)])\n"
     ]
    }
   ],
   "source": [
    "import numpy as np\n",
    "\n",
    "import tensorflow as tf\n",
    "\n",
    "import numpy as np\n",
    "import time, math\n",
    "from tqdm import tqdm_notebook as tqdm\n",
    "\n",
    "\n",
    "import tensorflow.contrib.eager as tfe\n",
    "tf.enable_eager_execution()"
   ]
  },
  {
   "cell_type": "code",
   "execution_count": 2,
   "metadata": {
    "scrolled": false
   },
   "outputs": [
    {
     "name": "stderr",
     "output_type": "stream",
     "text": [
      "Using TensorFlow backend.\n"
     ]
    },
    {
     "data": {
      "text/plain": [
       "<module 'data_pipeline' from '/home/fractaluser/Personal/Narahari/eva_research/v2/eva_research_team4/src/data_pipeline.py'>"
      ]
     },
     "execution_count": 2,
     "metadata": {},
     "output_type": "execute_result"
    }
   ],
   "source": [
    "from all_models import DavidNet\n",
    "\n",
    "import run_util\n",
    "\n",
    "\n",
    "from importlib import reload\n",
    "reload(run_util)\n",
    "\n",
    "from run_util import Run\n",
    "\n",
    "import data_pipeline\n",
    "\n",
    "reload(data_pipeline)"
   ]
  },
  {
   "cell_type": "code",
   "execution_count": 3,
   "metadata": {
    "scrolled": true
   },
   "outputs": [
    {
     "name": "stdout",
     "output_type": "stream",
     "text": [
      "saving to tf records\n",
      "WARNING:tensorflow:From /home/fractaluser/Personal/Narahari/eva_research/v2/eva_research_team4/src/data_pipeline.py:28: maybe_download (from tensorflow.contrib.learn.python.learn.datasets.base) is deprecated and will be removed in a future version.\n",
      "Instructions for updating:\n",
      "Please write your own downloading logic.\n",
      "Generating ../data/train/train.tfrecords\n",
      "Generating ../data/eval/eval.tfrecords\n",
      "getting tf records complete\n"
     ]
    }
   ],
   "source": [
    "data_pipeline.get_data(dataset_name = \"CIFAR10\", tfrecords_flag=True)"
   ]
  },
  {
   "cell_type": "code",
   "execution_count": 4,
   "metadata": {},
   "outputs": [],
   "source": [
    "BATCH_SIZE = 25 #@param {type:\"integer\"}\n",
    "MOMENTUM = 0.95 #@param {type:\"number\"}\n",
    "\n",
    "MIN_MOMENTUM = 0.8 #@param {type:\"number\"}\n",
    "LEARNING_RATE = 0.4 #@param {type:\"number\"}\n",
    "WEIGHT_DECAY = 5e-4 #@param {type:\"number\"}\n",
    "EPOCHS = 1 #@param {type:\"integer\"}\n",
    "\n",
    "\n",
    "MIN_LEARNING_RATE = 0.000001 #@param {type:\"number\"}\n",
    "\n",
    "END_LR_SMOOTHING_PERC = 0.15 #@param {type:\"number\"}\n",
    "\n",
    "COMMENTS = \"Integration tests\" #@param {type:\"string\"}\n",
    "\n",
    "\n",
    "params_tune = {\n",
    "    \n",
    "  \"epochs\":EPOCHS, \n",
    " \n",
    "  \"batch_size\" : BATCH_SIZE,\n",
    "\n",
    "  \"max_lr\": LEARNING_RATE,\n",
    "\n",
    "  \"min_lr\":MIN_LEARNING_RATE,\n",
    "\n",
    "  \"end_anneal_pc\":END_LR_SMOOTHING_PERC,\n",
    "\n",
    "  \"max_mom\":MOMENTUM,\n",
    " \n",
    "  \"min_mom\":MIN_MOMENTUM,\n",
    " \n",
    "  \"wd\":WEIGHT_DECAY,\n",
    "  \n",
    "  \"skip_testing_epochs\":0,\n",
    "    \n",
    "  \"batches_per_epoch\":100//BATCH_SIZE,\n",
    "    \n",
    "  \"comments\":COMMENTS\n",
    "}"
   ]
  },
  {
   "cell_type": "code",
   "execution_count": 5,
   "metadata": {},
   "outputs": [],
   "source": [
    "loaded_tfrecs = data_pipeline.load_tfrecords(params_tune[\"batch_size\"])\n",
    "\n",
    "train_dataset = loaded_tfrecs[\"train\"]\n",
    "\n",
    "eval_dataset = loaded_tfrecs[\"eval\"]"
   ]
  },
  {
   "cell_type": "markdown",
   "metadata": {},
   "source": [
    "###### Running only on 50 images, just for integration tests"
   ]
  },
  {
   "cell_type": "code",
   "execution_count": 6,
   "metadata": {},
   "outputs": [],
   "source": [
    "def tst_data_supplier(epoch_num):\n",
    "    \n",
    "    batch_size = params_tune[\"batch_size\"]\n",
    "    \n",
    "    global eval_dataset\n",
    "  \n",
    "    len_test = 50\n",
    "\n",
    "    test_set = eval_dataset.take(50).batch(batch_size).prefetch(1)\n",
    "    \n",
    "    return (test_set, len_test)\n",
    "\n",
    "def trn_data_supplier(epoch_num):\n",
    "    \n",
    "    batch_size = params_tune[\"batch_size\"]\n",
    "  \n",
    "    global train_dataset\n",
    "    \n",
    "    len_train = 50\n",
    "\n",
    "    train_set = train_dataset.take(50).batch(batch_size).prefetch(1)\n",
    "    \n",
    "    return (train_set, len_train)"
   ]
  },
  {
   "cell_type": "code",
   "execution_count": 7,
   "metadata": {},
   "outputs": [],
   "source": [
    "model_fn = DavidNet\n",
    "\n",
    "obj = Run()"
   ]
  },
  {
   "cell_type": "code",
   "execution_count": 8,
   "metadata": {
    "scrolled": false
   },
   "outputs": [
    {
     "data": {
      "application/vnd.jupyter.widget-view+json": {
       "model_id": "14751980331a49398547e3b952527f50",
       "version_major": 2,
       "version_minor": 0
      },
      "text/plain": [
       "HBox(children=(IntProgress(value=0, max=1), HTML(value='')))"
      ]
     },
     "metadata": {},
     "output_type": "display_data"
    },
    {
     "name": "stdout",
     "output_type": "stream",
     "text": [
      "WARNING:tensorflow:From /home/fractaluser/anaconda3/envs/tensorflow/lib/python3.7/site-packages/tensorflow/python/data/ops/iterator_ops.py:532: colocate_with (from tensorflow.python.framework.ops) is deprecated and will be removed in a future version.\n",
      "Instructions for updating:\n",
      "Colocations handled automatically by placer.\n",
      "WARNING:tensorflow:From /home/fractaluser/anaconda3/envs/tensorflow/lib/python3.7/site-packages/tensorflow/python/ops/math_grad.py:102: div (from tensorflow.python.ops.math_ops) is deprecated and will be removed in a future version.\n",
      "Instructions for updating:\n",
      "Deprecated in favor of operator or tf.math.divide.\n",
      "epoch: 1 lr: 0.020000500000000004 train loss: 2.378 train acc:0.100 val loss: 2.384 val acc: 0.100 time:2.250\n",
      "\n",
      "   total_model_parameters  epochs  batch_size  max_lr    min_lr  anneal_perc  \\\n",
      "0                  343264       1          25     0.4  0.000001         0.15   \n",
      "\n",
      "   max_mom  min_mom  time_taken  train_acc  test_acc      wd  train_loss  \\\n",
      "0     0.95      0.8    2.254236        0.1       0.1  0.0005    2.378357   \n",
      "\n",
      "   test_loss                                               runs  \\\n",
      "0   2.384392  {'epoch': [1], 'time': [2.2509124279022217], '...   \n",
      "\n",
      "              log_time           comments  \n",
      "0  2019-09-02 07:34:34  Integration tests  \n"
     ]
    }
   ],
   "source": [
    "x = obj.run(model_fn, params_tune, trn_data_supplier, tst_data_supplier)"
   ]
  },
  {
   "cell_type": "code",
   "execution_count": 9,
   "metadata": {
    "scrolled": true
   },
   "outputs": [
    {
     "name": "stderr",
     "output_type": "stream",
     "text": [
      "Clipping input data to the valid range for imshow with RGB data ([0..1] for floats or [0..255] for integers).\n",
      "Clipping input data to the valid range for imshow with RGB data ([0..1] for floats or [0..255] for integers).\n",
      "Clipping input data to the valid range for imshow with RGB data ([0..1] for floats or [0..255] for integers).\n",
      "Clipping input data to the valid range for imshow with RGB data ([0..1] for floats or [0..255] for integers).\n",
      "Clipping input data to the valid range for imshow with RGB data ([0..1] for floats or [0..255] for integers).\n",
      "Clipping input data to the valid range for imshow with RGB data ([0..1] for floats or [0..255] for integers).\n",
      "Clipping input data to the valid range for imshow with RGB data ([0..1] for floats or [0..255] for integers).\n",
      "Clipping input data to the valid range for imshow with RGB data ([0..1] for floats or [0..255] for integers).\n",
      "Clipping input data to the valid range for imshow with RGB data ([0..1] for floats or [0..255] for integers).\n",
      "Clipping input data to the valid range for imshow with RGB data ([0..1] for floats or [0..255] for integers).\n"
     ]
    },
    {
     "data": {
      "image/png": "[encoded data removed]",
      "text/plain": [
       "<Figure size 864x864 with 10 Axes>"
      ]
     },
     "metadata": {},
     "output_type": "display_data"
    }
   ],
   "source": [
    "obj.show_missclassified_images(num_images=10, tst_data_supplier=tst_data_supplier)"
   ]
  },
  {
   "cell_type": "code",
   "execution_count": 10,
   "metadata": {
    "scrolled": true
   },
   "outputs": [
    {
     "data": {
      "image/png": "[encoded data removed]",
      "text/plain": [
       "<Figure size 720x504 with 2 Axes>"
      ]
     },
     "metadata": {
      "needs_background": "light"
     },
     "output_type": "display_data"
    }
   ],
   "source": [
    "obj.plot_confusion_matrix(tst_data_supplier=tst_data_supplier)"
   ]
  },
  {
   "cell_type": "markdown",
   "metadata": {},
   "source": [
    "### LR Finder"
   ]
  },
  {
   "cell_type": "markdown",
   "metadata": {},
   "source": [
    "Creating a separate data supplier for lr finder"
   ]
  },
  {
   "cell_type": "code",
   "execution_count": 11,
   "metadata": {
    "scrolled": true
   },
   "outputs": [
    {
     "name": "stdout",
     "output_type": "stream",
     "text": [
      "running lr_finder\n"
     ]
    },
    {
     "data": {
      "application/vnd.jupyter.widget-view+json": {
       "model_id": "0226822d50a0466fb8563dbe518e05f1",
       "version_major": 2,
       "version_minor": 0
      },
      "text/plain": [
       "HBox(children=(IntProgress(value=0, max=3), HTML(value='')))"
      ]
     },
     "metadata": {},
     "output_type": "display_data"
    },
    {
     "name": "stdout",
     "output_type": "stream",
     "text": [
      "1\n"
     ]
    },
    {
     "data": {
      "application/vnd.jupyter.widget-view+json": {
       "model_id": "f78fb4afb38142d999bf3bf8d3c46d87",
       "version_major": 2,
       "version_minor": 0
      },
      "text/plain": [
       "HBox(children=(IntProgress(value=0, max=1), HTML(value='')))"
      ]
     },
     "metadata": {},
     "output_type": "display_data"
    },
    {
     "name": "stdout",
     "output_type": "stream",
     "text": [
      "\n",
      "2\n"
     ]
    },
    {
     "data": {
      "application/vnd.jupyter.widget-view+json": {
       "model_id": "c6234a09a60e4bcf92c69f38f6a0b486",
       "version_major": 2,
       "version_minor": 0
      },
      "text/plain": [
       "HBox(children=(IntProgress(value=0, max=1), HTML(value='')))"
      ]
     },
     "metadata": {},
     "output_type": "display_data"
    },
    {
     "name": "stdout",
     "output_type": "stream",
     "text": [
      "\n",
      "3\n"
     ]
    },
    {
     "data": {
      "application/vnd.jupyter.widget-view+json": {
       "model_id": "8d020860b75240a2b858360713057ed3",
       "version_major": 2,
       "version_minor": 0
      },
      "text/plain": [
       "HBox(children=(IntProgress(value=0, max=1), HTML(value='')))"
      ]
     },
     "metadata": {},
     "output_type": "display_data"
    },
    {
     "name": "stdout",
     "output_type": "stream",
     "text": [
      "\n",
      "\n"
     ]
    },
    {
     "data": {
      "image/png": "[encoded data removed]",
      "text/plain": [
       "<Figure size 432x288 with 1 Axes>"
      ]
     },
     "metadata": {
      "needs_background": "light"
     },
     "output_type": "display_data"
    },
    {
     "data": {
      "text/plain": [
       "[[0.001, 0.01, 0.1],\n",
       " [2.3403173065185547, 2.379280548095703, 2.2927455139160156]]"
      ]
     },
     "execution_count": 11,
     "metadata": {},
     "output_type": "execute_result"
    }
   ],
   "source": [
    "obj.lr_finder(model_fn, lr_list=[0.001, 0.01, 0.1], tst_data_supplier=tst_data_supplier,\n",
    "             trn_data_supplier=trn_data_supplier)"
   ]
  },
  {
   "cell_type": "markdown",
   "metadata": {},
   "source": [
    "### Grid Search"
   ]
  },
  {
   "cell_type": "code",
   "execution_count": 12,
   "metadata": {
    "scrolled": true
   },
   "outputs": [
    {
     "data": {
      "application/vnd.jupyter.widget-view+json": {
       "model_id": "fbf5cde7d03e467e91503ce39cb9ee67",
       "version_major": 2,
       "version_minor": 0
      },
      "text/plain": [
       "HBox(children=(IntProgress(value=0, max=2), HTML(value='')))"
      ]
     },
     "metadata": {},
     "output_type": "display_data"
    },
    {
     "name": "stdout",
     "output_type": "stream",
     "text": [
      "\n",
      "   total_model_parameters  epochs  batch_size  max_lr    min_lr  anneal_perc  \\\n",
      "0                  343264       2          16     0.1  0.000001         0.15   \n",
      "\n",
      "   max_mom  min_mom  time_taken  train_acc  test_acc      wd  train_loss  \\\n",
      "0     0.95      0.8    3.603862       0.06      0.08  0.0005    2.519921   \n",
      "\n",
      "   test_loss                                               runs  \\\n",
      "0   2.411995  {'epoch': [1, 2], 'time': [1.9903497695922852,...   \n",
      "\n",
      "              log_time          comments  \n",
      "0  2019-09-02 07:34:47  GRID SEARCH RUNS  \n"
     ]
    },
    {
     "data": {
      "application/vnd.jupyter.widget-view+json": {
       "model_id": "3f95bf42703b4d439f1ad2d6a7dd1e88",
       "version_major": 2,
       "version_minor": 0
      },
      "text/plain": [
       "HBox(children=(IntProgress(value=0, max=2), HTML(value='')))"
      ]
     },
     "metadata": {},
     "output_type": "display_data"
    },
    {
     "name": "stdout",
     "output_type": "stream",
     "text": [
      "\n",
      "   total_model_parameters  epochs  batch_size  max_lr    min_lr  anneal_perc  \\\n",
      "0                  343264       2          16     0.4  0.000001         0.15   \n",
      "\n",
      "   max_mom  min_mom  time_taken  train_acc  test_acc      wd  train_loss  \\\n",
      "0     0.95      0.8    3.567328       0.04      0.08  0.0005     2.56009   \n",
      "\n",
      "   test_loss                                               runs  \\\n",
      "0   2.331406  {'epoch': [1, 2], 'time': [1.8936164379119873,...   \n",
      "\n",
      "              log_time          comments  \n",
      "0  2019-09-02 07:34:51  GRID SEARCH RUNS  \n"
     ]
    },
    {
     "data": {
      "application/vnd.jupyter.widget-view+json": {
       "model_id": "1863b98c11664dc9bbb59b1b722bb9d4",
       "version_major": 2,
       "version_minor": 0
      },
      "text/plain": [
       "HBox(children=(IntProgress(value=0, max=2), HTML(value='')))"
      ]
     },
     "metadata": {},
     "output_type": "display_data"
    },
    {
     "name": "stdout",
     "output_type": "stream",
     "text": [
      "\n",
      "   total_model_parameters  epochs  batch_size  max_lr    min_lr  anneal_perc  \\\n",
      "0                  343264       2          25     0.1  0.000001         0.15   \n",
      "\n",
      "   max_mom  min_mom  time_taken  train_acc  test_acc      wd  train_loss  \\\n",
      "0     0.95      0.8    3.731037        0.1      0.14  0.0005    2.378104   \n",
      "\n",
      "   test_loss                                               runs  \\\n",
      "0   2.470305  {'epoch': [1, 2], 'time': [1.9631614685058594,...   \n",
      "\n",
      "              log_time          comments  \n",
      "0  2019-09-02 07:34:55  GRID SEARCH RUNS  \n"
     ]
    },
    {
     "data": {
      "application/vnd.jupyter.widget-view+json": {
       "model_id": "2660f8d708ca4243a6cc9f1e91020ce3",
       "version_major": 2,
       "version_minor": 0
      },
      "text/plain": [
       "HBox(children=(IntProgress(value=0, max=2), HTML(value='')))"
      ]
     },
     "metadata": {},
     "output_type": "display_data"
    },
    {
     "name": "stdout",
     "output_type": "stream",
     "text": [
      "\n",
      "   total_model_parameters  epochs  batch_size  max_lr    min_lr  anneal_perc  \\\n",
      "0                  343264       2          25     0.4  0.000001         0.15   \n",
      "\n",
      "   max_mom  min_mom  time_taken  train_acc  test_acc      wd  train_loss  \\\n",
      "0     0.95      0.8    3.619226        0.1      0.08  0.0005    2.359582   \n",
      "\n",
      "   test_loss                                               runs  \\\n",
      "0   2.324177  {'epoch': [1, 2], 'time': [1.9395418167114258,...   \n",
      "\n",
      "              log_time          comments  \n",
      "0  2019-09-02 07:34:58  GRID SEARCH RUNS  \n"
     ]
    },
    {
     "data": {
      "application/vnd.jupyter.widget-view+json": {
       "model_id": "b8ded4ad100e4210a965052c9eba6195",
       "version_major": 2,
       "version_minor": 0
      },
      "text/plain": [
       "HBox(children=(IntProgress(value=0, max=3), HTML(value='')))"
      ]
     },
     "metadata": {},
     "output_type": "display_data"
    },
    {
     "name": "stdout",
     "output_type": "stream",
     "text": [
      "\n",
      "   total_model_parameters  epochs  batch_size  max_lr    min_lr  anneal_perc  \\\n",
      "0                  343264       3          16     0.1  0.000001         0.15   \n",
      "\n",
      "   max_mom  min_mom  time_taken  train_acc  test_acc      wd  train_loss  \\\n",
      "0     0.95      0.8     5.62626       0.08      0.08  0.0005    2.399074   \n",
      "\n",
      "   test_loss                                               runs  \\\n",
      "0   2.297631  {'epoch': [1, 2, 3], 'time': [1.92092800140380...   \n",
      "\n",
      "              log_time          comments  \n",
      "0  2019-09-02 07:35:04  GRID SEARCH RUNS  \n"
     ]
    },
    {
     "data": {
      "application/vnd.jupyter.widget-view+json": {
       "model_id": "29737a51cf834bdc92ec3406a54c077d",
       "version_major": 2,
       "version_minor": 0
      },
      "text/plain": [
       "HBox(children=(IntProgress(value=0, max=3), HTML(value='')))"
      ]
     },
     "metadata": {},
     "output_type": "display_data"
    },
    {
     "name": "stdout",
     "output_type": "stream",
     "text": [
      "\n",
      "   total_model_parameters  epochs  batch_size  max_lr    min_lr  anneal_perc  \\\n",
      "0                  343264       3          16     0.4  0.000001         0.15   \n",
      "\n",
      "   max_mom  min_mom  time_taken  train_acc  test_acc      wd  train_loss  \\\n",
      "0     0.95      0.8    5.239422       0.08      0.14  0.0005    2.347527   \n",
      "\n",
      "   test_loss                                               runs  \\\n",
      "0   2.313771  {'epoch': [1, 2, 3], 'time': [1.91425585746765...   \n",
      "\n",
      "              log_time          comments  \n",
      "0  2019-09-02 07:35:09  GRID SEARCH RUNS  \n"
     ]
    },
    {
     "data": {
      "application/vnd.jupyter.widget-view+json": {
       "model_id": "082a248bb2164f47af3ba1efc99b012c",
       "version_major": 2,
       "version_minor": 0
      },
      "text/plain": [
       "HBox(children=(IntProgress(value=0, max=3), HTML(value='')))"
      ]
     },
     "metadata": {},
     "output_type": "display_data"
    },
    {
     "name": "stdout",
     "output_type": "stream",
     "text": [
      "\n",
      "   total_model_parameters  epochs  batch_size  max_lr    min_lr  anneal_perc  \\\n",
      "0                  343264       3          25     0.1  0.000001         0.15   \n",
      "\n",
      "   max_mom  min_mom  time_taken  train_acc  test_acc      wd  train_loss  \\\n",
      "0     0.95      0.8    5.152814       0.08      0.06  0.0005    2.386072   \n",
      "\n",
      "   test_loss                                               runs  \\\n",
      "0   2.457598  {'epoch': [1, 2, 3], 'time': [1.87202358245849...   \n",
      "\n",
      "              log_time          comments  \n",
      "0  2019-09-02 07:35:14  GRID SEARCH RUNS  \n"
     ]
    },
    {
     "data": {
      "application/vnd.jupyter.widget-view+json": {
       "model_id": "377f04d3eab3467bb5dabe6ce39f697a",
       "version_major": 2,
       "version_minor": 0
      },
      "text/plain": [
       "HBox(children=(IntProgress(value=0, max=3), HTML(value='')))"
      ]
     },
     "metadata": {},
     "output_type": "display_data"
    },
    {
     "name": "stdout",
     "output_type": "stream",
     "text": [
      "\n",
      "   total_model_parameters  epochs  batch_size  max_lr    min_lr  anneal_perc  \\\n",
      "0                  343264       3          25     0.4  0.000001         0.15   \n",
      "\n",
      "   max_mom  min_mom  time_taken  train_acc  test_acc      wd  train_loss  \\\n",
      "0     0.95      0.8    5.083453       0.12      0.04  0.0005    2.382771   \n",
      "\n",
      "   test_loss                                               runs  \\\n",
      "0   2.351921  {'epoch': [1, 2, 3], 'time': [1.84444856643676...   \n",
      "\n",
      "              log_time          comments  \n",
      "0  2019-09-02 07:35:19  GRID SEARCH RUNS  \n"
     ]
    },
    {
     "data": {
      "text/plain": [
       "({'epochs': 2,\n",
       "  'batch_size': 25,\n",
       "  'max_lr': 0.1,\n",
       "  'min_lr': 1e-06,\n",
       "  'end_anneal_pc': 0.15,\n",
       "  'max_mom': 0.95,\n",
       "  'min_mom': 0.8,\n",
       "  'wd': 0.0005,\n",
       "  'skip_testing_epochs': 0,\n",
       "  'batches_per_epoch': 2000,\n",
       "  'comments': 'GRID SEARCH RUNS'},\n",
       " 0.14)"
      ]
     },
     "execution_count": 12,
     "metadata": {},
     "output_type": "execute_result"
    }
   ],
   "source": [
    "params_tune_grid = {\n",
    "    \n",
    "  \"epochs\":[2, 3] ,\n",
    " \n",
    "  \"batch_size\" : [16, 25],\n",
    "\n",
    "  \"max_lr\": [0.1, 0.4],\n",
    "\n",
    "  \"min_lr\":[MIN_LEARNING_RATE],\n",
    "\n",
    "  \"end_anneal_pc\":[END_LR_SMOOTHING_PERC],\n",
    "\n",
    "  \"max_mom\":[MOMENTUM],\n",
    " \n",
    "  \"min_mom\":[MIN_MOMENTUM],\n",
    " \n",
    "  \"wd\":[WEIGHT_DECAY],\n",
    "  \n",
    "  \"skip_testing_epochs\":[0],\n",
    "    \n",
    "  \"batches_per_epoch\":[50000//BATCH_SIZE],\n",
    "    \n",
    "   \"comments\":[\"GRID SEARCH RUNS\"]\n",
    "}\n",
    "\n",
    "obj.grid_search(model_fn, params_tune_grid, trn_data_supplier, tst_data_supplier)"
   ]
  },
  {
   "cell_type": "markdown",
   "metadata": {},
   "source": [
    "##### Viewing log"
   ]
  },
  {
   "cell_type": "code",
   "execution_count": 14,
   "metadata": {
    "scrolled": true
   },
   "outputs": [
    {
     "data": {
      "text/html": [
       "<div>\n",
       "<style scoped>\n",
       "    .dataframe tbody tr th:only-of-type {\n",
       "        vertical-align: middle;\n",
       "    }\n",
       "\n",
       "    .dataframe tbody tr th {\n",
       "        vertical-align: top;\n",
       "    }\n",
       "\n",
       "    .dataframe thead th {\n",
       "        text-align: right;\n",
       "    }\n",
       "</style>\n",
       "<table border=\"1\" class=\"dataframe\">\n",
       "  <thead>\n",
       "    <tr style=\"text-align: right;\">\n",
       "      <th></th>\n",
       "      <th>total_model_parameters</th>\n",
       "      <th>epochs</th>\n",
       "      <th>batch_size</th>\n",
       "      <th>max_lr</th>\n",
       "      <th>min_lr</th>\n",
       "      <th>anneal_perc</th>\n",
       "      <th>max_mom</th>\n",
       "      <th>min_mom</th>\n",
       "      <th>time_taken</th>\n",
       "      <th>train_acc</th>\n",
       "      <th>test_acc</th>\n",
       "      <th>wd</th>\n",
       "      <th>train_loss</th>\n",
       "      <th>test_loss</th>\n",
       "      <th>runs</th>\n",
       "      <th>log_time</th>\n",
       "      <th>comments</th>\n",
       "    </tr>\n",
       "  </thead>\n",
       "  <tbody>\n",
       "    <tr>\n",
       "      <td>79</td>\n",
       "      <td>343264</td>\n",
       "      <td>2</td>\n",
       "      <td>25</td>\n",
       "      <td>0.4</td>\n",
       "      <td>0.000001</td>\n",
       "      <td>0.15</td>\n",
       "      <td>0.95</td>\n",
       "      <td>0.8</td>\n",
       "      <td>3.619226</td>\n",
       "      <td>0.10</td>\n",
       "      <td>0.08</td>\n",
       "      <td>0.0005</td>\n",
       "      <td>2.359582</td>\n",
       "      <td>2.324177</td>\n",
       "      <td>{'epoch': [1, 2], 'time': [1.9395418167114258,...</td>\n",
       "      <td>2019-09-02 07:34:58</td>\n",
       "      <td>GRID SEARCH RUNS</td>\n",
       "    </tr>\n",
       "    <tr>\n",
       "      <td>80</td>\n",
       "      <td>343264</td>\n",
       "      <td>3</td>\n",
       "      <td>16</td>\n",
       "      <td>0.1</td>\n",
       "      <td>0.000001</td>\n",
       "      <td>0.15</td>\n",
       "      <td>0.95</td>\n",
       "      <td>0.8</td>\n",
       "      <td>5.626260</td>\n",
       "      <td>0.08</td>\n",
       "      <td>0.08</td>\n",
       "      <td>0.0005</td>\n",
       "      <td>2.399074</td>\n",
       "      <td>2.297631</td>\n",
       "      <td>{'epoch': [1, 2, 3], 'time': [1.92092800140380...</td>\n",
       "      <td>2019-09-02 07:35:04</td>\n",
       "      <td>GRID SEARCH RUNS</td>\n",
       "    </tr>\n",
       "    <tr>\n",
       "      <td>81</td>\n",
       "      <td>343264</td>\n",
       "      <td>3</td>\n",
       "      <td>16</td>\n",
       "      <td>0.4</td>\n",
       "      <td>0.000001</td>\n",
       "      <td>0.15</td>\n",
       "      <td>0.95</td>\n",
       "      <td>0.8</td>\n",
       "      <td>5.239422</td>\n",
       "      <td>0.08</td>\n",
       "      <td>0.14</td>\n",
       "      <td>0.0005</td>\n",
       "      <td>2.347527</td>\n",
       "      <td>2.313771</td>\n",
       "      <td>{'epoch': [1, 2, 3], 'time': [1.91425585746765...</td>\n",
       "      <td>2019-09-02 07:35:09</td>\n",
       "      <td>GRID SEARCH RUNS</td>\n",
       "    </tr>\n",
       "    <tr>\n",
       "      <td>82</td>\n",
       "      <td>343264</td>\n",
       "      <td>3</td>\n",
       "      <td>25</td>\n",
       "      <td>0.1</td>\n",
       "      <td>0.000001</td>\n",
       "      <td>0.15</td>\n",
       "      <td>0.95</td>\n",
       "      <td>0.8</td>\n",
       "      <td>5.152814</td>\n",
       "      <td>0.08</td>\n",
       "      <td>0.06</td>\n",
       "      <td>0.0005</td>\n",
       "      <td>2.386072</td>\n",
       "      <td>2.457598</td>\n",
       "      <td>{'epoch': [1, 2, 3], 'time': [1.87202358245849...</td>\n",
       "      <td>2019-09-02 07:35:14</td>\n",
       "      <td>GRID SEARCH RUNS</td>\n",
       "    </tr>\n",
       "    <tr>\n",
       "      <td>83</td>\n",
       "      <td>343264</td>\n",
       "      <td>3</td>\n",
       "      <td>25</td>\n",
       "      <td>0.4</td>\n",
       "      <td>0.000001</td>\n",
       "      <td>0.15</td>\n",
       "      <td>0.95</td>\n",
       "      <td>0.8</td>\n",
       "      <td>5.083453</td>\n",
       "      <td>0.12</td>\n",
       "      <td>0.04</td>\n",
       "      <td>0.0005</td>\n",
       "      <td>2.382771</td>\n",
       "      <td>2.351921</td>\n",
       "      <td>{'epoch': [1, 2, 3], 'time': [1.84444856643676...</td>\n",
       "      <td>2019-09-02 07:35:19</td>\n",
       "      <td>GRID SEARCH RUNS</td>\n",
       "    </tr>\n",
       "  </tbody>\n",
       "</table>\n",
       "</div>"
      ],
      "text/plain": [
       "    total_model_parameters  epochs  batch_size  max_lr    min_lr  anneal_perc  \\\n",
       "79                  343264       2          25     0.4  0.000001         0.15   \n",
       "80                  343264       3          16     0.1  0.000001         0.15   \n",
       "81                  343264       3          16     0.4  0.000001         0.15   \n",
       "82                  343264       3          25     0.1  0.000001         0.15   \n",
       "83                  343264       3          25     0.4  0.000001         0.15   \n",
       "\n",
       "    max_mom  min_mom  time_taken  train_acc  test_acc      wd  train_loss  \\\n",
       "79     0.95      0.8    3.619226       0.10      0.08  0.0005    2.359582   \n",
       "80     0.95      0.8    5.626260       0.08      0.08  0.0005    2.399074   \n",
       "81     0.95      0.8    5.239422       0.08      0.14  0.0005    2.347527   \n",
       "82     0.95      0.8    5.152814       0.08      0.06  0.0005    2.386072   \n",
       "83     0.95      0.8    5.083453       0.12      0.04  0.0005    2.382771   \n",
       "\n",
       "    test_loss                                               runs  \\\n",
       "79   2.324177  {'epoch': [1, 2], 'time': [1.9395418167114258,...   \n",
       "80   2.297631  {'epoch': [1, 2, 3], 'time': [1.92092800140380...   \n",
       "81   2.313771  {'epoch': [1, 2, 3], 'time': [1.91425585746765...   \n",
       "82   2.457598  {'epoch': [1, 2, 3], 'time': [1.87202358245849...   \n",
       "83   2.351921  {'epoch': [1, 2, 3], 'time': [1.84444856643676...   \n",
       "\n",
       "               log_time          comments  \n",
       "79  2019-09-02 07:34:58  GRID SEARCH RUNS  \n",
       "80  2019-09-02 07:35:04  GRID SEARCH RUNS  \n",
       "81  2019-09-02 07:35:09  GRID SEARCH RUNS  \n",
       "82  2019-09-02 07:35:14  GRID SEARCH RUNS  \n",
       "83  2019-09-02 07:35:19  GRID SEARCH RUNS  "
      ]
     },
     "execution_count": 14,
     "metadata": {},
     "output_type": "execute_result"
    }
   ],
   "source": [
    "import pandas as pd\n",
    "\n",
    "pd.read_csv(\"../data/run_logger.csv\").tail()"
   ]
  },
  {
   "cell_type": "markdown",
   "metadata": {},
   "source": [
    "#### Numpy implementation"
   ]
  },
  {
   "cell_type": "raw",
   "metadata": {},
   "source": [
    "x_train, y_train, x_test, y_test = data_pipeline.load_saved_numpy_data(\n",
    "    train_path=[\"../data/train/train_x.npy\",\"../data/train/train_y.npy\"],\n",
    "    test_path=[\"../data/test/test_x.npy\", \"../data/test/test_y.npy\"])"
   ]
  },
  {
   "cell_type": "raw",
   "metadata": {},
   "source": [
    "def tst_data_supplier(epoch_num):\n",
    "    \n",
    "    batch_size = params_tune[\"batch_size\"]\n",
    "    \n",
    "    global eval_dataset\n",
    "  \n",
    "    len_test = x_test[0].shape[0]\n",
    "\n",
    "    test_set = tf.data.Dataset.from_tensor_slices((x_test[:30,:,:,:],\n",
    "                                                   y_test[:30])).batch(batch_size).prefetch(1)\n",
    "    \n",
    "    return (test_set, len_test)\n",
    "\n",
    "def trn_data_supplier(epoch_num):\n",
    "    \n",
    "    batch_size = params_tune[\"batch_size\"]\n",
    "  \n",
    "    global y_train\n",
    "    \n",
    "    global x_train\n",
    "    \n",
    "    len_test = x_train[0].shape[0]\n",
    "\n",
    "    test_set = tf.data.Dataset.from_tensor_slices((x_train[:50,:,:,:], \n",
    "                                        y_train[:50])).batch(batch_size).prefetch(1)\n",
    "    \n",
    "    return (test_set, len_test)"
   ]
  },
  {
   "cell_type": "raw",
   "metadata": {},
   "source": [
    "def tst_data_supplier_lr(epoch, test_num_batches=2):\n",
    " \n",
    "    batch_size = params_tune[\"batch_size\"]\n",
    "    \n",
    "    global x_test\n",
    "  \n",
    "    global y_test\n",
    "  \n",
    "    sample_idx = np.random.choice(y_test.size, test_num_batches * batch_size, replace=False)\n",
    "\n",
    "    x_test_lr = x_test[sample_idx, :, :, :]\n",
    "\n",
    "    y_test_lr = y_test[sample_idx]\n",
    "    \n",
    "    len_test = x_test_lr[0].shape[0]\n",
    "\n",
    "    test_set = tf.data.Dataset.from_tensor_slices((x_test_lr,\n",
    "                                                   y_test_lr)).batch(batch_size).prefetch(1)\n",
    "\n",
    "    return (test_set, len_test)\n",
    "\n",
    "def trn_data_supplier_lr(epoch, train_num_batches=2):\n",
    " \n",
    "    batch_size = params_tune[\"batch_size\"]\n",
    "    \n",
    "    global x_train\n",
    "  \n",
    "    global y_train\n",
    "  \n",
    "    sample_idx = np.random.choice(y_train.size, train_num_batches * batch_size, replace=False)\n",
    "\n",
    "    x_train_lr = x_train[sample_idx, :, :, :]\n",
    "\n",
    "    y_train_lr = y_train[sample_idx]\n",
    "    \n",
    "    len_train = x_train_lr[0].shape[0]\n",
    "\n",
    "    train_set = tf.data.Dataset.from_tensor_slices((x_train_lr,\n",
    "                                                   y_train_lr)).batch(batch_size).prefetch(1)\n",
    "\n",
    "    return (train_set, len_train)"
   ]
  }
 ],
 "metadata": {
  "kernelspec": {
   "display_name": "Python 3",
   "language": "python",
   "name": "python3"
  },
  "language_info": {
   "codemirror_mode": {
    "name": "ipython",
    "version": 3
   },
   "file_extension": ".py",
   "mimetype": "text/x-python",
   "name": "python",
   "nbconvert_exporter": "python",
   "pygments_lexer": "ipython3",
   "version": "3.7.3"
  }
 },
 "nbformat": 4,
 "nbformat_minor": 2
}

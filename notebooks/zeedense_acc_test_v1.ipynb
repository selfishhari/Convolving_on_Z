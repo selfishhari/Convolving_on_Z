{
  "nbformat": 4,
  "nbformat_minor": 0,
  "metadata": {
    "kernelspec": {
      "name": "python3",
      "display_name": "Python 3"
    },
    "language_info": {
      "codemirror_mode": {
        "name": "ipython",
        "version": 3
      },
      "file_extension": ".py",
      "mimetype": "text/x-python",
      "name": "python",
      "nbconvert_exporter": "python",
      "pygments_lexer": "ipython3",
      "version": "3.7.3"
    },
    "colab": {
      "name": "zeedensenext_multisoft_7M_params_xaxis_noroots_withviz.ipynb",
      "provenance": [],
      "collapsed_sections": []
    },
    "accelerator": "GPU"
  },
  "cells": [
    {
      "cell_type": "markdown",
      "metadata": {
        "id": "AyG26cdLMvgc",
        "colab_type": "text"
      },
      "source": [
        "Contents:\n",
        "1. <a href=#data_dir>Set working dir and Clone from git hub(for first time)</a><br>\n",
        "2. <a href=#data_pipeline>Data Pipeline</a><br>\n",
        "3. <a href=#train>Train</a><br>\n",
        "4. <a href=#results>Results</a>\n",
        "5. <a href=#viz_differences>Visualizing Prediction differences at different softmaxes</a><br>\n",
        "6. <a href=#viz_good_bad>Visualizing highly confidenct correct and incorrect predictions</a><br>\n"
      ]
    },
    {
      "cell_type": "code",
      "metadata": {
        "scrolled": true,
        "id": "DJYux3EMFOhP",
        "colab_type": "code",
        "colab": {}
      },
      "source": [
        "import numpy as np\n",
        "\n",
        "import tensorflow as tf\n",
        "\n",
        "import numpy as np\n",
        "import time, math\n",
        "from tqdm import tqdm_notebook as tqdm\n",
        "\n",
        "\n",
        "import tensorflow.contrib.eager as tfe\n",
        "tf.enable_eager_execution()"
      ],
      "execution_count": 0,
      "outputs": []
    },
    {
      "cell_type": "markdown",
      "metadata": {
        "id": "07VfUccj4o2c",
        "colab_type": "text"
      },
      "source": [
        "<a name=data_dir></a>"
      ]
    },
    {
      "cell_type": "markdown",
      "metadata": {
        "id": "NoM07x5f4t-G",
        "colab_type": "text"
      },
      "source": [
        "# Data Directory Set Up. \n",
        "Clone from git if running for first time. Else git pull"
      ]
    },
    {
      "cell_type": "code",
      "metadata": {
        "id": "MiCclHjhFQ9P",
        "colab_type": "code",
        "colab": {}
      },
      "source": [
        "import os\n",
        "os.getcwd()\n",
        "from google.colab import drive\n",
        "import os\n",
        "drive.mount('/content/gdrive')\n",
        "\n",
        "#IF YOU ARE CLONING FOR THE FIRST TIME in colab please uncomment all the below 5 lines of code. \n",
        "#Put git user name and password in appropriate places\n",
        "\n",
        "#root_path = 'gdrive/My Drive/Colab Notebooks/' #change dir to folder where you want to clone\n",
        "#os.chdir('/content/' + root_path)\n",
        "#!git clone https://<UR_GIT_USERNAME>:<GIT_PASSWORD>@github.com/selfishhari/eva_research_team4.git\n",
        "#!git branch -r | grep -v '\\->' | while read remote; do git branch --track \"${remote#origin/}\" \"$remote\"; done\n",
        "#!git checkout zeedense\n",
        "\n",
        "\n",
        "root_path = 'gdrive/My Drive/Colab Notebooks/eva_research_team4/src/' #change dir to your project folder's src\n",
        "\n",
        "os.chdir('/content/' + root_path)\n",
        "os.getcwd()"
      ],
      "execution_count": 0,
      "outputs": []
    },
    {
      "cell_type": "code",
      "metadata": {
        "id": "i5rEveGLmi6P",
        "colab_type": "code",
        "colab": {}
      },
      "source": [
        "!git branch\n",
        "#YOU NEED TO BE ON \"zeedense\" branch"
      ],
      "execution_count": 0,
      "outputs": []
    },
    {
      "cell_type": "code",
      "metadata": {
        "id": "RTPh1jRp6UXQ",
        "colab_type": "code",
        "colab": {}
      },
      "source": [
        "!git pull"
      ],
      "execution_count": 0,
      "outputs": []
    },
    {
      "cell_type": "code",
      "metadata": {
        "scrolled": false,
        "id": "r0VIENINFOhV",
        "colab_type": "code",
        "colab": {}
      },
      "source": [
        "#from all_models import DavidNet\n",
        "\n",
        "\n",
        "import run_util\n",
        "\n",
        "\n",
        "from importlib import reload\n",
        "reload(run_util)\n",
        "\n",
        "from run_util import Run\n",
        "\n",
        "import data_pipeline\n",
        "\n",
        "reload(data_pipeline)\n",
        "\n",
        "from zeedensenet import ZeeDenseNet"
      ],
      "execution_count": 0,
      "outputs": []
    },
    {
      "cell_type": "markdown",
      "metadata": {
        "id": "zaN9dnSJNl49",
        "colab_type": "text"
      },
      "source": [
        "<a name=data_pipeline></a>"
      ]
    },
    {
      "cell_type": "markdown",
      "metadata": {
        "id": "wqZhQB0JNsqH",
        "colab_type": "text"
      },
      "source": [
        "# Data Pipeline"
      ]
    },
    {
      "cell_type": "code",
      "metadata": {
        "scrolled": true,
        "id": "DmYDmfSmFOhY",
        "colab_type": "code",
        "colab": {}
      },
      "source": [
        "data_pipeline.get_data(dataset_name = \"CIFAR10\", tfrecords_flag=True)"
      ],
      "execution_count": 0,
      "outputs": []
    },
    {
      "cell_type": "markdown",
      "metadata": {
        "id": "pn0w2lxiFOhh",
        "colab_type": "text"
      },
      "source": [
        "######"
      ]
    },
    {
      "cell_type": "code",
      "metadata": {
        "id": "1sK4c-9_7yLf",
        "colab_type": "code",
        "colab": {}
      },
      "source": [
        "train_mean = np.array([125.30691805, 122.95039414, 113.86538318])\n",
        "\n",
        "train_std= np.array([62.99321928, 62.08870764, 66.70489964])\n",
        "\n",
        "normalize = lambda x: ((x - train_mean) / train_std)\n",
        "\n",
        "def data_aug_train(x, y):\n",
        "    \n",
        "    #x = tf.image.per_image_standardization(x)\n",
        "    \n",
        "    x = normalize(x)\n",
        "        \n",
        "    #x = tf.image.random_flip_left_right(x)\n",
        "    \n",
        "    paddings = [(4, 4), (4, 4), (0, 0)]\n",
        "    \n",
        "    x = tf.pad(x, paddings, \"REFLECT\")\n",
        "    \n",
        "    x = tf.random_crop(x, [32, 32, 3])\n",
        "    \n",
        "    return (x, y)\n",
        "  \n",
        "def data_aug_test(x, y):\n",
        "    \n",
        "    #x = tf.image.per_image_standardization(x)\n",
        "    \n",
        "    x = normalize(x)\n",
        "        \n",
        "    #x = tf.image.random_flip_left_right(x)\n",
        "    \n",
        "    #paddings = [(4, 4), (4, 4), (0, 0)]\n",
        "    \n",
        "    #x = tf.pad(x, paddings, \"REFLECT\")\n",
        "    \n",
        "    #x = tf.random_crop(x, [32, 32, 3])\n",
        "    \n",
        "    return (x, y)"
      ],
      "execution_count": 0,
      "outputs": []
    },
    {
      "cell_type": "markdown",
      "metadata": {
        "id": "7pxTJ4I4NU2B",
        "colab_type": "text"
      },
      "source": [
        "<a name=train></a>"
      ]
    },
    {
      "cell_type": "markdown",
      "metadata": {
        "id": "zJ06Buu372fX",
        "colab_type": "text"
      },
      "source": [
        "# Train"
      ]
    },
    {
      "cell_type": "code",
      "metadata": {
        "id": "lz-kYEzMNhJQ",
        "colab_type": "code",
        "colab": {}
      },
      "source": [
        "obj = Run()"
      ],
      "execution_count": 0,
      "outputs": []
    },
    {
      "cell_type": "code",
      "metadata": {
        "id": "a-alAs-eJPTs",
        "colab_type": "code",
        "colab": {}
      },
      "source": [
        "BATCH_SIZE = 64 #@param {type:\"integer\"}\n",
        "MOMENTUM = 0.95 #@param {type:\"number\"}\n",
        "\n",
        "MIN_MOMENTUM = 0.8 #@param {type:\"number\"}\n",
        "LEARNING_RATE = 0.4 #@param {type:\"number\"}\n",
        "WEIGHT_DECAY = 5e-4 #@param {type:\"number\"}\n",
        "EPOCHS = 30 #@param {type:\"integer\"}\n",
        "\n",
        "\n",
        "MIN_LEARNING_RATE = 0.000001 #@param {type:\"number\"}\n",
        "\n",
        "END_LR_SMOOTHING_PERC = 0.15 #@param {type:\"number\"}\n",
        "\n",
        "COMMENTS = \"Zeedensenet multisoftmax, gap on channels, multi_inference df\" #@param {type:\"string\"}\n",
        "\n",
        "\n",
        "params_tune = {\n",
        "    \n",
        "  \"epochs\":EPOCHS, \n",
        " \n",
        "  \"batch_size\" : BATCH_SIZE,\n",
        "\n",
        "  \"max_lr\": LEARNING_RATE,\n",
        "\n",
        "  \"min_lr\":MIN_LEARNING_RATE,\n",
        "\n",
        "  \"end_anneal_pc\":END_LR_SMOOTHING_PERC,\n",
        "\n",
        "  \"max_mom\":MOMENTUM,\n",
        " \n",
        "  \"min_mom\":MIN_MOMENTUM,\n",
        " \n",
        "  \"wd\":WEIGHT_DECAY,\n",
        "  \n",
        "  \"skip_testing_epochs\":0,\n",
        "    \n",
        "  \"batches_per_epoch\":50000//BATCH_SIZE,\n",
        "    \n",
        "  \"comments\":COMMENTS\n",
        "}"
      ],
      "execution_count": 0,
      "outputs": []
    },
    {
      "cell_type": "code",
      "metadata": {
        "id": "25iZ5W6fOK4k",
        "colab_type": "code",
        "colab": {}
      },
      "source": [
        "loaded_tfrecs = data_pipeline.load_tfrecords(params_tune[\"batch_size\"])\n",
        "\n",
        "train_dataset = loaded_tfrecs[\"train\"]\n",
        "\n",
        "eval_dataset = loaded_tfrecs[\"eval\"]"
      ],
      "execution_count": 0,
      "outputs": []
    },
    {
      "cell_type": "code",
      "metadata": {
        "id": "t6u8ypjZFOhi",
        "colab_type": "code",
        "colab": {}
      },
      "source": [
        "def tst_data_supplier(epoch_num):\n",
        "    \n",
        "    batch_size = params_tune[\"batch_size\"]\n",
        "    \n",
        "    global eval_dataset\n",
        "  \n",
        "    len_test = 10000\n",
        "\n",
        "    test_set = eval_dataset.map(data_aug_test).batch(batch_size).prefetch(1)\n",
        "    \n",
        "    return (test_set, len_test)\n",
        "\n",
        "def trn_data_supplier(epoch_num):\n",
        "    \n",
        "    batch_size = params_tune[\"batch_size\"]\n",
        "  \n",
        "    global train_dataset\n",
        "    \n",
        "    len_train = 50000\n",
        "\n",
        "    train_set = train_dataset.map(data_aug_train).batch(batch_size).prefetch(1)\n",
        "    \n",
        "    return (train_set, len_train)"
      ],
      "execution_count": 0,
      "outputs": []
    },
    {
      "cell_type": "code",
      "metadata": {
        "scrolled": false,
        "id": "GN0lpcbMFOhn",
        "colab_type": "code",
        "colab": {}
      },
      "source": [
        "#import cProfile\n",
        "model2 = ZeeDenseNet(f_filter=32,  \n",
        "                     dimensions_dict= {\"dimensions_to_sample\":(8,8)}, \n",
        "                     gap_mode=\"x_axis\",\n",
        "                     layers_filters={0:64, 1:128, 2:256, 3:512},\n",
        "                    multisoft_list = [0, 1, 2],\n",
        "                     roots_flag=False\n",
        "                    )\n",
        "x = obj.run(params_tune, trn_data_supplier, tst_data_supplier, model = model2)"
      ],
      "execution_count": 0,
      "outputs": []
    },
    {
      "cell_type": "markdown",
      "metadata": {
        "id": "TsmkubSHPNat",
        "colab_type": "text"
      },
      "source": [
        "<a name=results></a>"
      ]
    },
    {
      "cell_type": "markdown",
      "metadata": {
        "id": "cdRwC1ooPeFH",
        "colab_type": "text"
      },
      "source": [
        "# Results"
      ]
    },
    {
      "cell_type": "code",
      "metadata": {
        "id": "Mhs0WxEho26V",
        "colab_type": "code",
        "colab": {}
      },
      "source": [
        "run_util.early_inference_accuracy(obj.model,test_dataset = tst_data_supplier)"
      ],
      "execution_count": 0,
      "outputs": []
    },
    {
      "cell_type": "code",
      "metadata": {
        "id": "d1m64XJQzCOW",
        "colab_type": "code",
        "colab": {}
      },
      "source": [
        "import visual_utils\n",
        "reload(visual_utils)\n",
        "#diff_df = visual_utils.grab_different_imgs(obj.model, trn_data_supplier)\n",
        "\n",
        "all_df = visual_utils.grab_different_imgs(obj.model, trn_data_supplier, difference=False)\n",
        "\n",
        "class_names = ['airplane','automobile','bird','cat','deer',\n",
        "               'dog','frog','horse','ship','truck']\n",
        "diff_df = all_df\n",
        "\n",
        "diff_df[\"subset_diff\"] = False\n",
        "\n",
        "diff_df[\"subset_diff\"] = (diff_df[\"subset_diff\"]) | (diff_df.sm1_correct != diff_df.sm3_correct)\n",
        "\n",
        "diff_df[\"subset_diff\"] = (diff_df[\"subset_diff\"]) | (diff_df.sm2_correct != diff_df.sm3_correct)\n",
        "\n",
        "diff_df = diff_df.loc[diff_df.subset_diff==True,:].copy()"
      ],
      "execution_count": 0,
      "outputs": []
    },
    {
      "cell_type": "code",
      "metadata": {
        "id": "XSuEq-_v5QZm",
        "colab_type": "code",
        "colab": {}
      },
      "source": [
        "all_df.head(3)"
      ],
      "execution_count": 0,
      "outputs": []
    },
    {
      "cell_type": "code",
      "metadata": {
        "id": "5NwdNWroy4-x",
        "colab_type": "code",
        "colab": {}
      },
      "source": [
        "print(\"Final confusion matrix-at softmax3\")\n",
        "visual_utils.plot_cm(all_df.ys, all_df.sm3_class)"
      ],
      "execution_count": 0,
      "outputs": []
    },
    {
      "cell_type": "code",
      "metadata": {
        "id": "SiSE_MZkzKh6",
        "colab_type": "code",
        "colab": {}
      },
      "source": [
        "print(\"Confusion matrix-at softmax1\")\n",
        "visual_utils.plot_cm(all_df.ys, all_df.sm1_class)"
      ],
      "execution_count": 0,
      "outputs": []
    },
    {
      "cell_type": "code",
      "metadata": {
        "id": "MRBp-Jk-zPSM",
        "colab_type": "code",
        "colab": {}
      },
      "source": [
        "print(\"Confusion matrix-at softmax2\")\n",
        "visual_utils.plot_cm(all_df.ys, all_df.sm2_class)"
      ],
      "execution_count": 0,
      "outputs": []
    },
    {
      "cell_type": "markdown",
      "metadata": {
        "id": "QNShrd1_2K43",
        "colab_type": "text"
      },
      "source": [
        "**Voting accuracy**"
      ]
    },
    {
      "cell_type": "code",
      "metadata": {
        "id": "oGi9jKw21Pbj",
        "colab_type": "code",
        "colab": {}
      },
      "source": [
        "print(\"Accuracy calculated by voting results from 3 softmaxes.\\n \\\n",
        "Mode of predicted class is taken, if all3 are different then the last softmax prediction is taken\\n\")\n",
        "run_util.voting_accuracy(df=all_df, true_col=\"ys\", sm_class_colnames = [\"sm1_class\", \"sm2_class\", \"sm3_class\"])"
      ],
      "execution_count": 0,
      "outputs": []
    },
    {
      "cell_type": "markdown",
      "metadata": {
        "id": "ZWp_lXrRMf2x",
        "colab_type": "text"
      },
      "source": [
        "<a name=viz_differences></a>"
      ]
    },
    {
      "cell_type": "markdown",
      "metadata": {
        "id": "gp5uv5hamM_G",
        "colab_type": "text"
      },
      "source": [
        "# Visualizing Images. Difference b/w softmax1 and softmax3\n",
        "\n",
        "This set of viz has images with the following property\n",
        "\n",
        "1. All images where softmax1 is doing incorrectly but softmax3 is correct\n",
        "2. All images where softmax1 is doing correctly but softmax3 is not\n",
        "\n",
        "\n",
        "\n",
        "These are plotted one next to other for each class"
      ]
    },
    {
      "cell_type": "code",
      "metadata": {
        "id": "Ps37a0U1sIgb",
        "colab_type": "code",
        "colab": {}
      },
      "source": [
        "print(\"last softmax is softmax3, considered softmax is softmax1\\n\\\n",
        "predicted1 and prob1-softmax1\\n\\\n",
        "predicted2 and prob2-softmax2\\n\\\n",
        "predicted3 and prob3-softmax3\\n\\\n",
        "\")\n",
        "visual_utils.plot_diff(diff_df, sm_col=\"sm1_correct\", main_col=\"sm3_correct\",\n",
        "                       denormalize=True, ncols=10)"
      ],
      "execution_count": 0,
      "outputs": []
    },
    {
      "cell_type": "markdown",
      "metadata": {
        "id": "GwkXz38Kmips",
        "colab_type": "text"
      },
      "source": [
        "# Visualizing Images. Difference b/w softmax2 and softmax3\n",
        "\n",
        "This set of viz has images with the following property\n",
        "\n",
        "1. All images where softmax2 is doing incorrectly but softmax3 is correct\n",
        "2. All images where softmax2 is doing correctly but softmax3 is not\n",
        "\n",
        "\n",
        "\n",
        "These are plotted one next to other for each class"
      ]
    },
    {
      "cell_type": "code",
      "metadata": {
        "id": "-lPZAJrKmnHj",
        "colab_type": "code",
        "colab": {}
      },
      "source": [
        "print(\"last softmax is softmax3, considered softmax is softmax2\\n\\\n",
        "predicted1 and prob1-softmax1\\n\\\n",
        "predicted2 and prob2-softmax2\\n\\\n",
        "predicted3 and prob3-softmax3\\n\\\n",
        "\")\n",
        "\n",
        "visual_utils.plot_diff(diff_df,\n",
        "                       sm_col=\"sm2_correct\", main_col=\"sm3_correct\",\n",
        "                       img_col=\"imgs\",\n",
        "              true_col=\"ys\", \n",
        "              ncols=10,\n",
        "              denormalize=True)"
      ],
      "execution_count": 0,
      "outputs": []
    },
    {
      "cell_type": "markdown",
      "metadata": {
        "id": "PZ8D_BkMNN10",
        "colab_type": "text"
      },
      "source": [
        "<a name=viz_good_bad></a>"
      ]
    },
    {
      "cell_type": "markdown",
      "metadata": {
        "id": "Ssj1-Ckj5GL2",
        "colab_type": "text"
      },
      "source": [
        "# Good and Worse Predictions\n",
        "In this set of viz, images have following properties\n",
        "\n",
        "1. For a given softmax, predictions that are both correct and have high probability(Highly confident correct predictions)\n",
        "\n",
        "2. For a given softmax, predictions that are highly confident but for a wrong class.\n",
        "\n",
        "These are plotted row by for each class"
      ]
    },
    {
      "cell_type": "code",
      "metadata": {
        "id": "-DXkVFw-pHqR",
        "colab_type": "code",
        "colab": {}
      },
      "source": [
        "!git pull\n",
        "reload(visual_utils)"
      ],
      "execution_count": 0,
      "outputs": []
    },
    {
      "cell_type": "markdown",
      "metadata": {
        "id": "i25xxXDbL6RM",
        "colab_type": "text"
      },
      "source": [
        "**Softmax1- Good and worse predictions**"
      ]
    },
    {
      "cell_type": "code",
      "metadata": {
        "id": "VBmg6R53_80b",
        "colab_type": "code",
        "colab": {}
      },
      "source": [
        "visual_utils.plot_good_and_worst(df=all_df, sm_col=\"sm1_correct\", sm_class=\"sm1_class\", sm_prob=\"sm1_probs\",\n",
        "              img_col=\"imgs\",\n",
        "              true_col=\"ys\", \n",
        "              ncols=10,\n",
        "              denormalize=True,\n",
        "              CLASSWISE_SELECT_TOP_IMAGES = 10)"
      ],
      "execution_count": 0,
      "outputs": []
    },
    {
      "cell_type": "markdown",
      "metadata": {
        "id": "b8ECYPNFMWpB",
        "colab_type": "text"
      },
      "source": [
        "**Confusion matrix for softmax1**"
      ]
    },
    {
      "cell_type": "code",
      "metadata": {
        "id": "fRKHVDQ-MYM_",
        "colab_type": "code",
        "colab": {}
      },
      "source": [
        "visual_utils.plot_cm(all_df.ys, all_df.sm1_class)"
      ],
      "execution_count": 0,
      "outputs": []
    },
    {
      "cell_type": "markdown",
      "metadata": {
        "id": "wJPVlWdkMA6e",
        "colab_type": "text"
      },
      "source": [
        "**Softmax2- Good and worse predictions**"
      ]
    },
    {
      "cell_type": "code",
      "metadata": {
        "id": "O2i7AzEaAApx",
        "colab_type": "code",
        "colab": {}
      },
      "source": [
        "print(\"\\\n",
        "predicted1 and prob1-softmax1\\n\\\n",
        "predicted2 and prob2-softmax2\\n\\\n",
        "predicted3 and prob3-softmax3\\n\\\n",
        "\")\n",
        "\n",
        "visual_utils.plot_good_and_worst(df=all_df, sm_col=\"sm2_correct\", sm_class=\"sm2_class\", sm_prob=\"sm2_probs\",\n",
        "              img_col=\"imgs\",\n",
        "              true_col=\"ys\", \n",
        "              ncols=10,\n",
        "              denormalize=True,\n",
        "              CLASSWISE_SELECT_TOP_IMAGES = 10)"
      ],
      "execution_count": 0,
      "outputs": []
    },
    {
      "cell_type": "markdown",
      "metadata": {
        "id": "-MLw0sI6MOjR",
        "colab_type": "text"
      },
      "source": [
        "**Confusion matrix for softmax2**"
      ]
    },
    {
      "cell_type": "code",
      "metadata": {
        "id": "jynsaZbJn2mm",
        "colab_type": "code",
        "colab": {}
      },
      "source": [
        "visual_utils.plot_cm(all_df.ys, all_df.sm2_class)"
      ],
      "execution_count": 0,
      "outputs": []
    },
    {
      "cell_type": "markdown",
      "metadata": {
        "id": "J5ZsA3lN0O_c",
        "colab_type": "text"
      },
      "source": [
        "# Logs"
      ]
    },
    {
      "cell_type": "code",
      "metadata": {
        "id": "lfCbWsy20QAV",
        "colab_type": "code",
        "colab": {}
      },
      "source": [
        "import pandas as pd\n",
        "\n",
        "pd.read_csv(\"../data/run_logger.csv\").tail()"
      ],
      "execution_count": 0,
      "outputs": []
    },
    {
      "cell_type": "code",
      "metadata": {
        "id": "hD19eiaMJesL",
        "colab_type": "code",
        "colab": {}
      },
      "source": [
        ""
      ],
      "execution_count": 0,
      "outputs": []
    }
  ]
}
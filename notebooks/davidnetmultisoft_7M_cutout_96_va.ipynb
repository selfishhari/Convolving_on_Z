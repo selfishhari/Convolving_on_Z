{
  "nbformat": 4,
  "nbformat_minor": 0,
  "metadata": {
    "kernelspec": {
      "name": "python3",
      "display_name": "Python 3"
    },
    "language_info": {
      "codemirror_mode": {
        "name": "ipython",
        "version": 3
      },
      "file_extension": ".py",
      "mimetype": "text/x-python",
      "name": "python",
      "nbconvert_exporter": "python",
      "pygments_lexer": "ipython3",
      "version": "3.7.3"
    },
    "colab": {
      "name": "davidnetmultisoft_7M_cutout_96_va.ipynb",
      "provenance": [],
      "collapsed_sections": []
    },
    "accelerator": "GPU"
  },
  "cells": [
    {
      "cell_type": "markdown",
      "metadata": {
        "id": "AyG26cdLMvgc",
        "colab_type": "text"
      },
      "source": [
        "Contents:\n",
        "1. <a href=#data_dir>Set working dir and Clone from git hub(for first time)</a><br>\n",
        "2. <a href=#data_pipeline>Data Pipeline</a><br>\n",
        "3. <a href=#train>Train</a><br>\n",
        "4. <a href=#results>Results</a>\n",
        "5. <a href=#viz_differences>Visualizing Prediction differences at different softmaxes</a><br>\n",
        "6. <a href=#viz_good_bad>Visualizing highly confidenct correct and incorrect predictions</a><br>\n"
      ]
    },
    {
      "cell_type": "code",
      "metadata": {
        "scrolled": true,
        "id": "DJYux3EMFOhP",
        "colab_type": "code",
        "outputId": "e75879a7-5c30-4b73-9f34-4cf37641edce",
        "colab": {
          "base_uri": "https://localhost:8080/",
          "height": 153
        }
      },
      "source": [
        "%tensorflow_version 1.x\n",
        "import numpy as np\n",
        "\n",
        "import tensorflow as tf\n",
        "\n",
        "import numpy as np\n",
        "import time, math\n",
        "from tqdm import tqdm_notebook as tqdm\n",
        "\n",
        "\n",
        "import tensorflow.contrib.eager as tfe\n",
        "tf.enable_eager_execution()"
      ],
      "execution_count": 1,
      "outputs": [
        {
          "output_type": "stream",
          "text": [
            "WARNING:tensorflow:\n",
            "The TensorFlow contrib module will not be included in TensorFlow 2.0.\n",
            "For more information, please see:\n",
            "  * https://github.com/tensorflow/community/blob/master/rfcs/20180907-contrib-sunset.md\n",
            "  * https://github.com/tensorflow/addons\n",
            "  * https://github.com/tensorflow/io (for I/O related ops)\n",
            "If you depend on functionality not listed there, please file an issue.\n",
            "\n"
          ],
          "name": "stdout"
        }
      ]
    },
    {
      "cell_type": "markdown",
      "metadata": {
        "id": "07VfUccj4o2c",
        "colab_type": "text"
      },
      "source": [
        "<a name=data_dir></a>"
      ]
    },
    {
      "cell_type": "markdown",
      "metadata": {
        "id": "NoM07x5f4t-G",
        "colab_type": "text"
      },
      "source": [
        "# Data Directory Set Up. \n",
        "Clone from git if running for first time. Else git pull"
      ]
    },
    {
      "cell_type": "code",
      "metadata": {
        "id": "MiCclHjhFQ9P",
        "colab_type": "code",
        "outputId": "9ef7853b-1bf5-4c4c-a522-8d60af304b5d",
        "colab": {
          "base_uri": "https://localhost:8080/",
          "height": 51
        }
      },
      "source": [
        "import os\n",
        "os.getcwd()\n",
        "from google.colab import drive\n",
        "import os\n",
        "drive.mount('/content/gdrive')\n",
        "\n",
        "#IF YOU ARE CLONING FOR THE FIRST TIME in colab please uncomment all the below 5 lines of code. \n",
        "#Put git user name and password in appropriate places\n",
        "\n",
        "#root_path = 'gdrive/My Drive/Colab Notebooks/' #change dir to folder where you want to clone\n",
        "#os.chdir('/content/' + root_path)\n",
        "#!git clone https://<UR_GIT_USERNAME>:<GIT_PASSWORD>@github.com/selfishhari/eva_research_team4.git\n",
        "#!git branch -r | grep -v '\\->' | while read remote; do git branch --track \"${remote#origin/}\" \"$remote\"; done\n",
        "#!git checkout zeedense\n",
        "\n",
        "\n",
        "root_path = 'gdrive/My Drive/Colab Notebooks/eva_research_team4/src/' #change dir to your project folder's src\n",
        "\n",
        "os.chdir('/content/' + root_path)\n",
        "os.getcwd()"
      ],
      "execution_count": 2,
      "outputs": [
        {
          "output_type": "stream",
          "text": [
            "Drive already mounted at /content/gdrive; to attempt to forcibly remount, call drive.mount(\"/content/gdrive\", force_remount=True).\n"
          ],
          "name": "stdout"
        },
        {
          "output_type": "execute_result",
          "data": {
            "text/plain": [
              "'/content/gdrive/My Drive/Colab Notebooks/eva_research_team4/src'"
            ]
          },
          "metadata": {
            "tags": []
          },
          "execution_count": 2
        }
      ]
    },
    {
      "cell_type": "code",
      "metadata": {
        "id": "i5rEveGLmi6P",
        "colab_type": "code",
        "outputId": "acb905a2-858a-44a8-d7b3-ebe6f5dcb9da",
        "colab": {
          "base_uri": "https://localhost:8080/",
          "height": 119
        }
      },
      "source": [
        "!git branch\n",
        "#YOU NEED TO BE ON \"zeedense\" branch"
      ],
      "execution_count": 3,
      "outputs": [
        {
          "output_type": "stream",
          "text": [
            "  augmentation\u001b[m\n",
            "  densenext\u001b[m\n",
            "  development\u001b[m\n",
            "  master\u001b[m\n",
            "  tfrecords_fix\u001b[m\n",
            "* \u001b[32mzeedense\u001b[m\n"
          ],
          "name": "stdout"
        }
      ]
    },
    {
      "cell_type": "code",
      "metadata": {
        "id": "RTPh1jRp6UXQ",
        "colab_type": "code",
        "outputId": "be19ee29-36b1-488a-d4bf-2dd5cd7f906e",
        "colab": {
          "base_uri": "https://localhost:8080/",
          "height": 221
        }
      },
      "source": [
        "!git pull"
      ],
      "execution_count": 4,
      "outputs": [
        {
          "output_type": "stream",
          "text": [
            "remote: Enumerating objects: 5, done.\u001b[K\n",
            "remote: Counting objects:  20% (1/5)\u001b[K\rremote: Counting objects:  40% (2/5)\u001b[K\rremote: Counting objects:  60% (3/5)\u001b[K\rremote: Counting objects:  80% (4/5)\u001b[K\rremote: Counting objects: 100% (5/5)\u001b[K\rremote: Counting objects: 100% (5/5), done.\u001b[K\n",
            "remote: Compressing objects:  20% (1/5)\u001b[K\rremote: Compressing objects:  40% (2/5)\u001b[K\rremote: Compressing objects:  60% (3/5)\u001b[K\rremote: Compressing objects:  80% (4/5)\u001b[K\rremote: Compressing objects: 100% (5/5)\u001b[K\rremote: Compressing objects: 100% (5/5), done.\u001b[K\n",
            "remote: Total 5 (delta 0), reused 1 (delta 0), pack-reused 0\u001b[K\n",
            "Unpacking objects:  20% (1/5)   \rUnpacking objects:  40% (2/5)   \rUnpacking objects:  60% (3/5)   \rUnpacking objects:  80% (4/5)   \rUnpacking objects: 100% (5/5)   \rUnpacking objects: 100% (5/5), done.\n",
            "From https://github.com/selfishhari/eva_research_team4\n",
            "   195531a..7b7b77e  zeedense   -> origin/zeedense\n",
            "Updating 195531a..7b7b77e\n",
            "Fast-forward\n",
            " src/davidnet_v2.py     | 6 \u001b[32m++++\u001b[m\u001b[31m--\u001b[m\n",
            " src/test_run_script.py | 9 \u001b[32m++++++++\u001b[m\u001b[31m-\u001b[m\n",
            " 2 files changed, 12 insertions(+), 3 deletions(-)\n"
          ],
          "name": "stdout"
        }
      ]
    },
    {
      "cell_type": "code",
      "metadata": {
        "scrolled": false,
        "id": "r0VIENINFOhV",
        "colab_type": "code",
        "outputId": "5496e8c0-9d68-4fb2-b552-00714ce08f16",
        "colab": {
          "base_uri": "https://localhost:8080/",
          "height": 241
        }
      },
      "source": [
        "#from all_models import DavidNet\n",
        "\n",
        "\n",
        "import run_util\n",
        "\n",
        "\n",
        "from importlib import reload\n",
        "reload(run_util)\n",
        "\n",
        "from run_util import Run\n",
        "\n",
        "import data_pipeline\n",
        "\n",
        "reload(data_pipeline)\n",
        "\n",
        "from davidnet_v2 import DavidNetMultiSoft\n",
        "\n",
        "from augmentation_utils import cutout"
      ],
      "execution_count": 5,
      "outputs": [
        {
          "output_type": "stream",
          "text": [
            "WARNING:tensorflow:From /content/gdrive/My Drive/Colab Notebooks/eva_research_team4/src/run_util.py:153: The name tf.variable_scope is deprecated. Please use tf.compat.v1.variable_scope instead.\n",
            "\n",
            "WARNING:tensorflow:From /content/gdrive/My Drive/Colab Notebooks/eva_research_team4/src/run_util.py:153: The name tf.AUTO_REUSE is deprecated. Please use tf.compat.v1.AUTO_REUSE instead.\n",
            "\n",
            "WARNING:tensorflow:From /content/gdrive/My Drive/Colab Notebooks/eva_research_team4/src/run_util.py:155: The name tf.get_variable is deprecated. Please use tf.compat.v1.get_variable instead.\n",
            "\n"
          ],
          "name": "stdout"
        },
        {
          "output_type": "stream",
          "text": [
            "Using TensorFlow backend.\n"
          ],
          "name": "stderr"
        },
        {
          "output_type": "stream",
          "text": [
            "WARNING:tensorflow:From /content/gdrive/My Drive/Colab Notebooks/eva_research_team4/src/run_util.py:280: The name tf.train.MomentumOptimizer is deprecated. Please use tf.compat.v1.train.MomentumOptimizer instead.\n",
            "\n",
            "32 conv0.8003070154231878 (3, 3) (1, 1) same (1, 1) None glorot_uniform\n",
            "32 conv0.8003070154231878 (3, 3) (1, 1) same (1, 1) None glorot_uniform\n",
            "32 conv0.8003070154231878 (3, 3) (1, 1) same (1, 1) None glorot_uniform\n"
          ],
          "name": "stdout"
        }
      ]
    },
    {
      "cell_type": "markdown",
      "metadata": {
        "id": "zaN9dnSJNl49",
        "colab_type": "text"
      },
      "source": [
        "<a name=data_pipeline></a>"
      ]
    },
    {
      "cell_type": "markdown",
      "metadata": {
        "id": "wqZhQB0JNsqH",
        "colab_type": "text"
      },
      "source": [
        "# Data Pipeline"
      ]
    },
    {
      "cell_type": "code",
      "metadata": {
        "scrolled": true,
        "id": "DmYDmfSmFOhY",
        "colab_type": "code",
        "outputId": "53a02680-a155-4e2a-d581-f92dd1f5ebaa",
        "colab": {
          "base_uri": "https://localhost:8080/",
          "height": 224
        }
      },
      "source": [
        "data_pipeline.get_data(dataset_name = \"CIFAR10\", tfrecords_flag=True)"
      ],
      "execution_count": 6,
      "outputs": [
        {
          "output_type": "stream",
          "text": [
            "saving to tf records\n",
            "WARNING:tensorflow:From /content/gdrive/My Drive/Colab Notebooks/eva_research_team4/src/data_pipeline.py:28: maybe_download (from tensorflow.contrib.learn.python.learn.datasets.base) is deprecated and will be removed in a future version.\n",
            "Instructions for updating:\n",
            "Please write your own downloading logic.\n",
            "Generating ../data/train/train.tfrecords\n",
            "WARNING:tensorflow:From /content/gdrive/My Drive/Colab Notebooks/eva_research_team4/src/tfrecord_utils.py:26: The name tf.python_io.TFRecordWriter is deprecated. Please use tf.io.TFRecordWriter instead.\n",
            "\n",
            "WARNING:tensorflow:From /content/gdrive/My Drive/Colab Notebooks/eva_research_team4/src/data_pipeline.py:41: The name tf.gfile.Open is deprecated. Please use tf.io.gfile.GFile instead.\n",
            "\n",
            "Generating ../data/eval/eval.tfrecords\n",
            "getting tf records complete\n"
          ],
          "name": "stdout"
        }
      ]
    },
    {
      "cell_type": "markdown",
      "metadata": {
        "id": "pn0w2lxiFOhh",
        "colab_type": "text"
      },
      "source": [
        "######"
      ]
    },
    {
      "cell_type": "code",
      "metadata": {
        "id": "1sK4c-9_7yLf",
        "colab_type": "code",
        "colab": {}
      },
      "source": [
        "train_mean = np.array([125.30691805, 122.95039414, 113.86538318])\n",
        "\n",
        "train_std= np.array([62.99321928, 62.08870764, 66.70489964])\n",
        "\n",
        "normalize = lambda x: ((x - train_mean) / train_std)\n",
        "\n",
        "def data_aug_train(x, y):\n",
        "    \n",
        "    #x = tf.image.per_image_standardization(x)\n",
        "    \n",
        "    x = normalize(x)\n",
        "        \n",
        "    #x = tf.image.random_flip_left_right(x)\n",
        "    \n",
        "    paddings = [(4, 4), (4, 4), (0, 0)]\n",
        "    \n",
        "    x = tf.pad(x, paddings, \"REFLECT\")\n",
        "    \n",
        "    x = tf.random_crop(x, [32, 32, 3])\n",
        "\n",
        "    x = tf.image.random_flip_left_right(x)\n",
        "\n",
        "    x = cutout(x)\n",
        "    \n",
        "    return (x, y)\n",
        "  \n",
        "def data_aug_test(x, y):\n",
        "    \n",
        "    #x = tf.image.per_image_standardization(x)\n",
        "    \n",
        "    x = normalize(x)\n",
        "        \n",
        "    #x = tf.image.random_flip_left_right(x)\n",
        "    \n",
        "    #paddings = [(4, 4), (4, 4), (0, 0)]\n",
        "    \n",
        "    #x = tf.pad(x, paddings, \"REFLECT\")\n",
        "    \n",
        "    #x = tf.random_crop(x, [32, 32, 3])\n",
        "    \n",
        "    return (x, y)"
      ],
      "execution_count": 0,
      "outputs": []
    },
    {
      "cell_type": "markdown",
      "metadata": {
        "id": "7pxTJ4I4NU2B",
        "colab_type": "text"
      },
      "source": [
        "<a name=train></a>"
      ]
    },
    {
      "cell_type": "markdown",
      "metadata": {
        "id": "zJ06Buu372fX",
        "colab_type": "text"
      },
      "source": [
        "# Train"
      ]
    },
    {
      "cell_type": "code",
      "metadata": {
        "id": "lz-kYEzMNhJQ",
        "colab_type": "code",
        "colab": {}
      },
      "source": [
        "obj = Run()"
      ],
      "execution_count": 0,
      "outputs": []
    },
    {
      "cell_type": "code",
      "metadata": {
        "id": "a-alAs-eJPTs",
        "colab_type": "code",
        "colab": {}
      },
      "source": [
        "BATCH_SIZE = 512 #@param {type:\"integer\"}\n",
        "MOMENTUM = 0.9 #@param {type:\"number\"}\n",
        "\n",
        "MIN_MOMENTUM = 0.9 #@param {type:\"number\"}\n",
        "LEARNING_RATE = 0.4 #@param {type:\"number\"}\n",
        "WEIGHT_DECAY = 5e-4 #@param {type:\"number\"}\n",
        "EPOCHS = 24 #@param {type:\"integer\"}\n",
        "\n",
        "CLR_FLAG = 0 #@param {type:\"integer\"}\n",
        "      \n",
        "NUM_EPOCHS_PER_CYCLE = 3 #@param {type:\"number\"}\n",
        "\n",
        "HIGHEST_LR_EPOCH = 5#@param {type:\"integer\"}\n",
        "\n",
        "\n",
        "MIN_LEARNING_RATE = 0.0000001 #@param {type:\"number\"}\n",
        "\n",
        "END_LR_SMOOTHING_PERC = 0.15 #@param {type:\"number\"}\n",
        "\n",
        "COMMENTS = \"Davidnet multi_inference voting accuracy\" #@param {type:\"string\"}\n",
        "\n",
        "\n",
        "params_tune = {\n",
        "    \n",
        "  \"epochs\":EPOCHS, \n",
        " \n",
        "  \"batch_size\" : BATCH_SIZE,\n",
        "    \n",
        "  \"num_epochs_per_cycle\":NUM_EPOCHS_PER_CYCLE,\n",
        "  \n",
        "  \"clr_flag\":CLR_FLAG,\n",
        "\n",
        "  \"max_lr\": LEARNING_RATE,\n",
        "\n",
        "  \"min_lr\":MIN_LEARNING_RATE,\n",
        "\n",
        "  \"end_anneal_pc\":END_LR_SMOOTHING_PERC,\n",
        "\n",
        "  \"max_mom\":MOMENTUM,\n",
        " \n",
        "  \"min_mom\":MIN_MOMENTUM,\n",
        "    \n",
        "  \"highest_lr_epoch\" : HIGHEST_LR_EPOCH,\n",
        " \n",
        "  \"wd\":WEIGHT_DECAY,\n",
        "  \n",
        "  \"skip_testing_epochs\":0,\n",
        "    \n",
        "  \"batches_per_epoch\":50000//BATCH_SIZE,\n",
        "    \n",
        "  \"comments\":COMMENTS\n",
        "}"
      ],
      "execution_count": 0,
      "outputs": []
    },
    {
      "cell_type": "code",
      "metadata": {
        "id": "25iZ5W6fOK4k",
        "colab_type": "code",
        "colab": {}
      },
      "source": [
        "loaded_tfrecs = data_pipeline.load_tfrecords(params_tune[\"batch_size\"])\n",
        "\n",
        "train_dataset = loaded_tfrecs[\"train\"]\n",
        "\n",
        "eval_dataset = loaded_tfrecs[\"eval\"]"
      ],
      "execution_count": 0,
      "outputs": []
    },
    {
      "cell_type": "code",
      "metadata": {
        "id": "t6u8ypjZFOhi",
        "colab_type": "code",
        "colab": {}
      },
      "source": [
        "def tst_data_supplier(epoch_num):\n",
        "    \n",
        "    batch_size = params_tune[\"batch_size\"]\n",
        "    \n",
        "    global eval_dataset\n",
        "  \n",
        "    len_test = 10000\n",
        "\n",
        "    test_set = eval_dataset.map(data_aug_test).batch(batch_size).prefetch(1)\n",
        "    \n",
        "    return (test_set, len_test)\n",
        "\n",
        "def trn_data_supplier(epoch_num):\n",
        "    \n",
        "    batch_size = params_tune[\"batch_size\"]\n",
        "  \n",
        "    global train_dataset\n",
        "    \n",
        "    len_train = 50000\n",
        "\n",
        "    train_set = train_dataset.map(data_aug_train).batch(batch_size).prefetch(1)\n",
        "    \n",
        "    return (train_set, len_train)"
      ],
      "execution_count": 0,
      "outputs": []
    },
    {
      "cell_type": "code",
      "metadata": {
        "id": "X8cavZJTi69S",
        "colab_type": "code",
        "colab": {
          "base_uri": "https://localhost:8080/",
          "height": 265
        },
        "outputId": "674d7778-2e0e-4a52-c30e-1b58f4fc23f1"
      },
      "source": [
        "obj.plot_lr(params_tune)"
      ],
      "execution_count": 12,
      "outputs": [
        {
          "output_type": "display_data",
          "data": {
            "image/png": "[encoded data removed]",
            "text/plain": [
              "<Figure size 432x288 with 1 Axes>"
            ]
          },
          "metadata": {
            "tags": []
          }
        }
      ]
    },
    {
      "cell_type": "code",
      "metadata": {
        "scrolled": false,
        "id": "GN0lpcbMFOhn",
        "colab_type": "code",
        "outputId": "c3b84d85-5d1f-4134-a620-75ad91884f95",
        "colab": {
          "base_uri": "https://localhost:8080/",
          "height": 785
        }
      },
      "source": [
        "#import cProfile\n",
        "model2 = DavidNetMultiSoft(f_filter=64,  \n",
        "                     multisoft_list = [0, 1, 2],\n",
        "                     residual_strategy = [True, True, True]\n",
        "                    )\n",
        "x = obj.run(params_tune, trn_data_supplier, tst_data_supplier, model = model2)"
      ],
      "execution_count": 13,
      "outputs": [
        {
          "output_type": "stream",
          "text": [
            "64 conv0.8003070154231878 (3, 3) (1, 1) same (1, 1) None glorot_uniform\n",
            "128 conv0.8003070154231878 (3, 3) (1, 1) same (1, 1) None glorot_uniform\n",
            "128 conv0.8003070154231878 (3, 3) (1, 1) same (1, 1) None glorot_uniform\n",
            "128 conv0.8003070154231878 (3, 3) (1, 1) same (1, 1) None glorot_uniform\n",
            "256 conv0.8003070154231878 (3, 3) (1, 1) same (1, 1) None glorot_uniform\n",
            "256 conv0.8003070154231878 (3, 3) (1, 1) same (1, 1) None glorot_uniform\n",
            "256 conv0.8003070154231878 (3, 3) (1, 1) same (1, 1) None glorot_uniform\n",
            "512 conv0.8003070154231878 (3, 3) (1, 1) same (1, 1) None glorot_uniform\n",
            "512 conv0.8003070154231878 (3, 3) (1, 1) same (1, 1) None glorot_uniform\n",
            "512 conv0.8003070154231878 (3, 3) (1, 1) same (1, 1) None glorot_uniform\n"
          ],
          "name": "stdout"
        },
        {
          "output_type": "display_data",
          "data": {
            "application/vnd.jupyter.widget-view+json": {
              "model_id": "598710fb9c3941efa1875913e8dfcf64",
              "version_minor": 0,
              "version_major": 2
            },
            "text/plain": [
              "HBox(children=(IntProgress(value=0, max=24), HTML(value='')))"
            ]
          },
          "metadata": {
            "tags": []
          }
        },
        {
          "output_type": "stream",
          "text": [
            "WARNING:tensorflow:From /usr/local/lib/python3.6/dist-packages/tensorflow_core/python/autograph/converters/directives.py:119: The name tf.random_crop is deprecated. Please use tf.image.random_crop instead.\n",
            "\n",
            "WARNING:tensorflow:From /content/gdrive/My Drive/Colab Notebooks/eva_research_team4/src/augmentation_utils.py:21: where (from tensorflow.python.ops.array_ops) is deprecated and will be removed in a future version.\n",
            "Instructions for updating:\n",
            "Use tf.where in 2.0, which has the same broadcast rule as np.where\n",
            "epoch: 1 lr: 0.08 train loss: 2.826 train acc:0.412 val loss: 2.666 val acc: 0.455 time:87.860\n",
            "epoch: 2 lr: 0.16 train loss: 1.925 train acc:0.620 val loss: 1.747 val acc: 0.646 time:162.400\n",
            "epoch: 3 lr: 0.24 train loss: 1.493 train acc:0.714 val loss: 1.326 val acc: 0.753 time:235.940\n",
            "epoch: 4 lr: 0.32 train loss: 1.282 train acc:0.754 val loss: 1.492 val acc: 0.703 time:310.636\n",
            "epoch: 5 lr: 0.4 train loss: 1.125 train acc:0.787 val loss: 0.987 val acc: 0.821 time:386.280\n",
            "epoch: 6 lr: 0.376 train loss: 0.977 train acc:0.819 val loss: 0.971 val acc: 0.809 time:460.888\n",
            "epoch: 7 lr: 0.35200000000000004 train loss: 0.848 train acc:0.847 val loss: 0.858 val acc: 0.841 time:535.049\n",
            "epoch: 8 lr: 0.328 train loss: 0.765 train acc:0.866 val loss: 0.862 val acc: 0.829 time:609.155\n",
            "epoch: 9 lr: 0.30400000000000005 train loss: 0.698 train acc:0.879 val loss: 0.724 val acc: 0.863 time:682.874\n",
            "epoch: 10 lr: 0.28 train loss: 0.645 train acc:0.890 val loss: 0.852 val acc: 0.837 time:756.882\n",
            "epoch: 11 lr: 0.256 train loss: 0.591 train acc:0.902 val loss: 0.766 val acc: 0.850 time:831.044\n",
            "epoch: 12 lr: 0.232 train loss: 0.552 train acc:0.911 val loss: 0.799 val acc: 0.837 time:905.044\n",
            "epoch: 13 lr: 0.20800000000000002 train loss: 0.517 train acc:0.919 val loss: 0.735 val acc: 0.861 time:979.035\n",
            "epoch: 14 lr: 0.18400000000000002 train loss: 0.474 train acc:0.928 val loss: 0.669 val acc: 0.872 time:1052.643\n",
            "epoch: 15 lr: 0.16000000000000003 train loss: 0.448 train acc:0.934 val loss: 0.644 val acc: 0.881 time:1126.924\n",
            "epoch: 16 lr: 0.136 train loss: 0.414 train acc:0.942 val loss: 0.573 val acc: 0.897 time:1202.033\n",
            "epoch: 17 lr: 0.11199999999999999 train loss: 0.391 train acc:0.947 val loss: 0.569 val acc: 0.901 time:1275.988\n",
            "epoch: 18 lr: 0.08800000000000002 train loss: 0.364 train acc:0.953 val loss: 0.492 val acc: 0.917 time:1349.696\n",
            "epoch: 19 lr: 0.064 train loss: 0.337 train acc:0.960 val loss: 0.466 val acc: 0.925 time:1423.859\n",
            "epoch: 20 lr: 0.04000000000000001 train loss: 0.319 train acc:0.963 val loss: 0.463 val acc: 0.925 time:1498.488\n",
            "epoch: 21 lr: 0.032000020000000004 train loss: 0.309 train acc:0.966 val loss: 0.463 val acc: 0.926 time:1572.969\n",
            "epoch: 22 lr: 0.024000040000000007 train loss: 0.299 train acc:0.968 val loss: 0.456 val acc: 0.929 time:1647.025\n",
            "epoch: 23 lr: 0.016000060000000007 train loss: 0.290 train acc:0.971 val loss: 0.446 val acc: 0.931 time:1720.910\n",
            "epoch: 24 lr: 0.008000080000000007 train loss: 0.283 train acc:0.973 val loss: 0.441 val acc: 0.931 time:1794.587\n",
            "\n",
            "   total_model_parameters  ...                                  comments\n",
            "0                 7757632  ...  Davidnet multi_inference voting accuracy\n",
            "\n",
            "[1 rows x 17 columns]\n"
          ],
          "name": "stdout"
        }
      ]
    },
    {
      "cell_type": "markdown",
      "metadata": {
        "id": "TsmkubSHPNat",
        "colab_type": "text"
      },
      "source": [
        "<a name=results></a>"
      ]
    },
    {
      "cell_type": "markdown",
      "metadata": {
        "id": "cdRwC1ooPeFH",
        "colab_type": "text"
      },
      "source": [
        "# Results"
      ]
    },
    {
      "cell_type": "code",
      "metadata": {
        "id": "Mhs0WxEho26V",
        "colab_type": "code",
        "outputId": "dd4649d2-5747-49af-eff5-4c02c7dba4c1",
        "colab": {
          "base_uri": "https://localhost:8080/",
          "height": 142
        }
      },
      "source": [
        "early_inf_df = run_util.early_inference_accuracy(obj.model,test_dataset = tst_data_supplier)\n",
        "\n",
        "early_inf_df"
      ],
      "execution_count": 21,
      "outputs": [
        {
          "output_type": "execute_result",
          "data": {
            "text/html": [
              "<div>\n",
              "<style scoped>\n",
              "    .dataframe tbody tr th:only-of-type {\n",
              "        vertical-align: middle;\n",
              "    }\n",
              "\n",
              "    .dataframe tbody tr th {\n",
              "        vertical-align: top;\n",
              "    }\n",
              "\n",
              "    .dataframe thead th {\n",
              "        text-align: right;\n",
              "    }\n",
              "</style>\n",
              "<table border=\"1\" class=\"dataframe\">\n",
              "  <thead>\n",
              "    <tr style=\"text-align: right;\">\n",
              "      <th></th>\n",
              "      <th>sm_level</th>\n",
              "      <th>accuracy</th>\n",
              "      <th>loss</th>\n",
              "      <th>inference_time</th>\n",
              "    </tr>\n",
              "  </thead>\n",
              "  <tbody>\n",
              "    <tr>\n",
              "      <th>0</th>\n",
              "      <td>sm1</td>\n",
              "      <td>0.490046</td>\n",
              "      <td>0.8336</td>\n",
              "      <td>0.000174</td>\n",
              "    </tr>\n",
              "    <tr>\n",
              "      <th>1</th>\n",
              "      <td>sm2</td>\n",
              "      <td>0.241785</td>\n",
              "      <td>0.9168</td>\n",
              "      <td>0.000274</td>\n",
              "    </tr>\n",
              "    <tr>\n",
              "      <th>2</th>\n",
              "      <td>sm3</td>\n",
              "      <td>0.221079</td>\n",
              "      <td>0.9320</td>\n",
              "      <td>0.000357</td>\n",
              "    </tr>\n",
              "  </tbody>\n",
              "</table>\n",
              "</div>"
            ],
            "text/plain": [
              "  sm_level  accuracy    loss  inference_time\n",
              "0      sm1  0.490046  0.8336        0.000174\n",
              "1      sm2  0.241785  0.9168        0.000274\n",
              "2      sm3  0.221079  0.9320        0.000357"
            ]
          },
          "metadata": {
            "tags": []
          },
          "execution_count": 21
        }
      ]
    },
    {
      "cell_type": "code",
      "metadata": {
        "id": "d1m64XJQzCOW",
        "colab_type": "code",
        "colab": {}
      },
      "source": [
        "import visual_utils\n",
        "reload(visual_utils)\n",
        "#diff_df = visual_utils.grab_different_imgs(obj.model, trn_data_supplier)\n",
        "\n",
        "all_df = visual_utils.grab_different_imgs(obj.model, trn_data_supplier, difference=False)\n",
        "\n",
        "class_names = ['airplane','automobile','bird','cat','deer',\n",
        "               'dog','frog','horse','ship','truck']\n",
        "diff_df = all_df\n",
        "\n",
        "diff_df[\"subset_diff\"] = False\n",
        "\n",
        "diff_df[\"subset_diff\"] = (diff_df[\"subset_diff\"]) | (diff_df.sm1_correct != diff_df.sm3_correct)\n",
        "\n",
        "diff_df[\"subset_diff\"] = (diff_df[\"subset_diff\"]) | (diff_df.sm2_correct != diff_df.sm3_correct)\n",
        "\n",
        "diff_df = diff_df.loc[diff_df.subset_diff==True,:].copy()"
      ],
      "execution_count": 0,
      "outputs": []
    },
    {
      "cell_type": "code",
      "metadata": {
        "id": "XSuEq-_v5QZm",
        "colab_type": "code",
        "outputId": "98b46622-a78a-4fe9-ec20-ef68549c06b0",
        "colab": {
          "base_uri": "https://localhost:8080/",
          "height": 315
        }
      },
      "source": [
        "all_df.head(3)"
      ],
      "execution_count": 23,
      "outputs": [
        {
          "output_type": "execute_result",
          "data": {
            "text/html": [
              "<div>\n",
              "<style scoped>\n",
              "    .dataframe tbody tr th:only-of-type {\n",
              "        vertical-align: middle;\n",
              "    }\n",
              "\n",
              "    .dataframe tbody tr th {\n",
              "        vertical-align: top;\n",
              "    }\n",
              "\n",
              "    .dataframe thead th {\n",
              "        text-align: right;\n",
              "    }\n",
              "</style>\n",
              "<table border=\"1\" class=\"dataframe\">\n",
              "  <thead>\n",
              "    <tr style=\"text-align: right;\">\n",
              "      <th></th>\n",
              "      <th>ys</th>\n",
              "      <th>subset</th>\n",
              "      <th>sm3_class</th>\n",
              "      <th>sm3_probs</th>\n",
              "      <th>sm3_correct</th>\n",
              "      <th>sm1_probs</th>\n",
              "      <th>sm1_class</th>\n",
              "      <th>sm1_correct</th>\n",
              "      <th>sm2_probs</th>\n",
              "      <th>sm2_class</th>\n",
              "      <th>sm2_correct</th>\n",
              "      <th>imgs</th>\n",
              "      <th>subset_diff</th>\n",
              "    </tr>\n",
              "  </thead>\n",
              "  <tbody>\n",
              "    <tr>\n",
              "      <th>0</th>\n",
              "      <td>8</td>\n",
              "      <td>True</td>\n",
              "      <td>8</td>\n",
              "      <td>0.999946</td>\n",
              "      <td>True</td>\n",
              "      <td>0.992047</td>\n",
              "      <td>8</td>\n",
              "      <td>True</td>\n",
              "      <td>0.997697</td>\n",
              "      <td>8</td>\n",
              "      <td>True</td>\n",
              "      <td>[[[0.72536516, 0.90273434, 1.0514162], [0.8047...</td>\n",
              "      <td>False</td>\n",
              "    </tr>\n",
              "    <tr>\n",
              "      <th>1</th>\n",
              "      <td>2</td>\n",
              "      <td>True</td>\n",
              "      <td>2</td>\n",
              "      <td>0.999971</td>\n",
              "      <td>True</td>\n",
              "      <td>0.673968</td>\n",
              "      <td>2</td>\n",
              "      <td>True</td>\n",
              "      <td>0.998639</td>\n",
              "      <td>2</td>\n",
              "      <td>True</td>\n",
              "      <td>[[[0.77298933, 0.75778043, 0.8115537], [0.7571...</td>\n",
              "      <td>False</td>\n",
              "    </tr>\n",
              "    <tr>\n",
              "      <th>2</th>\n",
              "      <td>4</td>\n",
              "      <td>True</td>\n",
              "      <td>4</td>\n",
              "      <td>0.921624</td>\n",
              "      <td>True</td>\n",
              "      <td>0.906078</td>\n",
              "      <td>4</td>\n",
              "      <td>True</td>\n",
              "      <td>0.933108</td>\n",
              "      <td>4</td>\n",
              "      <td>True</td>\n",
              "      <td>[[[-0.7033601, -0.45016873, -0.6576036], [-0.6...</td>\n",
              "      <td>False</td>\n",
              "    </tr>\n",
              "  </tbody>\n",
              "</table>\n",
              "</div>"
            ],
            "text/plain": [
              "   ys  subset  ...                                               imgs  subset_diff\n",
              "0   8    True  ...  [[[0.72536516, 0.90273434, 1.0514162], [0.8047...        False\n",
              "1   2    True  ...  [[[0.77298933, 0.75778043, 0.8115537], [0.7571...        False\n",
              "2   4    True  ...  [[[-0.7033601, -0.45016873, -0.6576036], [-0.6...        False\n",
              "\n",
              "[3 rows x 13 columns]"
            ]
          },
          "metadata": {
            "tags": []
          },
          "execution_count": 23
        }
      ]
    },
    {
      "cell_type": "code",
      "metadata": {
        "id": "5NwdNWroy4-x",
        "colab_type": "code",
        "outputId": "65c69a66-9550-4ebd-eefe-70441faa355d",
        "colab": {
          "base_uri": "https://localhost:8080/",
          "height": 497
        }
      },
      "source": [
        "print(\"Final confusion matrix-at softmax3\")\n",
        "visual_utils.plot_cm(all_df.ys, all_df.sm3_class)"
      ],
      "execution_count": 24,
      "outputs": [
        {
          "output_type": "stream",
          "text": [
            "Final confusion matrix-at softmax3\n"
          ],
          "name": "stdout"
        },
        {
          "output_type": "display_data",
          "data": {
            "image/png": "[encoded data removed]",
            "text/plain": [
              "<Figure size 720x504 with 2 Axes>"
            ]
          },
          "metadata": {
            "tags": []
          }
        }
      ]
    },
    {
      "cell_type": "code",
      "metadata": {
        "id": "SiSE_MZkzKh6",
        "colab_type": "code",
        "outputId": "526d008f-45b9-4831-a597-373032abc2bc",
        "colab": {
          "base_uri": "https://localhost:8080/",
          "height": 497
        }
      },
      "source": [
        "print(\"Confusion matrix-at softmax1\")\n",
        "visual_utils.plot_cm(all_df.ys, all_df.sm1_class)"
      ],
      "execution_count": 25,
      "outputs": [
        {
          "output_type": "stream",
          "text": [
            "Confusion matrix-at softmax1\n"
          ],
          "name": "stdout"
        },
        {
          "output_type": "display_data",
          "data": {
            "image/png": "[encoded data removed]",
            "text/plain": [
              "<Figure size 720x504 with 2 Axes>"
            ]
          },
          "metadata": {
            "tags": []
          }
        }
      ]
    },
    {
      "cell_type": "code",
      "metadata": {
        "id": "MRBp-Jk-zPSM",
        "colab_type": "code",
        "outputId": "8b08e005-80b3-479f-cd7d-bb4d579f54fe",
        "colab": {
          "base_uri": "https://localhost:8080/",
          "height": 497
        }
      },
      "source": [
        "print(\"Confusion matrix-at softmax2\")\n",
        "visual_utils.plot_cm(all_df.ys, all_df.sm2_class)"
      ],
      "execution_count": 26,
      "outputs": [
        {
          "output_type": "stream",
          "text": [
            "Confusion matrix-at softmax2\n"
          ],
          "name": "stdout"
        },
        {
          "output_type": "display_data",
          "data": {
            "image/png": "[encoded data removed]",
            "text/plain": [
              "<Figure size 720x504 with 2 Axes>"
            ]
          },
          "metadata": {
            "tags": []
          }
        }
      ]
    },
    {
      "cell_type": "markdown",
      "metadata": {
        "id": "QNShrd1_2K43",
        "colab_type": "text"
      },
      "source": [
        "**Voting accuracy**"
      ]
    },
    {
      "cell_type": "code",
      "metadata": {
        "id": "oGi9jKw21Pbj",
        "colab_type": "code",
        "outputId": "ab884c69-2259-4e31-d8e8-563512c67065",
        "colab": {
          "base_uri": "https://localhost:8080/",
          "height": 85
        }
      },
      "source": [
        "print(\"Accuracy calculated by voting results from 3 softmaxes.\\n \\\n",
        "Mode of predicted class is taken, if all3 are different then the last softmax prediction is taken\\n\")\n",
        "run_util.voting_accuracy(df=all_df, true_col=\"ys\", sm_class_colnames = [\"sm1_class\", \"sm2_class\", \"sm3_class\"])"
      ],
      "execution_count": 27,
      "outputs": [
        {
          "output_type": "stream",
          "text": [
            "Accuracy calculated by voting results from 3 softmaxes.\n",
            " Mode of predicted class is taken, if all3 are different then the last softmax prediction is taken\n",
            "\n"
          ],
          "name": "stdout"
        },
        {
          "output_type": "execute_result",
          "data": {
            "text/plain": [
              "0.9605"
            ]
          },
          "metadata": {
            "tags": []
          },
          "execution_count": 27
        }
      ]
    },
    {
      "cell_type": "markdown",
      "metadata": {
        "id": "ZWp_lXrRMf2x",
        "colab_type": "text"
      },
      "source": [
        "<a name=viz_differences></a>"
      ]
    },
    {
      "cell_type": "markdown",
      "metadata": {
        "id": "gp5uv5hamM_G",
        "colab_type": "text"
      },
      "source": [
        "# Visualizing Images. Difference b/w softmax1 and softmax3\n",
        "\n",
        "This set of viz has images with the following property\n",
        "\n",
        "1. All images where softmax1 is doing incorrectly but softmax3 is correct\n",
        "2. All images where softmax1 is doing correctly but softmax3 is not\n",
        "\n",
        "\n",
        "\n",
        "These are plotted one next to other for each class"
      ]
    },
    {
      "cell_type": "code",
      "metadata": {
        "id": "Ps37a0U1sIgb",
        "colab_type": "code",
        "colab": {}
      },
      "source": [
        "print(\"last softmax is softmax3, considered softmax is softmax1\\n\\\n",
        "predicted1 and prob1-softmax1\\n\\\n",
        "predicted2 and prob2-softmax2\\n\\\n",
        "predicted3 and prob3-softmax3\\n\\\n",
        "\")\n",
        "visual_utils.plot_diff(diff_df, sm_col=\"sm1_correct\", main_col=\"sm3_correct\",\n",
        "                       denormalize=True, ncols=20)"
      ],
      "execution_count": 0,
      "outputs": []
    },
    {
      "cell_type": "markdown",
      "metadata": {
        "id": "GwkXz38Kmips",
        "colab_type": "text"
      },
      "source": [
        "# Visualizing Images. Difference b/w softmax2 and softmax3\n",
        "\n",
        "This set of viz has images with the following property\n",
        "\n",
        "1. All images where softmax2 is doing incorrectly but softmax3 is correct\n",
        "2. All images where softmax2 is doing correctly but softmax3 is not\n",
        "\n",
        "\n",
        "\n",
        "These are plotted one next to other for each class"
      ]
    },
    {
      "cell_type": "code",
      "metadata": {
        "id": "-lPZAJrKmnHj",
        "colab_type": "code",
        "colab": {}
      },
      "source": [
        "print(\"last softmax is softmax3, considered softmax is softmax2\\n\\\n",
        "predicted1 and prob1-softmax1\\n\\\n",
        "predicted2 and prob2-softmax2\\n\\\n",
        "predicted3 and prob3-softmax3\\n\\\n",
        "\")\n",
        "\n",
        "visual_utils.plot_diff(diff_df,\n",
        "                       sm_col=\"sm2_correct\", main_col=\"sm3_correct\",\n",
        "                       img_col=\"imgs\",\n",
        "              true_col=\"ys\", \n",
        "              ncols=10,\n",
        "              denormalize=True)"
      ],
      "execution_count": 0,
      "outputs": []
    },
    {
      "cell_type": "markdown",
      "metadata": {
        "id": "PZ8D_BkMNN10",
        "colab_type": "text"
      },
      "source": [
        "<a name=viz_good_bad></a>"
      ]
    },
    {
      "cell_type": "markdown",
      "metadata": {
        "id": "Ssj1-Ckj5GL2",
        "colab_type": "text"
      },
      "source": [
        "# Good and Worse Predictions\n",
        "In this set of viz, images have following properties\n",
        "\n",
        "1. For a given softmax, predictions that are both correct and have high probability(Highly confident correct predictions)\n",
        "\n",
        "2. For a given softmax, predictions that are highly confident but for a wrong class.\n",
        "\n",
        "These are plotted row by for each class"
      ]
    },
    {
      "cell_type": "code",
      "metadata": {
        "id": "-DXkVFw-pHqR",
        "colab_type": "code",
        "colab": {}
      },
      "source": [
        "!git pull\n",
        "reload(visual_utils)"
      ],
      "execution_count": 0,
      "outputs": []
    },
    {
      "cell_type": "markdown",
      "metadata": {
        "id": "i25xxXDbL6RM",
        "colab_type": "text"
      },
      "source": [
        "**Softmax1- Good and worse predictions**"
      ]
    },
    {
      "cell_type": "code",
      "metadata": {
        "id": "VBmg6R53_80b",
        "colab_type": "code",
        "colab": {}
      },
      "source": [
        "visual_utils.plot_good_and_worst(df=all_df, sm_col=\"sm1_correct\", sm_class=\"sm1_class\", sm_prob=\"sm1_probs\",\n",
        "              img_col=\"imgs\",\n",
        "              true_col=\"ys\", \n",
        "              ncols=10,\n",
        "              denormalize=True,\n",
        "              CLASSWISE_SELECT_TOP_IMAGES = 10)"
      ],
      "execution_count": 0,
      "outputs": []
    },
    {
      "cell_type": "markdown",
      "metadata": {
        "id": "b8ECYPNFMWpB",
        "colab_type": "text"
      },
      "source": [
        "**Confusion matrix for softmax1**"
      ]
    },
    {
      "cell_type": "code",
      "metadata": {
        "id": "fRKHVDQ-MYM_",
        "colab_type": "code",
        "colab": {}
      },
      "source": [
        "visual_utils.plot_cm(all_df.ys, all_df.sm1_class)"
      ],
      "execution_count": 0,
      "outputs": []
    },
    {
      "cell_type": "markdown",
      "metadata": {
        "id": "wJPVlWdkMA6e",
        "colab_type": "text"
      },
      "source": [
        "**Softmax2- Good and worse predictions**"
      ]
    },
    {
      "cell_type": "code",
      "metadata": {
        "id": "O2i7AzEaAApx",
        "colab_type": "code",
        "colab": {}
      },
      "source": [
        "print(\"\\\n",
        "predicted1 and prob1-softmax1\\n\\\n",
        "predicted2 and prob2-softmax2\\n\\\n",
        "predicted3 and prob3-softmax3\\n\\\n",
        "\")\n",
        "\n",
        "visual_utils.plot_good_and_worst(df=all_df, sm_col=\"sm2_correct\", sm_class=\"sm2_class\", sm_prob=\"sm2_probs\",\n",
        "              img_col=\"imgs\",\n",
        "              true_col=\"ys\", \n",
        "              ncols=10,\n",
        "              denormalize=True,\n",
        "              CLASSWISE_SELECT_TOP_IMAGES = 10)"
      ],
      "execution_count": 0,
      "outputs": []
    },
    {
      "cell_type": "markdown",
      "metadata": {
        "id": "-MLw0sI6MOjR",
        "colab_type": "text"
      },
      "source": [
        "**Confusion matrix for softmax2**"
      ]
    },
    {
      "cell_type": "code",
      "metadata": {
        "id": "jynsaZbJn2mm",
        "colab_type": "code",
        "colab": {}
      },
      "source": [
        "visual_utils.plot_cm(all_df.ys, all_df.sm2_class)"
      ],
      "execution_count": 0,
      "outputs": []
    },
    {
      "cell_type": "markdown",
      "metadata": {
        "id": "J5ZsA3lN0O_c",
        "colab_type": "text"
      },
      "source": [
        "# Logs"
      ]
    },
    {
      "cell_type": "code",
      "metadata": {
        "id": "lfCbWsy20QAV",
        "colab_type": "code",
        "outputId": "1e691a9f-d80f-45ab-9b1d-7ce5a81a759d",
        "colab": {
          "base_uri": "https://localhost:8080/",
          "height": 649
        }
      },
      "source": [
        "import pandas as pd\n",
        "\n",
        "pd.read_csv(\"../data/run_logger.csv\").tail()"
      ],
      "execution_count": 19,
      "outputs": [
        {
          "output_type": "execute_result",
          "data": {
            "text/html": [
              "<div>\n",
              "<style scoped>\n",
              "    .dataframe tbody tr th:only-of-type {\n",
              "        vertical-align: middle;\n",
              "    }\n",
              "\n",
              "    .dataframe tbody tr th {\n",
              "        vertical-align: top;\n",
              "    }\n",
              "\n",
              "    .dataframe thead th {\n",
              "        text-align: right;\n",
              "    }\n",
              "</style>\n",
              "<table border=\"1\" class=\"dataframe\">\n",
              "  <thead>\n",
              "    <tr style=\"text-align: right;\">\n",
              "      <th></th>\n",
              "      <th>total_model_parameters</th>\n",
              "      <th>epochs</th>\n",
              "      <th>batch_size</th>\n",
              "      <th>max_lr</th>\n",
              "      <th>min_lr</th>\n",
              "      <th>anneal_perc</th>\n",
              "      <th>max_mom</th>\n",
              "      <th>min_mom</th>\n",
              "      <th>time_taken</th>\n",
              "      <th>train_acc</th>\n",
              "      <th>test_acc</th>\n",
              "      <th>wd</th>\n",
              "      <th>train_loss</th>\n",
              "      <th>test_loss</th>\n",
              "      <th>runs</th>\n",
              "      <th>log_time</th>\n",
              "      <th>comments</th>\n",
              "    </tr>\n",
              "  </thead>\n",
              "  <tbody>\n",
              "    <tr>\n",
              "      <th>128</th>\n",
              "      <td>7753792</td>\n",
              "      <td>24</td>\n",
              "      <td>512</td>\n",
              "      <td>0.4</td>\n",
              "      <td>0.000001</td>\n",
              "      <td>0.15</td>\n",
              "      <td>0.9</td>\n",
              "      <td>0.9</td>\n",
              "      <td>1684.865651</td>\n",
              "      <td>0.99144</td>\n",
              "      <td>0.9190</td>\n",
              "      <td>0.0005</td>\n",
              "      <td>0.031434</td>\n",
              "      <td>0.281703</td>\n",
              "      <td>{'epoch': [1, 2, 3, 4, 5, 6, 7, 8, 9, 10, 11, ...</td>\n",
              "      <td>2019-10-26 09:42:47</td>\n",
              "      <td>Zeedensenet multisoftmax, gap on channels, mul...</td>\n",
              "    </tr>\n",
              "    <tr>\n",
              "      <th>129</th>\n",
              "      <td>7753792</td>\n",
              "      <td>24</td>\n",
              "      <td>512</td>\n",
              "      <td>0.4</td>\n",
              "      <td>0.000001</td>\n",
              "      <td>0.15</td>\n",
              "      <td>0.9</td>\n",
              "      <td>0.9</td>\n",
              "      <td>1672.543345</td>\n",
              "      <td>0.97480</td>\n",
              "      <td>0.9270</td>\n",
              "      <td>0.0005</td>\n",
              "      <td>0.077110</td>\n",
              "      <td>0.233861</td>\n",
              "      <td>{'epoch': [1, 2, 3, 4, 5, 6, 7, 8, 9, 10, 11, ...</td>\n",
              "      <td>2019-10-26 10:13:04</td>\n",
              "      <td>Zeedensenet multisoftmax, gap on channels, mul...</td>\n",
              "    </tr>\n",
              "    <tr>\n",
              "      <th>130</th>\n",
              "      <td>6573120</td>\n",
              "      <td>24</td>\n",
              "      <td>512</td>\n",
              "      <td>0.4</td>\n",
              "      <td>0.000001</td>\n",
              "      <td>0.15</td>\n",
              "      <td>0.9</td>\n",
              "      <td>0.9</td>\n",
              "      <td>1506.610169</td>\n",
              "      <td>0.97014</td>\n",
              "      <td>0.9242</td>\n",
              "      <td>0.0005</td>\n",
              "      <td>0.093151</td>\n",
              "      <td>0.234870</td>\n",
              "      <td>{'epoch': [1, 2, 3, 4, 5, 6, 7, 8, 9, 10, 11, ...</td>\n",
              "      <td>2019-10-26 10:39:26</td>\n",
              "      <td>Zeedensenet multisoftmax, gap on channels, mul...</td>\n",
              "    </tr>\n",
              "    <tr>\n",
              "      <th>131</th>\n",
              "      <td>7764288</td>\n",
              "      <td>14</td>\n",
              "      <td>256</td>\n",
              "      <td>0.4</td>\n",
              "      <td>0.000001</td>\n",
              "      <td>0.15</td>\n",
              "      <td>0.9</td>\n",
              "      <td>0.9</td>\n",
              "      <td>2698.666154</td>\n",
              "      <td>0.93652</td>\n",
              "      <td>0.9123</td>\n",
              "      <td>0.0005</td>\n",
              "      <td>0.468918</td>\n",
              "      <td>0.538113</td>\n",
              "      <td>{'epoch': [1, 2, 3, 4, 5, 6, 7, 8, 9, 10, 11, ...</td>\n",
              "      <td>2019-10-26 12:52:29</td>\n",
              "      <td>Zeedensenet multisoftmax, gap on channels, mul...</td>\n",
              "    </tr>\n",
              "    <tr>\n",
              "      <th>132</th>\n",
              "      <td>7776448</td>\n",
              "      <td>14</td>\n",
              "      <td>256</td>\n",
              "      <td>0.4</td>\n",
              "      <td>0.000001</td>\n",
              "      <td>0.15</td>\n",
              "      <td>0.9</td>\n",
              "      <td>0.9</td>\n",
              "      <td>3265.721450</td>\n",
              "      <td>0.93866</td>\n",
              "      <td>0.9136</td>\n",
              "      <td>0.0005</td>\n",
              "      <td>0.428544</td>\n",
              "      <td>0.522061</td>\n",
              "      <td>{'epoch': [1, 2, 3, 4, 5, 6, 7, 8, 9, 10, 11, ...</td>\n",
              "      <td>2019-10-26 14:46:25</td>\n",
              "      <td>Zeedensenet multisoftmax, gap on channels, mul...</td>\n",
              "    </tr>\n",
              "  </tbody>\n",
              "</table>\n",
              "</div>"
            ],
            "text/plain": [
              "     total_model_parameters  ...                                           comments\n",
              "128                 7753792  ...  Zeedensenet multisoftmax, gap on channels, mul...\n",
              "129                 7753792  ...  Zeedensenet multisoftmax, gap on channels, mul...\n",
              "130                 6573120  ...  Zeedensenet multisoftmax, gap on channels, mul...\n",
              "131                 7764288  ...  Zeedensenet multisoftmax, gap on channels, mul...\n",
              "132                 7776448  ...  Zeedensenet multisoftmax, gap on channels, mul...\n",
              "\n",
              "[5 rows x 17 columns]"
            ]
          },
          "metadata": {
            "tags": []
          },
          "execution_count": 19
        }
      ]
    },
    {
      "cell_type": "code",
      "metadata": {
        "id": "hD19eiaMJesL",
        "colab_type": "code",
        "colab": {}
      },
      "source": [
        "obj.model.summary()"
      ],
      "execution_count": 0,
      "outputs": []
    }
  ]
}
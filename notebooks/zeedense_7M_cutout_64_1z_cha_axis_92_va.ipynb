{
  "nbformat": 4,
  "nbformat_minor": 0,
  "metadata": {
    "kernelspec": {
      "name": "python3",
      "display_name": "Python 3"
    },
    "language_info": {
      "codemirror_mode": {
        "name": "ipython",
        "version": 3
      },
      "file_extension": ".py",
      "mimetype": "text/x-python",
      "name": "python",
      "nbconvert_exporter": "python",
      "pygments_lexer": "ipython3",
      "version": "3.7.3"
    },
    "colab": {
      "name": "zeedense_7M_cutout_64_1z_cha_axis_92_va.ipynb",
      "provenance": [],
      "collapsed_sections": []
    },
    "accelerator": "GPU"
  },
  "cells": [
    {
      "cell_type": "markdown",
      "metadata": {
        "id": "AyG26cdLMvgc",
        "colab_type": "text"
      },
      "source": [
        "Contents:\n",
        "1. <a href=#data_dir>Set working dir and Clone from git hub(for first time)</a><br>\n",
        "2. <a href=#data_pipeline>Data Pipeline</a><br>\n",
        "3. <a href=#train>Train</a><br>\n",
        "4. <a href=#results>Results</a>\n",
        "5. <a href=#viz_differences>Visualizing Prediction differences at different softmaxes</a><br>\n",
        "6. <a href=#viz_good_bad>Visualizing highly confidenct correct and incorrect predictions</a><br>\n"
      ]
    },
    {
      "cell_type": "code",
      "metadata": {
        "scrolled": true,
        "id": "DJYux3EMFOhP",
        "colab_type": "code",
        "outputId": "78260b7e-05d8-47e2-bc21-eba8c192a2c7",
        "colab": {
          "base_uri": "https://localhost:8080/",
          "height": 153
        }
      },
      "source": [
        "%tensorflow_version 1.x\n",
        "import numpy as np\n",
        "\n",
        "import tensorflow as tf\n",
        "\n",
        "import numpy as np\n",
        "import time, math\n",
        "from tqdm import tqdm_notebook as tqdm\n",
        "\n",
        "\n",
        "import tensorflow.contrib.eager as tfe\n",
        "tf.enable_eager_execution()"
      ],
      "execution_count": 1,
      "outputs": [
        {
          "output_type": "stream",
          "text": [
            "WARNING:tensorflow:\n",
            "The TensorFlow contrib module will not be included in TensorFlow 2.0.\n",
            "For more information, please see:\n",
            "  * https://github.com/tensorflow/community/blob/master/rfcs/20180907-contrib-sunset.md\n",
            "  * https://github.com/tensorflow/addons\n",
            "  * https://github.com/tensorflow/io (for I/O related ops)\n",
            "If you depend on functionality not listed there, please file an issue.\n",
            "\n"
          ],
          "name": "stdout"
        }
      ]
    },
    {
      "cell_type": "markdown",
      "metadata": {
        "id": "07VfUccj4o2c",
        "colab_type": "text"
      },
      "source": [
        "<a name=data_dir></a>"
      ]
    },
    {
      "cell_type": "markdown",
      "metadata": {
        "id": "NoM07x5f4t-G",
        "colab_type": "text"
      },
      "source": [
        "# Data Directory Set Up. \n",
        "Clone from git if running for first time. Else git pull"
      ]
    },
    {
      "cell_type": "code",
      "metadata": {
        "id": "MiCclHjhFQ9P",
        "colab_type": "code",
        "outputId": "c898ae55-76b4-4a40-e2e1-a14be99437b3",
        "colab": {
          "base_uri": "https://localhost:8080/",
          "height": 51
        }
      },
      "source": [
        "import os\n",
        "os.getcwd()\n",
        "from google.colab import drive\n",
        "import os\n",
        "drive.mount('/content/gdrive')\n",
        "\n",
        "#IF YOU ARE CLONING FOR THE FIRST TIME in colab please uncomment all the below 5 lines of code. \n",
        "#Put git user name and password in appropriate places\n",
        "\n",
        "#root_path = 'gdrive/My Drive/Colab Notebooks/' #change dir to folder where you want to clone\n",
        "#os.chdir('/content/' + root_path)\n",
        "#!git clone https://<UR_GIT_USERNAME>:<GIT_PASSWORD>@github.com/selfishhari/eva_research_team4.git\n",
        "#!git branch -r | grep -v '\\->' | while read remote; do git branch --track \"${remote#origin/}\" \"$remote\"; done\n",
        "#!git checkout zeedense\n",
        "\n",
        "\n",
        "root_path = 'gdrive/My Drive/Colab Notebooks/eva_research_team4/src/' #change dir to your project folder's src\n",
        "\n",
        "os.chdir('/content/' + root_path)\n",
        "os.getcwd()"
      ],
      "execution_count": 2,
      "outputs": [
        {
          "output_type": "stream",
          "text": [
            "Drive already mounted at /content/gdrive; to attempt to forcibly remount, call drive.mount(\"/content/gdrive\", force_remount=True).\n"
          ],
          "name": "stdout"
        },
        {
          "output_type": "execute_result",
          "data": {
            "text/plain": [
              "'/content/gdrive/My Drive/Colab Notebooks/eva_research_team4/src'"
            ]
          },
          "metadata": {
            "tags": []
          },
          "execution_count": 2
        }
      ]
    },
    {
      "cell_type": "code",
      "metadata": {
        "id": "i5rEveGLmi6P",
        "colab_type": "code",
        "outputId": "2faff74d-c381-4e66-8c00-4166b30b4f0d",
        "colab": {
          "base_uri": "https://localhost:8080/",
          "height": 119
        }
      },
      "source": [
        "!git branch\n",
        "#YOU NEED TO BE ON \"zeedense\" branch"
      ],
      "execution_count": 3,
      "outputs": [
        {
          "output_type": "stream",
          "text": [
            "  augmentation\u001b[m\n",
            "  densenext\u001b[m\n",
            "  development\u001b[m\n",
            "  master\u001b[m\n",
            "  tfrecords_fix\u001b[m\n",
            "* \u001b[32mzeedense\u001b[m\n"
          ],
          "name": "stdout"
        }
      ]
    },
    {
      "cell_type": "code",
      "metadata": {
        "id": "RTPh1jRp6UXQ",
        "colab_type": "code",
        "outputId": "d619fc70-96e5-4259-fc20-7037f4213a68",
        "colab": {
          "base_uri": "https://localhost:8080/",
          "height": 34
        }
      },
      "source": [
        "!git pull"
      ],
      "execution_count": 4,
      "outputs": [
        {
          "output_type": "stream",
          "text": [
            "Already up to date.\n"
          ],
          "name": "stdout"
        }
      ]
    },
    {
      "cell_type": "code",
      "metadata": {
        "scrolled": false,
        "id": "r0VIENINFOhV",
        "colab_type": "code",
        "outputId": "36c9aa75-4dbd-4722-95a0-d81df305d86a",
        "colab": {
          "base_uri": "https://localhost:8080/",
          "height": 241
        }
      },
      "source": [
        "#from all_models import DavidNet\n",
        "\n",
        "\n",
        "import run_util\n",
        "\n",
        "\n",
        "from importlib import reload\n",
        "reload(run_util)\n",
        "\n",
        "from run_util import Run\n",
        "\n",
        "import data_pipeline\n",
        "\n",
        "reload(data_pipeline)\n",
        "\n",
        "from zeedensenet import ZeeDenseNet\n",
        "\n",
        "from augmentation_utils import cutout"
      ],
      "execution_count": 5,
      "outputs": [
        {
          "output_type": "stream",
          "text": [
            "WARNING:tensorflow:From /content/gdrive/My Drive/Colab Notebooks/eva_research_team4/src/run_util.py:149: The name tf.variable_scope is deprecated. Please use tf.compat.v1.variable_scope instead.\n",
            "\n",
            "WARNING:tensorflow:From /content/gdrive/My Drive/Colab Notebooks/eva_research_team4/src/run_util.py:149: The name tf.AUTO_REUSE is deprecated. Please use tf.compat.v1.AUTO_REUSE instead.\n",
            "\n",
            "WARNING:tensorflow:From /content/gdrive/My Drive/Colab Notebooks/eva_research_team4/src/run_util.py:151: The name tf.get_variable is deprecated. Please use tf.compat.v1.get_variable instead.\n",
            "\n"
          ],
          "name": "stdout"
        },
        {
          "output_type": "stream",
          "text": [
            "Using TensorFlow backend.\n"
          ],
          "name": "stderr"
        },
        {
          "output_type": "stream",
          "text": [
            "WARNING:tensorflow:From /content/gdrive/My Drive/Colab Notebooks/eva_research_team4/src/run_util.py:240: The name tf.train.MomentumOptimizer is deprecated. Please use tf.compat.v1.train.MomentumOptimizer instead.\n",
            "\n",
            "32 conv0.41928704132372785 (3, 3) (1, 1) same (1, 1) None glorot_uniform\n",
            "32 conv0.41928704132372785 (3, 3) (1, 1) same (1, 1) None glorot_uniform\n",
            "32 conv0.41928704132372785 (3, 3) (1, 1) same (1, 1) None glorot_uniform\n"
          ],
          "name": "stdout"
        }
      ]
    },
    {
      "cell_type": "markdown",
      "metadata": {
        "id": "zaN9dnSJNl49",
        "colab_type": "text"
      },
      "source": [
        "<a name=data_pipeline></a>"
      ]
    },
    {
      "cell_type": "markdown",
      "metadata": {
        "id": "wqZhQB0JNsqH",
        "colab_type": "text"
      },
      "source": [
        "# Data Pipeline"
      ]
    },
    {
      "cell_type": "code",
      "metadata": {
        "scrolled": true,
        "id": "DmYDmfSmFOhY",
        "colab_type": "code",
        "colab": {}
      },
      "source": [
        "data_pipeline.get_data(dataset_name = \"CIFAR10\", tfrecords_flag=True)"
      ],
      "execution_count": 0,
      "outputs": []
    },
    {
      "cell_type": "markdown",
      "metadata": {
        "id": "pn0w2lxiFOhh",
        "colab_type": "text"
      },
      "source": [
        "######"
      ]
    },
    {
      "cell_type": "code",
      "metadata": {
        "id": "1sK4c-9_7yLf",
        "colab_type": "code",
        "colab": {}
      },
      "source": [
        "train_mean = np.array([125.30691805, 122.95039414, 113.86538318])\n",
        "\n",
        "train_std= np.array([62.99321928, 62.08870764, 66.70489964])\n",
        "\n",
        "normalize = lambda x: ((x - train_mean) / train_std)\n",
        "\n",
        "def data_aug_train(x, y):\n",
        "    \n",
        "    #x = tf.image.per_image_standardization(x)\n",
        "    \n",
        "    x = normalize(x)\n",
        "        \n",
        "    #x = tf.image.random_flip_left_right(x)\n",
        "    \n",
        "    paddings = [(4, 4), (4, 4), (0, 0)]\n",
        "    \n",
        "    x = tf.pad(x, paddings, \"REFLECT\")\n",
        "    \n",
        "    x = tf.random_crop(x, [32, 32, 3])\n",
        "\n",
        "    x = tf.image.random_flip_left_right(x)\n",
        "\n",
        "    x = cutout(x)\n",
        "    \n",
        "    return (x, y)\n",
        "  \n",
        "def data_aug_test(x, y):\n",
        "    \n",
        "    #x = tf.image.per_image_standardization(x)\n",
        "    \n",
        "    x = normalize(x)\n",
        "        \n",
        "    #x = tf.image.random_flip_left_right(x)\n",
        "    \n",
        "    #paddings = [(4, 4), (4, 4), (0, 0)]\n",
        "    \n",
        "    #x = tf.pad(x, paddings, \"REFLECT\")\n",
        "    \n",
        "    #x = tf.random_crop(x, [32, 32, 3])\n",
        "    \n",
        "    return (x, y)"
      ],
      "execution_count": 0,
      "outputs": []
    },
    {
      "cell_type": "markdown",
      "metadata": {
        "id": "7pxTJ4I4NU2B",
        "colab_type": "text"
      },
      "source": [
        "<a name=train></a>"
      ]
    },
    {
      "cell_type": "markdown",
      "metadata": {
        "id": "zJ06Buu372fX",
        "colab_type": "text"
      },
      "source": [
        "# Train"
      ]
    },
    {
      "cell_type": "code",
      "metadata": {
        "id": "lz-kYEzMNhJQ",
        "colab_type": "code",
        "colab": {}
      },
      "source": [
        "obj = Run()"
      ],
      "execution_count": 0,
      "outputs": []
    },
    {
      "cell_type": "code",
      "metadata": {
        "id": "a-alAs-eJPTs",
        "colab_type": "code",
        "colab": {}
      },
      "source": [
        "BATCH_SIZE = 256 #@param {type:\"integer\"}\n",
        "MOMENTUM = 0.9 #@param {type:\"number\"}\n",
        "\n",
        "MIN_MOMENTUM = 0.9 #@param {type:\"number\"}\n",
        "LEARNING_RATE = 0.4 #@param {type:\"number\"}\n",
        "WEIGHT_DECAY = 5e-4 #@param {type:\"number\"}\n",
        "EPOCHS = 14 #@param {type:\"integer\"}\n",
        "HIGHEST_LR_EPOCH = 5#@param {type:\"integer\"}\n",
        "\n",
        "\n",
        "MIN_LEARNING_RATE = 0.000001 #@param {type:\"number\"}\n",
        "\n",
        "END_LR_SMOOTHING_PERC = 0.15 #@param {type:\"number\"}\n",
        "\n",
        "COMMENTS = \"Zeedensenet multisoftmax, gap on channels, multi_inference df\" #@param {type:\"string\"}\n",
        "\n",
        "\n",
        "params_tune = {\n",
        "    \n",
        "  \"epochs\":EPOCHS, \n",
        " \n",
        "  \"batch_size\" : BATCH_SIZE,\n",
        "\n",
        "  \"max_lr\": LEARNING_RATE,\n",
        "\n",
        "  \"min_lr\":MIN_LEARNING_RATE,\n",
        "\n",
        "  \"end_anneal_pc\":END_LR_SMOOTHING_PERC,\n",
        "\n",
        "  \"max_mom\":MOMENTUM,\n",
        " \n",
        "  \"min_mom\":MIN_MOMENTUM,\n",
        "\n",
        "  \"highest_lr_epoch\":HIGHEST_LR_EPOCH,\n",
        " \n",
        "  \"wd\":WEIGHT_DECAY,\n",
        "  \n",
        "  \"skip_testing_epochs\":0,\n",
        "    \n",
        "  \"batches_per_epoch\":50000//BATCH_SIZE,\n",
        "    \n",
        "  \"comments\":COMMENTS\n",
        "}"
      ],
      "execution_count": 0,
      "outputs": []
    },
    {
      "cell_type": "code",
      "metadata": {
        "id": "25iZ5W6fOK4k",
        "colab_type": "code",
        "colab": {}
      },
      "source": [
        "loaded_tfrecs = data_pipeline.load_tfrecords(params_tune[\"batch_size\"])\n",
        "\n",
        "train_dataset = loaded_tfrecs[\"train\"]\n",
        "\n",
        "eval_dataset = loaded_tfrecs[\"eval\"]"
      ],
      "execution_count": 0,
      "outputs": []
    },
    {
      "cell_type": "code",
      "metadata": {
        "id": "t6u8ypjZFOhi",
        "colab_type": "code",
        "colab": {}
      },
      "source": [
        "def tst_data_supplier(epoch_num):\n",
        "    \n",
        "    batch_size = params_tune[\"batch_size\"]\n",
        "    \n",
        "    global eval_dataset\n",
        "  \n",
        "    len_test = 10000\n",
        "\n",
        "    test_set = eval_dataset.map(data_aug_test).batch(batch_size).prefetch(1)\n",
        "    \n",
        "    return (test_set, len_test)\n",
        "\n",
        "def trn_data_supplier(epoch_num):\n",
        "    \n",
        "    batch_size = params_tune[\"batch_size\"]\n",
        "  \n",
        "    global train_dataset\n",
        "    \n",
        "    len_train = 50000\n",
        "\n",
        "    train_set = train_dataset.map(data_aug_train).batch(batch_size).prefetch(1)\n",
        "    \n",
        "    return (train_set, len_train)"
      ],
      "execution_count": 0,
      "outputs": []
    },
    {
      "cell_type": "code",
      "metadata": {
        "scrolled": false,
        "id": "GN0lpcbMFOhn",
        "colab_type": "code",
        "outputId": "a8a249de-6b86-4b92-a1c0-06f764518e69",
        "colab": {
          "base_uri": "https://localhost:8080/",
          "height": 632
        }
      },
      "source": [
        "#import cProfile\n",
        "model2 = ZeeDenseNet(f_filter=64,  \n",
        "                     dimensions_dict= {\"dimensions_to_sample\":(8,8)}, \n",
        "                     gap_mode=\"channel_axis\",\n",
        "                     layers_filters={0:64},\n",
        "                    multisoft_list = [0, 1, 2],\n",
        "                     roots_flag=False\n",
        "                    )\n",
        "x = obj.run(params_tune, trn_data_supplier, tst_data_supplier, model = model2)"
      ],
      "execution_count": 11,
      "outputs": [
        {
          "output_type": "stream",
          "text": [
            "64 0.022381356412534026conv (3, 3) (1, 1) same (1, 1) None glorot_uniform\n",
            "128 0.1689958845893288conv (3, 3) (1, 1) same (1, 1) None glorot_uniform\n",
            "128 0.09488975135955169conv (3, 3) (1, 1) same (1, 1) None glorot_uniform\n",
            "128 0.5757753673133665conv (3, 3) (1, 1) same (1, 1) None glorot_uniform\n",
            "256 0.09617793668958818conv (3, 3) (1, 1) same (1, 1) None glorot_uniform\n",
            "256 0.2988857911729401conv (3, 3) (1, 1) same (1, 1) None glorot_uniform\n",
            "256 0.41443934873301835conv (3, 3) (1, 1) same (1, 1) None glorot_uniform\n",
            "512 0.2792288229127844conv (3, 3) (1, 1) same (1, 1) None glorot_uniform\n",
            "512 0.6659744545557912conv (3, 3) (1, 1) same (1, 1) None glorot_uniform\n",
            "512 0.16633143466922795conv (3, 3) (1, 1) same (1, 1) None glorot_uniform\n",
            "64 0.34134701842848714conv (3, 3) (1, 1) same (2, 2) None glorot_uniform\n"
          ],
          "name": "stdout"
        },
        {
          "output_type": "display_data",
          "data": {
            "application/vnd.jupyter.widget-view+json": {
              "model_id": "891e5fd7b02e4a9ea072a647f898449a",
              "version_minor": 0,
              "version_major": 2
            },
            "text/plain": [
              "HBox(children=(IntProgress(value=0, max=14), HTML(value='')))"
            ]
          },
          "metadata": {
            "tags": []
          }
        },
        {
          "output_type": "stream",
          "text": [
            "WARNING:tensorflow:From /usr/local/lib/python3.6/dist-packages/tensorflow_core/python/autograph/converters/directives.py:119: The name tf.random_crop is deprecated. Please use tf.image.random_crop instead.\n",
            "\n",
            "WARNING:tensorflow:From /content/gdrive/My Drive/Colab Notebooks/eva_research_team4/src/augmentation_utils.py:21: where (from tensorflow.python.ops.array_ops) is deprecated and will be removed in a future version.\n",
            "Instructions for updating:\n",
            "Use tf.where in 2.0, which has the same broadcast rule as np.where\n",
            "epoch: 1 lr: 0.13333333333333333 train loss: 2.670 train acc:0.434 val loss: 2.377 val acc: 0.529 time:240.439\n",
            "epoch: 2 lr: 0.26666666666666666 train loss: 1.781 train acc:0.634 val loss: 2.614 val acc: 0.551 time:473.719\n",
            "epoch: 3 lr: 0.4 train loss: 1.385 train acc:0.723 val loss: 1.648 val acc: 0.678 time:708.823\n",
            "epoch: 4 lr: 0.35500000000000004 train loss: 1.103 train acc:0.786 val loss: 1.460 val acc: 0.713 time:940.389\n",
            "epoch: 5 lr: 0.31000000000000005 train loss: 0.932 train acc:0.823 val loss: 1.065 val acc: 0.792 time:1171.624\n",
            "epoch: 6 lr: 0.265 train loss: 0.820 train acc:0.846 val loss: 1.178 val acc: 0.779 time:1404.127\n",
            "epoch: 7 lr: 0.22000000000000003 train loss: 0.731 train acc:0.868 val loss: 0.895 val acc: 0.833 time:1637.068\n",
            "epoch: 8 lr: 0.17500000000000004 train loss: 0.653 train acc:0.883 val loss: 0.731 val acc: 0.871 time:1868.694\n",
            "epoch: 9 lr: 0.13 train loss: 0.582 train acc:0.902 val loss: 0.602 val acc: 0.895 time:2103.481\n",
            "epoch: 10 lr: 0.08500000000000002 train loss: 0.512 train acc:0.919 val loss: 0.560 val acc: 0.905 time:2335.627\n",
            "epoch: 11 lr: 0.04000000000000001 train loss: 0.476 train acc:0.928 val loss: 0.543 val acc: 0.908 time:2567.752\n",
            "epoch: 12 lr: 0.030000250000000006 train loss: 0.454 train acc:0.932 val loss: 0.527 val acc: 0.911 time:2800.487\n",
            "epoch: 13 lr: 0.020000500000000004 train loss: 0.430 train acc:0.937 val loss: 0.523 val acc: 0.914 time:3033.071\n",
            "epoch: 14 lr: 0.010000750000000003 train loss: 0.429 train acc:0.939 val loss: 0.522 val acc: 0.914 time:3265.711\n",
            "\n",
            "   total_model_parameters  ...                                           comments\n",
            "0                 7776448  ...  Zeedensenet multisoftmax, gap on channels, mul...\n",
            "\n",
            "[1 rows x 17 columns]\n"
          ],
          "name": "stdout"
        }
      ]
    },
    {
      "cell_type": "markdown",
      "metadata": {
        "id": "TsmkubSHPNat",
        "colab_type": "text"
      },
      "source": [
        "<a name=results></a>"
      ]
    },
    {
      "cell_type": "markdown",
      "metadata": {
        "id": "cdRwC1ooPeFH",
        "colab_type": "text"
      },
      "source": [
        "# Results"
      ]
    },
    {
      "cell_type": "code",
      "metadata": {
        "id": "Mhs0WxEho26V",
        "colab_type": "code",
        "outputId": "2bcd7c0f-150a-4fac-d9ba-8860785e3eb0",
        "colab": {
          "base_uri": "https://localhost:8080/",
          "height": 142
        }
      },
      "source": [
        "early_inf_df = run_util.early_inference_accuracy(obj.model,test_dataset = tst_data_supplier)\n",
        "\n",
        "early_inf_df"
      ],
      "execution_count": 15,
      "outputs": [
        {
          "output_type": "execute_result",
          "data": {
            "text/html": [
              "<div>\n",
              "<style scoped>\n",
              "    .dataframe tbody tr th:only-of-type {\n",
              "        vertical-align: middle;\n",
              "    }\n",
              "\n",
              "    .dataframe tbody tr th {\n",
              "        vertical-align: top;\n",
              "    }\n",
              "\n",
              "    .dataframe thead th {\n",
              "        text-align: right;\n",
              "    }\n",
              "</style>\n",
              "<table border=\"1\" class=\"dataframe\">\n",
              "  <thead>\n",
              "    <tr style=\"text-align: right;\">\n",
              "      <th></th>\n",
              "      <th>sm_level</th>\n",
              "      <th>accuracy</th>\n",
              "      <th>loss</th>\n",
              "      <th>inference_time</th>\n",
              "    </tr>\n",
              "  </thead>\n",
              "  <tbody>\n",
              "    <tr>\n",
              "      <th>0</th>\n",
              "      <td>sm1</td>\n",
              "      <td>0.619587</td>\n",
              "      <td>0.7868</td>\n",
              "      <td>0.000240</td>\n",
              "    </tr>\n",
              "    <tr>\n",
              "      <th>1</th>\n",
              "      <td>sm2</td>\n",
              "      <td>0.318625</td>\n",
              "      <td>0.8912</td>\n",
              "      <td>0.000488</td>\n",
              "    </tr>\n",
              "    <tr>\n",
              "      <th>2</th>\n",
              "      <td>sm3</td>\n",
              "      <td>0.256650</td>\n",
              "      <td>0.9120</td>\n",
              "      <td>0.000937</td>\n",
              "    </tr>\n",
              "  </tbody>\n",
              "</table>\n",
              "</div>"
            ],
            "text/plain": [
              "  sm_level  accuracy    loss  inference_time\n",
              "0      sm1  0.619587  0.7868        0.000240\n",
              "1      sm2  0.318625  0.8912        0.000488\n",
              "2      sm3  0.256650  0.9120        0.000937"
            ]
          },
          "metadata": {
            "tags": []
          },
          "execution_count": 15
        }
      ]
    },
    {
      "cell_type": "code",
      "metadata": {
        "id": "d1m64XJQzCOW",
        "colab_type": "code",
        "colab": {}
      },
      "source": [
        "import visual_utils\n",
        "reload(visual_utils)\n",
        "#diff_df = visual_utils.grab_different_imgs(obj.model, trn_data_supplier)\n",
        "\n",
        "all_df = visual_utils.grab_different_imgs(obj.model, trn_data_supplier, difference=False)\n",
        "\n",
        "class_names = ['airplane','automobile','bird','cat','deer',\n",
        "               'dog','frog','horse','ship','truck']\n",
        "diff_df = all_df\n",
        "\n",
        "diff_df[\"subset_diff\"] = False\n",
        "\n",
        "diff_df[\"subset_diff\"] = (diff_df[\"subset_diff\"]) | (diff_df.sm1_correct != diff_df.sm3_correct)\n",
        "\n",
        "diff_df[\"subset_diff\"] = (diff_df[\"subset_diff\"]) | (diff_df.sm2_correct != diff_df.sm3_correct)\n",
        "\n",
        "diff_df = diff_df.loc[diff_df.subset_diff==True,:].copy()"
      ],
      "execution_count": 0,
      "outputs": []
    },
    {
      "cell_type": "code",
      "metadata": {
        "id": "XSuEq-_v5QZm",
        "colab_type": "code",
        "outputId": "d7b86a9e-49a7-4819-f704-ee3226c5a0ff",
        "colab": {
          "base_uri": "https://localhost:8080/",
          "height": 315
        }
      },
      "source": [
        "all_df.head(3)"
      ],
      "execution_count": 13,
      "outputs": [
        {
          "output_type": "execute_result",
          "data": {
            "text/html": [
              "<div>\n",
              "<style scoped>\n",
              "    .dataframe tbody tr th:only-of-type {\n",
              "        vertical-align: middle;\n",
              "    }\n",
              "\n",
              "    .dataframe tbody tr th {\n",
              "        vertical-align: top;\n",
              "    }\n",
              "\n",
              "    .dataframe thead th {\n",
              "        text-align: right;\n",
              "    }\n",
              "</style>\n",
              "<table border=\"1\" class=\"dataframe\">\n",
              "  <thead>\n",
              "    <tr style=\"text-align: right;\">\n",
              "      <th></th>\n",
              "      <th>ys</th>\n",
              "      <th>subset</th>\n",
              "      <th>sm3_class</th>\n",
              "      <th>sm3_probs</th>\n",
              "      <th>sm3_correct</th>\n",
              "      <th>sm1_probs</th>\n",
              "      <th>sm1_class</th>\n",
              "      <th>sm1_correct</th>\n",
              "      <th>sm2_probs</th>\n",
              "      <th>sm2_class</th>\n",
              "      <th>sm2_correct</th>\n",
              "      <th>imgs</th>\n",
              "      <th>subset_diff</th>\n",
              "    </tr>\n",
              "  </thead>\n",
              "  <tbody>\n",
              "    <tr>\n",
              "      <th>0</th>\n",
              "      <td>9</td>\n",
              "      <td>True</td>\n",
              "      <td>9</td>\n",
              "      <td>0.999987</td>\n",
              "      <td>True</td>\n",
              "      <td>0.971605</td>\n",
              "      <td>9</td>\n",
              "      <td>True</td>\n",
              "      <td>0.991838</td>\n",
              "      <td>9</td>\n",
              "      <td>True</td>\n",
              "      <td>[[[1.8207211, 1.9335176, 1.9209175], [2.027092...</td>\n",
              "      <td>False</td>\n",
              "    </tr>\n",
              "    <tr>\n",
              "      <th>1</th>\n",
              "      <td>3</td>\n",
              "      <td>True</td>\n",
              "      <td>3</td>\n",
              "      <td>0.995742</td>\n",
              "      <td>True</td>\n",
              "      <td>0.671280</td>\n",
              "      <td>3</td>\n",
              "      <td>True</td>\n",
              "      <td>0.974596</td>\n",
              "      <td>3</td>\n",
              "      <td>True</td>\n",
              "      <td>[[[1.1063585, 1.0476882, 1.0664076], [1.153982...</td>\n",
              "      <td>False</td>\n",
              "    </tr>\n",
              "    <tr>\n",
              "      <th>2</th>\n",
              "      <td>0</td>\n",
              "      <td>True</td>\n",
              "      <td>0</td>\n",
              "      <td>0.991525</td>\n",
              "      <td>True</td>\n",
              "      <td>0.721996</td>\n",
              "      <td>0</td>\n",
              "      <td>True</td>\n",
              "      <td>0.631463</td>\n",
              "      <td>0</td>\n",
              "      <td>True</td>\n",
              "      <td>[[[-0.16361944, 0.6772505, 1.6810551], [-0.623...</td>\n",
              "      <td>False</td>\n",
              "    </tr>\n",
              "  </tbody>\n",
              "</table>\n",
              "</div>"
            ],
            "text/plain": [
              "   ys  subset  ...                                               imgs  subset_diff\n",
              "0   9    True  ...  [[[1.8207211, 1.9335176, 1.9209175], [2.027092...        False\n",
              "1   3    True  ...  [[[1.1063585, 1.0476882, 1.0664076], [1.153982...        False\n",
              "2   0    True  ...  [[[-0.16361944, 0.6772505, 1.6810551], [-0.623...        False\n",
              "\n",
              "[3 rows x 13 columns]"
            ]
          },
          "metadata": {
            "tags": []
          },
          "execution_count": 13
        }
      ]
    },
    {
      "cell_type": "code",
      "metadata": {
        "id": "5NwdNWroy4-x",
        "colab_type": "code",
        "outputId": "86821982-b080-442e-aafa-545f54ac659d",
        "colab": {
          "base_uri": "https://localhost:8080/",
          "height": 497
        }
      },
      "source": [
        "print(\"Final confusion matrix-at softmax3\")\n",
        "visual_utils.plot_cm(all_df.ys, all_df.sm3_class)"
      ],
      "execution_count": 14,
      "outputs": [
        {
          "output_type": "stream",
          "text": [
            "Final confusion matrix-at softmax3\n"
          ],
          "name": "stdout"
        },
        {
          "output_type": "display_data",
          "data": {
            "image/png": "[encoded data removed]",
            "text/plain": [
              "<Figure size 720x504 with 2 Axes>"
            ]
          },
          "metadata": {
            "tags": []
          }
        }
      ]
    },
    {
      "cell_type": "code",
      "metadata": {
        "id": "SiSE_MZkzKh6",
        "colab_type": "code",
        "outputId": "c898323d-71f9-438e-ced6-2ab7c5e501fe",
        "colab": {
          "base_uri": "https://localhost:8080/",
          "height": 497
        }
      },
      "source": [
        "print(\"Confusion matrix-at softmax1\")\n",
        "visual_utils.plot_cm(all_df.ys, all_df.sm1_class)"
      ],
      "execution_count": 15,
      "outputs": [
        {
          "output_type": "stream",
          "text": [
            "Confusion matrix-at softmax1\n"
          ],
          "name": "stdout"
        },
        {
          "output_type": "display_data",
          "data": {
            "image/png": "[encoded data removed]",
            "text/plain": [
              "<Figure size 720x504 with 2 Axes>"
            ]
          },
          "metadata": {
            "tags": []
          }
        }
      ]
    },
    {
      "cell_type": "code",
      "metadata": {
        "id": "MRBp-Jk-zPSM",
        "colab_type": "code",
        "outputId": "984cbf79-3d5d-46a4-d905-f5ad3940b18a",
        "colab": {
          "base_uri": "https://localhost:8080/",
          "height": 497
        }
      },
      "source": [
        "print(\"Confusion matrix-at softmax2\")\n",
        "visual_utils.plot_cm(all_df.ys, all_df.sm2_class)"
      ],
      "execution_count": 16,
      "outputs": [
        {
          "output_type": "stream",
          "text": [
            "Confusion matrix-at softmax2\n"
          ],
          "name": "stdout"
        },
        {
          "output_type": "display_data",
          "data": {
            "image/png": "[encoded data removed]",
            "text/plain": [
              "<Figure size 720x504 with 2 Axes>"
            ]
          },
          "metadata": {
            "tags": []
          }
        }
      ]
    },
    {
      "cell_type": "markdown",
      "metadata": {
        "id": "QNShrd1_2K43",
        "colab_type": "text"
      },
      "source": [
        "**Voting accuracy**"
      ]
    },
    {
      "cell_type": "code",
      "metadata": {
        "id": "oGi9jKw21Pbj",
        "colab_type": "code",
        "outputId": "57af75e6-d94f-4b87-ff86-5e24d9cd3a51",
        "colab": {
          "base_uri": "https://localhost:8080/",
          "height": 85
        }
      },
      "source": [
        "print(\"Accuracy calculated by voting results from 3 softmaxes.\\n \\\n",
        "Mode of predicted class is taken, if all3 are different then the last softmax prediction is taken\\n\")\n",
        "run_util.voting_accuracy(df=all_df, true_col=\"ys\", sm_class_colnames = [\"sm1_class\", \"sm2_class\", \"sm3_class\"])"
      ],
      "execution_count": 18,
      "outputs": [
        {
          "output_type": "stream",
          "text": [
            "Accuracy calculated by voting results from 3 softmaxes.\n",
            " Mode of predicted class is taken, if all3 are different then the last softmax prediction is taken\n",
            "\n"
          ],
          "name": "stdout"
        },
        {
          "output_type": "execute_result",
          "data": {
            "text/plain": [
              "0.92036"
            ]
          },
          "metadata": {
            "tags": []
          },
          "execution_count": 18
        }
      ]
    },
    {
      "cell_type": "markdown",
      "metadata": {
        "id": "ZWp_lXrRMf2x",
        "colab_type": "text"
      },
      "source": [
        "<a name=viz_differences></a>"
      ]
    },
    {
      "cell_type": "markdown",
      "metadata": {
        "id": "gp5uv5hamM_G",
        "colab_type": "text"
      },
      "source": [
        "# Visualizing Images. Difference b/w softmax1 and softmax3\n",
        "\n",
        "This set of viz has images with the following property\n",
        "\n",
        "1. All images where softmax1 is doing incorrectly but softmax3 is correct\n",
        "2. All images where softmax1 is doing correctly but softmax3 is not\n",
        "\n",
        "\n",
        "\n",
        "These are plotted one next to other for each class"
      ]
    },
    {
      "cell_type": "code",
      "metadata": {
        "id": "Ps37a0U1sIgb",
        "colab_type": "code",
        "colab": {}
      },
      "source": [
        "print(\"last softmax is softmax3, considered softmax is softmax1\\n\\\n",
        "predicted1 and prob1-softmax1\\n\\\n",
        "predicted2 and prob2-softmax2\\n\\\n",
        "predicted3 and prob3-softmax3\\n\\\n",
        "\")\n",
        "visual_utils.plot_diff(diff_df, sm_col=\"sm1_correct\", main_col=\"sm3_correct\",\n",
        "                       denormalize=True, ncols=20)"
      ],
      "execution_count": 0,
      "outputs": []
    },
    {
      "cell_type": "markdown",
      "metadata": {
        "id": "GwkXz38Kmips",
        "colab_type": "text"
      },
      "source": [
        "# Visualizing Images. Difference b/w softmax2 and softmax3\n",
        "\n",
        "This set of viz has images with the following property\n",
        "\n",
        "1. All images where softmax2 is doing incorrectly but softmax3 is correct\n",
        "2. All images where softmax2 is doing correctly but softmax3 is not\n",
        "\n",
        "\n",
        "\n",
        "These are plotted one next to other for each class"
      ]
    },
    {
      "cell_type": "code",
      "metadata": {
        "id": "-lPZAJrKmnHj",
        "colab_type": "code",
        "colab": {}
      },
      "source": [
        "print(\"last softmax is softmax3, considered softmax is softmax2\\n\\\n",
        "predicted1 and prob1-softmax1\\n\\\n",
        "predicted2 and prob2-softmax2\\n\\\n",
        "predicted3 and prob3-softmax3\\n\\\n",
        "\")\n",
        "\n",
        "visual_utils.plot_diff(diff_df,\n",
        "                       sm_col=\"sm2_correct\", main_col=\"sm3_correct\",\n",
        "                       img_col=\"imgs\",\n",
        "              true_col=\"ys\", \n",
        "              ncols=10,\n",
        "              denormalize=True)"
      ],
      "execution_count": 0,
      "outputs": []
    },
    {
      "cell_type": "markdown",
      "metadata": {
        "id": "PZ8D_BkMNN10",
        "colab_type": "text"
      },
      "source": [
        "<a name=viz_good_bad></a>"
      ]
    },
    {
      "cell_type": "markdown",
      "metadata": {
        "id": "Ssj1-Ckj5GL2",
        "colab_type": "text"
      },
      "source": [
        "# Good and Worse Predictions\n",
        "In this set of viz, images have following properties\n",
        "\n",
        "1. For a given softmax, predictions that are both correct and have high probability(Highly confident correct predictions)\n",
        "\n",
        "2. For a given softmax, predictions that are highly confident but for a wrong class.\n",
        "\n",
        "These are plotted row by for each class"
      ]
    },
    {
      "cell_type": "code",
      "metadata": {
        "id": "-DXkVFw-pHqR",
        "colab_type": "code",
        "colab": {}
      },
      "source": [
        "!git pull\n",
        "reload(visual_utils)"
      ],
      "execution_count": 0,
      "outputs": []
    },
    {
      "cell_type": "markdown",
      "metadata": {
        "id": "i25xxXDbL6RM",
        "colab_type": "text"
      },
      "source": [
        "**Softmax1- Good and worse predictions**"
      ]
    },
    {
      "cell_type": "code",
      "metadata": {
        "id": "VBmg6R53_80b",
        "colab_type": "code",
        "colab": {}
      },
      "source": [
        "visual_utils.plot_good_and_worst(df=all_df, sm_col=\"sm1_correct\", sm_class=\"sm1_class\", sm_prob=\"sm1_probs\",\n",
        "              img_col=\"imgs\",\n",
        "              true_col=\"ys\", \n",
        "              ncols=10,\n",
        "              denormalize=True,\n",
        "              CLASSWISE_SELECT_TOP_IMAGES = 10)"
      ],
      "execution_count": 0,
      "outputs": []
    },
    {
      "cell_type": "markdown",
      "metadata": {
        "id": "b8ECYPNFMWpB",
        "colab_type": "text"
      },
      "source": [
        "**Confusion matrix for softmax1**"
      ]
    },
    {
      "cell_type": "code",
      "metadata": {
        "id": "fRKHVDQ-MYM_",
        "colab_type": "code",
        "colab": {}
      },
      "source": [
        "visual_utils.plot_cm(all_df.ys, all_df.sm1_class)"
      ],
      "execution_count": 0,
      "outputs": []
    },
    {
      "cell_type": "markdown",
      "metadata": {
        "id": "wJPVlWdkMA6e",
        "colab_type": "text"
      },
      "source": [
        "**Softmax2- Good and worse predictions**"
      ]
    },
    {
      "cell_type": "code",
      "metadata": {
        "id": "O2i7AzEaAApx",
        "colab_type": "code",
        "colab": {}
      },
      "source": [
        "print(\"\\\n",
        "predicted1 and prob1-softmax1\\n\\\n",
        "predicted2 and prob2-softmax2\\n\\\n",
        "predicted3 and prob3-softmax3\\n\\\n",
        "\")\n",
        "\n",
        "visual_utils.plot_good_and_worst(df=all_df, sm_col=\"sm2_correct\", sm_class=\"sm2_class\", sm_prob=\"sm2_probs\",\n",
        "              img_col=\"imgs\",\n",
        "              true_col=\"ys\", \n",
        "              ncols=10,\n",
        "              denormalize=True,\n",
        "              CLASSWISE_SELECT_TOP_IMAGES = 10)"
      ],
      "execution_count": 0,
      "outputs": []
    },
    {
      "cell_type": "markdown",
      "metadata": {
        "id": "-MLw0sI6MOjR",
        "colab_type": "text"
      },
      "source": [
        "**Confusion matrix for softmax2**"
      ]
    },
    {
      "cell_type": "code",
      "metadata": {
        "id": "jynsaZbJn2mm",
        "colab_type": "code",
        "colab": {}
      },
      "source": [
        "visual_utils.plot_cm(all_df.ys, all_df.sm2_class)"
      ],
      "execution_count": 0,
      "outputs": []
    },
    {
      "cell_type": "markdown",
      "metadata": {
        "id": "J5ZsA3lN0O_c",
        "colab_type": "text"
      },
      "source": [
        "# Logs"
      ]
    },
    {
      "cell_type": "code",
      "metadata": {
        "id": "lfCbWsy20QAV",
        "colab_type": "code",
        "outputId": "1e691a9f-d80f-45ab-9b1d-7ce5a81a759d",
        "colab": {
          "base_uri": "https://localhost:8080/",
          "height": 649
        }
      },
      "source": [
        "import pandas as pd\n",
        "\n",
        "pd.read_csv(\"../data/run_logger.csv\").tail()"
      ],
      "execution_count": 19,
      "outputs": [
        {
          "output_type": "execute_result",
          "data": {
            "text/html": [
              "<div>\n",
              "<style scoped>\n",
              "    .dataframe tbody tr th:only-of-type {\n",
              "        vertical-align: middle;\n",
              "    }\n",
              "\n",
              "    .dataframe tbody tr th {\n",
              "        vertical-align: top;\n",
              "    }\n",
              "\n",
              "    .dataframe thead th {\n",
              "        text-align: right;\n",
              "    }\n",
              "</style>\n",
              "<table border=\"1\" class=\"dataframe\">\n",
              "  <thead>\n",
              "    <tr style=\"text-align: right;\">\n",
              "      <th></th>\n",
              "      <th>total_model_parameters</th>\n",
              "      <th>epochs</th>\n",
              "      <th>batch_size</th>\n",
              "      <th>max_lr</th>\n",
              "      <th>min_lr</th>\n",
              "      <th>anneal_perc</th>\n",
              "      <th>max_mom</th>\n",
              "      <th>min_mom</th>\n",
              "      <th>time_taken</th>\n",
              "      <th>train_acc</th>\n",
              "      <th>test_acc</th>\n",
              "      <th>wd</th>\n",
              "      <th>train_loss</th>\n",
              "      <th>test_loss</th>\n",
              "      <th>runs</th>\n",
              "      <th>log_time</th>\n",
              "      <th>comments</th>\n",
              "    </tr>\n",
              "  </thead>\n",
              "  <tbody>\n",
              "    <tr>\n",
              "      <th>128</th>\n",
              "      <td>7753792</td>\n",
              "      <td>24</td>\n",
              "      <td>512</td>\n",
              "      <td>0.4</td>\n",
              "      <td>0.000001</td>\n",
              "      <td>0.15</td>\n",
              "      <td>0.9</td>\n",
              "      <td>0.9</td>\n",
              "      <td>1684.865651</td>\n",
              "      <td>0.99144</td>\n",
              "      <td>0.9190</td>\n",
              "      <td>0.0005</td>\n",
              "      <td>0.031434</td>\n",
              "      <td>0.281703</td>\n",
              "      <td>{'epoch': [1, 2, 3, 4, 5, 6, 7, 8, 9, 10, 11, ...</td>\n",
              "      <td>2019-10-26 09:42:47</td>\n",
              "      <td>Zeedensenet multisoftmax, gap on channels, mul...</td>\n",
              "    </tr>\n",
              "    <tr>\n",
              "      <th>129</th>\n",
              "      <td>7753792</td>\n",
              "      <td>24</td>\n",
              "      <td>512</td>\n",
              "      <td>0.4</td>\n",
              "      <td>0.000001</td>\n",
              "      <td>0.15</td>\n",
              "      <td>0.9</td>\n",
              "      <td>0.9</td>\n",
              "      <td>1672.543345</td>\n",
              "      <td>0.97480</td>\n",
              "      <td>0.9270</td>\n",
              "      <td>0.0005</td>\n",
              "      <td>0.077110</td>\n",
              "      <td>0.233861</td>\n",
              "      <td>{'epoch': [1, 2, 3, 4, 5, 6, 7, 8, 9, 10, 11, ...</td>\n",
              "      <td>2019-10-26 10:13:04</td>\n",
              "      <td>Zeedensenet multisoftmax, gap on channels, mul...</td>\n",
              "    </tr>\n",
              "    <tr>\n",
              "      <th>130</th>\n",
              "      <td>6573120</td>\n",
              "      <td>24</td>\n",
              "      <td>512</td>\n",
              "      <td>0.4</td>\n",
              "      <td>0.000001</td>\n",
              "      <td>0.15</td>\n",
              "      <td>0.9</td>\n",
              "      <td>0.9</td>\n",
              "      <td>1506.610169</td>\n",
              "      <td>0.97014</td>\n",
              "      <td>0.9242</td>\n",
              "      <td>0.0005</td>\n",
              "      <td>0.093151</td>\n",
              "      <td>0.234870</td>\n",
              "      <td>{'epoch': [1, 2, 3, 4, 5, 6, 7, 8, 9, 10, 11, ...</td>\n",
              "      <td>2019-10-26 10:39:26</td>\n",
              "      <td>Zeedensenet multisoftmax, gap on channels, mul...</td>\n",
              "    </tr>\n",
              "    <tr>\n",
              "      <th>131</th>\n",
              "      <td>7764288</td>\n",
              "      <td>14</td>\n",
              "      <td>256</td>\n",
              "      <td>0.4</td>\n",
              "      <td>0.000001</td>\n",
              "      <td>0.15</td>\n",
              "      <td>0.9</td>\n",
              "      <td>0.9</td>\n",
              "      <td>2698.666154</td>\n",
              "      <td>0.93652</td>\n",
              "      <td>0.9123</td>\n",
              "      <td>0.0005</td>\n",
              "      <td>0.468918</td>\n",
              "      <td>0.538113</td>\n",
              "      <td>{'epoch': [1, 2, 3, 4, 5, 6, 7, 8, 9, 10, 11, ...</td>\n",
              "      <td>2019-10-26 12:52:29</td>\n",
              "      <td>Zeedensenet multisoftmax, gap on channels, mul...</td>\n",
              "    </tr>\n",
              "    <tr>\n",
              "      <th>132</th>\n",
              "      <td>7776448</td>\n",
              "      <td>14</td>\n",
              "      <td>256</td>\n",
              "      <td>0.4</td>\n",
              "      <td>0.000001</td>\n",
              "      <td>0.15</td>\n",
              "      <td>0.9</td>\n",
              "      <td>0.9</td>\n",
              "      <td>3265.721450</td>\n",
              "      <td>0.93866</td>\n",
              "      <td>0.9136</td>\n",
              "      <td>0.0005</td>\n",
              "      <td>0.428544</td>\n",
              "      <td>0.522061</td>\n",
              "      <td>{'epoch': [1, 2, 3, 4, 5, 6, 7, 8, 9, 10, 11, ...</td>\n",
              "      <td>2019-10-26 14:46:25</td>\n",
              "      <td>Zeedensenet multisoftmax, gap on channels, mul...</td>\n",
              "    </tr>\n",
              "  </tbody>\n",
              "</table>\n",
              "</div>"
            ],
            "text/plain": [
              "     total_model_parameters  ...                                           comments\n",
              "128                 7753792  ...  Zeedensenet multisoftmax, gap on channels, mul...\n",
              "129                 7753792  ...  Zeedensenet multisoftmax, gap on channels, mul...\n",
              "130                 6573120  ...  Zeedensenet multisoftmax, gap on channels, mul...\n",
              "131                 7764288  ...  Zeedensenet multisoftmax, gap on channels, mul...\n",
              "132                 7776448  ...  Zeedensenet multisoftmax, gap on channels, mul...\n",
              "\n",
              "[5 rows x 17 columns]"
            ]
          },
          "metadata": {
            "tags": []
          },
          "execution_count": 19
        }
      ]
    },
    {
      "cell_type": "code",
      "metadata": {
        "id": "hD19eiaMJesL",
        "colab_type": "code",
        "colab": {}
      },
      "source": [
        "obj.model.summary()"
      ],
      "execution_count": 0,
      "outputs": []
    }
  ]
}